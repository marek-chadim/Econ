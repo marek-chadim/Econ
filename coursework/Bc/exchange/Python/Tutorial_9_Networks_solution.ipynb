{
  "cells": [
    {
      "attachments": {},
      "cell_type": "markdown",
      "metadata": {
        "id": "ht1_86nKiCJt"
      },
      "source": [
        "# EXERCISE 1\n",
        "Often in the context of trees(a graph without circle), a node with degree 1 is called a leaf. Write a function named get_leaves that takes a graph as an argument, loops through the nodes, and returns a list of nodes with degree 1.\n",
        "\n",
        "first create a graph with edge list: [\n",
        "        ('a', 'b'),\n",
        "        ('a', 'd'),\n",
        "        ('c', 'd'),\n",
        "    ]"
      ]
    },
    {
      "cell_type": "code",
      "execution_count": 1,
      "metadata": {
        "colab": {
          "base_uri": "https://localhost:8080/"
        },
        "id": "z2LMDiHmnOvi",
        "outputId": "36599466-143d-4d2c-de7f-3824db07de4e"
      },
      "outputs": [
        {
          "name": "stdout",
          "output_type": "stream",
          "text": [
            "['a', 'b', 'd', 'c']\n",
            "b\n",
            "c\n"
          ]
        }
      ],
      "source": [
        "import networkx as nx\n",
        "\n",
        "G = nx.Graph()\n",
        "G.add_edges_from([\n",
        "        ('a', 'b'),\n",
        "        ('a', 'd'),\n",
        "        ('c', 'd'),\n",
        "    ])\n",
        "\n",
        "\n",
        "def get_leaves(G):\n",
        "  nodes = G.nodes\n",
        "  print(nodes)\n",
        "  for node in nodes:\n",
        "    if G.degree(node)==1:\n",
        "      print(node)\n",
        "\n",
        "get_leaves(G)"
      ]
    },
    {
      "cell_type": "code",
      "execution_count": 2,
      "metadata": {},
      "outputs": [
        {
          "data": {
            "image/png": "[encoded data removed]",
            "text/plain": [
              "<Figure size 640x480 with 1 Axes>"
            ]
          },
          "metadata": {},
          "output_type": "display_data"
        }
      ],
      "source": [
        "nx.draw(G, with_labels=True)"
      ]
    },
    {
      "attachments": {},
      "cell_type": "markdown",
      "metadata": {
        "id": "U_4V8yH-iZGc"
      },
      "source": [
        "# EXERCISE 2\n",
        "\n",
        "Write a function max_degree that takes a graph as its argument, and returns a 2-tuple with the name and degree of the node with highest degree.\n",
        "\n",
        "friends.adjlist\n",
        "\n",
        "```\n",
        "George Frank Dennis\n",
        "Dennis Claire Esther\n",
        "Claire Frank Alice Esther\n",
        "Bob Alice\n",
        "Frank Alice\n",
        "Alice\n",
        "Esther\n",
        "Shelly\n",
        "```\n",
        "**hints**:\n",
        "1. create a file with name  \"friends.adjlist\" and above content.\n",
        "2. use function \"nx.read_adjlist('file path')\" to read file."
      ]
    },
    {
      "cell_type": "code",
      "execution_count": 3,
      "metadata": {
        "colab": {
          "base_uri": "https://localhost:8080/",
          "height": 405
        },
        "id": "GCCeX8kpnPY0",
        "outputId": "93ed034c-b4d8-4228-d12d-2f52e05593f0"
      },
      "outputs": [
        {
          "name": "stdout",
          "output_type": "stream",
          "text": [
            "{'George': 2, 'Frank': 3, 'Dennis': 3, 'Claire': 4, 'Esther': 2, 'Alice': 3, 'Bob': 1, 'Shelly': 0}\n",
            "the name and degree of the node with highest degree: ('Claire', 4)\n"
          ]
        }
      ],
      "source": [
        "G = nx.read_adjlist('friends.adjlist.txt')\n",
        "def max_degree(G):\n",
        "  nodes = G.nodes\n",
        "  s ={}\n",
        "  for node in nodes:\n",
        "    s.update([(node,G.degree(node))])\n",
        "  print(s)\n",
        "#with defining lambda, you specify the object property you want to sort \n",
        "  sorteds = sorted(s.items(), key=lambda x: x[1], reverse=True)\n",
        "  print(\"the name and degree of the node with highest degree:\" , sorteds[0])\n",
        "max_degree(G)"
      ]
    },
    {
      "attachments": {},
      "cell_type": "markdown",
      "metadata": {
        "id": "vqNtpWiviZkA"
      },
      "source": [
        "# EXERCISE 3\n",
        "Write a function mutual_friends that takes a graph and two nodes as arguments, and returns a list (or set) of nodes that are linked to both given nodes. For example, in the graph SG with friends.adjlist we have:\n",
        "\n",
        "mutual_friends(SG, 'Alice', 'Claire') == ['Frank']\n",
        "\n",
        "an empty list or set should be returned in the case where two nodes have no mutual friends, e.g. George and Bob in SG."
      ]
    },
    {
      "cell_type": "code",
      "execution_count": 4,
      "metadata": {
        "colab": {
          "base_uri": "https://localhost:8080/",
          "height": 405
        },
        "id": "jUMEO4mjnQA1",
        "outputId": "7246d108-a7e2-4410-c852-e6abbba36e26"
      },
      "outputs": [
        {
          "data": {
            "text/plain": [
              "{'Frank'}"
            ]
          },
          "execution_count": 4,
          "metadata": {},
          "output_type": "execute_result"
        }
      ],
      "source": [
        "SG = nx.read_adjlist('friends.adjlist.txt')\n",
        "\n",
        "def mutual_friends(G, node_1, node_2):\n",
        "  node_1_neighbors = set(G.neighbors(node_1))\n",
        "  node_2_neighbors = set(G.neighbors(node_2))\n",
        "  common = set.intersection(node_1_neighbors, node_2_neighbors)\n",
        "  return common\n",
        "# mutual_friends(SG, 'George', 'Bob')\n",
        "# mutual_friends(SG, 'Claire', 'George')\n",
        "mutual_friends(SG, 'Alice', 'Claire')"
      ]
    },
    {
      "attachments": {},
      "cell_type": "markdown",
      "metadata": {
        "id": "YMqbRerFmOMT"
      },
      "source": [
        "# Flight Dataset\n",
        "\n",
        "*The nodes in this graph are USA airports, represented by their [IATA](https://en.wikipedia.org/wiki/List_of_airports_by_IATA_airport_code:_A) codes; two nodes are connected with an edge if there is a scheduled flight directly connecting these two airports. The graph is undirected since a flight in one direction usually means there is a return flight.*\n",
        "\n",
        "Solve Exercise 4 & 5 & 6 using this dataset\n"
      ]
    },
    {
      "attachments": {},
      "cell_type": "markdown",
      "metadata": {
        "id": "Ivvf8eRFEn-u"
      },
      "source": [
        "# EXERCISE 4\n",
        "Is there a direct flight between Indianapolis and Fairbanks, Alaska (FAI)? A direct flight is one with no intermediate stops."
      ]
    },
    {
      "cell_type": "code",
      "execution_count": 5,
      "metadata": {
        "colab": {
          "base_uri": "https://localhost:8080/",
          "height": 423
        },
        "id": "steOuzJ5nQiz",
        "outputId": "56a86916-b6e0-4541-ed3f-017336118218"
      },
      "outputs": [
        {
          "name": "stdout",
          "output_type": "stream",
          "text": [
            "there is not a direct flight between Indianapolis and Fairbanks, Alaska\n"
          ]
        }
      ],
      "source": [
        "import networkx as nx\n",
        "G = nx.read_graphml('datasets\\openflights_usa.graphml.gz')\n",
        "shortest = nx.shortest_path_length(G, 'IND', 'FAI')\n",
        "if shortest == 1:\n",
        "   print('there is a direct flight between Indianapolis and Fairbanks, Alaska ' )\n",
        "\n",
        "else:\n",
        "   print(\"there is not a direct flight between Indianapolis and Fairbanks, Alaska\")\n"
      ]
    },
    {
      "attachments": {},
      "cell_type": "markdown",
      "metadata": {
        "id": "p0-OoYsKm48o"
      },
      "source": [
        "#EXERCISE 5 \n",
        "If I wanted to fly from Indianapolis to Fairbanks, Alaska what would be an itinerary with the fewest number of flights?"
      ]
    },
    {
      "cell_type": "code",
      "execution_count": 6,
      "metadata": {
        "colab": {
          "base_uri": "https://localhost:8080/"
        },
        "id": "sunJzJiwnRBV",
        "outputId": "472cb134-c887-40a2-c9fb-68061f7cd53d"
      },
      "outputs": [
        {
          "name": "stdout",
          "output_type": "stream",
          "text": [
            "The fewest number of flight option is:  ['IND', 'BOS', 'SEA', 'FAI']\n"
          ]
        }
      ],
      "source": [
        "import networkx as nx\n",
        "G = nx.read_graphml('datasets\\openflights_usa.graphml.gz')\n",
        "shortest = nx.shortest_path(G, 'IND', 'FAI')\n",
        "print('The fewest number of flight option is: ' , shortest)\n"
      ]
    },
    {
      "attachments": {},
      "cell_type": "markdown",
      "metadata": {
        "id": "k5TWWEIQm70s"
      },
      "source": [
        "#EXERCISE 6\n",
        "\n",
        "Is it possible to travel from any airport in the US to any other airport in the US, possibly using connecting flights? In other words, does there exist a path in the network between every possible pair of airports?\n",
        "\n",
        " "
      ]
    },
    {
      "cell_type": "code",
      "execution_count": 7,
      "metadata": {
        "colab": {
          "base_uri": "https://localhost:8080/"
        },
        "id": "3SQYU6sJnRgO",
        "outputId": "6892c4ba-46c5-4baa-8125-641f76526ea7"
      },
      "outputs": [
        {
          "data": {
            "text/plain": [
              "False"
            ]
          },
          "execution_count": 7,
          "metadata": {},
          "output_type": "execute_result"
        }
      ],
      "source": [
        "nx.is_connected(G)\n"
      ]
    },
    {
      "attachments": {},
      "cell_type": "markdown",
      "metadata": {
        "id": "X66c6P-_aH5Q"
      },
      "source": [
        "# Exercise 7\n",
        "\n",
        "Does the relative importance of a node in one network translate to about the same relative importance in another related network? To reveal that, investigate how the in-degree node centralities of the retweet and mentions correlate in given dataset.\n",
        "\n",
        "**Dataset:** higgs-mention_network.edgelist.gz & higgs-retweet_network.edgelist.gz"
      ]
    },
    {
      "attachments": {},
      "cell_type": "markdown",
      "metadata": {
        "id": "YuKWwq5Z7a0v"
      },
      "source": [
        "Hints:\n",
        "\n",
        "\n",
        "1.   Find the largest connected component of the retweet network, store it as a subgraph\n",
        "2.   Measure indegree centralities of the mention network dataset and of the retweet subgraph\n",
        "3.   Convert nodes & in-degree values into DataFrames for both the in-degree centralities of both mention and retweet  networks\n",
        "4.   Get top 50 users considering mention in-degree counts\n",
        "5.   Check if retweet in-degree dataframe has top 50 users, if so store them\n",
        "6.   Prepare your Dataframes for concatenation with defining new ID column in your DataFrames\n",
        "7.   Normalisation: Scale in-degree centrality counts between 0 and 1.\n",
        "8.   Create a mapping between top mention ID's and top retweet ID's\n",
        "9.   Concatenate InDegree Mentions and InDegree Retweet Mentions Networks in one DataFrame, with the defined new ID as unique ID of the DataFrame \n",
        "10.  To represent your correlation result, use one of vizualization package and your concatenated DataFrame\n",
        "11.  Plot centrality scores for top 50 users"
      ]
    },
    {
      "cell_type": "code",
      "execution_count": 8,
      "metadata": {
        "id": "xODzc8OlcSR0"
      },
      "outputs": [],
      "source": [
        "import pandas as pd\n",
        "G_R = nx.read_edgelist('datasets/higgs-retweet_network.edgelist.gz',create_using=nx.DiGraph, data=[('weight',float)], nodetype=int)\n",
        "G_M = nx.read_edgelist('datasets/higgs-mention_network.edgelist.gz',create_using=nx.DiGraph, data=[('weight',float)], nodetype=int)"
      ]
    },
    {
      "cell_type": "code",
      "execution_count": 9,
      "metadata": {
        "id": "bq7xKFd-PLRa"
      },
      "outputs": [],
      "source": [
        "#get the element with max length from existing paths between all pair of nodes, regardless of direction\n",
        "rt_wcc = max(nx.weakly_connected_components(G_R), key=len)\n",
        "#convert it to a graph\n",
        "rt_wcc_sub = nx.subgraph(G_R, rt_wcc) "
      ]
    },
    {
      "cell_type": "code",
      "execution_count": 10,
      "metadata": {
        "id": "WRmnSI-eJ0tD"
      },
      "outputs": [],
      "source": [
        "#In-degree centrality measures the number of edges others have initiated with a vertex\n",
        "#For instance, if @Alice was mentioned 5 times by users in a Twitter topic-network, \n",
        "#her in-degree centrality metric would be 5\n",
        "mention_indegree = nx.in_degree_centrality(G_M)\n",
        "retweet_indegree = nx.in_degree_centrality(rt_wcc_sub)"
      ]
    },
    {
      "cell_type": "code",
      "execution_count": 11,
      "metadata": {
        "id": "K-2JPRMiO-c8"
      },
      "outputs": [],
      "source": [
        "#convert them into dataframes\n",
        "results_df = []\n",
        "for nodeID, value in mention_indegree.items():\n",
        "    results_df.append([nodeID, value])\n",
        "    \n",
        "\n",
        "mention_df = pd.DataFrame(results_df, columns=['nodeID', 'indegree_centrality'])\n",
        "\n",
        "results_df = []\n",
        "for nodeID, value in retweet_indegree.items():\n",
        "    results_df.append([nodeID, value])\n",
        "    \n",
        "\n",
        "rt_indegree_df = pd.DataFrame(results_df, columns=['nodeID', 'indegree_centrality'])"
      ]
    },
    {
      "cell_type": "code",
      "execution_count": 12,
      "metadata": {
        "id": "TlLH5AoVQqUI"
      },
      "outputs": [],
      "source": [
        "#top 50 users\n",
        "mention_df= mention_df.sort_values('indegree_centrality', ascending=False).reset_index(drop=True)\n",
        "mention_top = mention_df.head(50)"
      ]
    },
    {
      "cell_type": "code",
      "execution_count": 13,
      "metadata": {
        "id": "UqYZ28-nQ3zN"
      },
      "outputs": [],
      "source": [
        "rt_indeg_top = rt_indegree_df.loc[rt_indegree_df['nodeID'].isin(mention_top['nodeID'])].reset_index(drop=True)"
      ]
    },
    {
      "cell_type": "code",
      "execution_count": 14,
      "metadata": {
        "id": "hqmUbXsbQaxJ"
      },
      "outputs": [],
      "source": [
        "#It helps to normalize the data. It will scale the data between 0 and 1.\n",
        "#for better understanding of data\n",
        "def minmaxnorm(data):\n",
        "    return (data - np.min(data)) / (np.max(data) - np.min(data))"
      ]
    },
    {
      "cell_type": "code",
      "execution_count": 15,
      "metadata": {
        "colab": {
          "base_uri": "https://localhost:8080/"
        },
        "id": "eSUzDZekQRp6",
        "outputId": "6457fc54-5b50-4eec-d2a2-6ff36c14fab4"
      },
      "outputs": [
        {
          "name": "stderr",
          "output_type": "stream",
          "text": [
            "C:\\Users\\chadi\\AppData\\Local\\Temp\\ipykernel_14556\\1863539517.py:2: SettingWithCopyWarning: \n",
            "A value is trying to be set on a copy of a slice from a DataFrame.\n",
            "Try using .loc[row_indexer,col_indexer] = value instead\n",
            "\n",
            "See the caveats in the documentation: https://pandas.pydata.org/pandas-docs/stable/user_guide/indexing.html#returning-a-view-versus-a-copy\n",
            "  mention_top['id'] = 'InDegree Mentions Network'\n",
            "C:\\Users\\chadi\\AppData\\Local\\Temp\\ipykernel_14556\\1863539517.py:4: SettingWithCopyWarning: \n",
            "A value is trying to be set on a copy of a slice from a DataFrame.\n",
            "Try using .loc[row_indexer,col_indexer] = value instead\n",
            "\n",
            "See the caveats in the documentation: https://pandas.pydata.org/pandas-docs/stable/user_guide/indexing.html#returning-a-view-versus-a-copy\n",
            "  mention_top['norm_centrality'] = minmaxnorm(np.array(mention_top['indegree_centrality']))\n"
          ]
        }
      ],
      "source": [
        "import numpy as np\n",
        "mention_top['id'] = 'InDegree Mentions Network'\n",
        "rt_indeg_top['id'] = 'InDegree Retweet Network'\n",
        "mention_top['norm_centrality'] = minmaxnorm(np.array(mention_top['indegree_centrality']))\n",
        "rt_indeg_top['norm_centrality'] = minmaxnorm(np.array(rt_indeg_top['indegree_centrality']))"
      ]
    },
    {
      "cell_type": "code",
      "execution_count": 16,
      "metadata": {
        "colab": {
          "base_uri": "https://localhost:8080/"
        },
        "id": "3v5r3pZqRPhO",
        "outputId": "cd18b28d-0485-47d7-cb1b-fab6bf7a67ba"
      },
      "outputs": [
        {
          "name": "stderr",
          "output_type": "stream",
          "text": [
            "C:\\Users\\chadi\\AppData\\Local\\Temp\\ipykernel_14556\\2294573483.py:1: SettingWithCopyWarning: \n",
            "A value is trying to be set on a copy of a slice from a DataFrame.\n",
            "Try using .loc[row_indexer,col_indexer] = value instead\n",
            "\n",
            "See the caveats in the documentation: https://pandas.pydata.org/pandas-docs/stable/user_guide/indexing.html#returning-a-view-versus-a-copy\n",
            "  mention_top['new_id'] = np.arange(1,51)\n"
          ]
        }
      ],
      "source": [
        "mention_top['new_id'] = np.arange(1,51)\n",
        "map_rank = dict(zip(mention_top.nodeID,mention_top['new_id']))\n",
        "rt_indeg_top['new_id'] = rt_indeg_top['nodeID'].map(map_rank)"
      ]
    },
    {
      "cell_type": "code",
      "execution_count": 17,
      "metadata": {
        "id": "PiV_cavHRowN"
      },
      "outputs": [],
      "source": [
        "#concatenate df's\n",
        "columns = ['new_id', 'norm_centrality', 'id']\n",
        "df = pd.concat([mention_top[columns], rt_indeg_top[columns]], ignore_index=True)\n",
        "\n",
        "df=df.sort_values('new_id').reset_index(drop=True)\n",
        "\n",
        "df.set_index('new_id', inplace=True)"
      ]
    },
    {
      "cell_type": "code",
      "execution_count": 18,
      "metadata": {},
      "outputs": [
        {
          "name": "stdout",
          "output_type": "stream",
          "text": [
            "Requirement already satisfied: seaborn in c:\\users\\chadi\\appdata\\local\\packages\\pythonsoftwarefoundation.python.3.11_qbz5n2kfra8p0\\localcache\\local-packages\\python311\\site-packages (0.12.2)Note: you may need to restart the kernel to use updated packages.\n",
            "\n",
            "Requirement already satisfied: numpy!=1.24.0,>=1.17 in c:\\users\\chadi\\appdata\\local\\packages\\pythonsoftwarefoundation.python.3.11_qbz5n2kfra8p0\\localcache\\local-packages\\python311\\site-packages (from seaborn) (1.24.2)\n",
            "Requirement already satisfied: pandas>=0.25 in c:\\users\\chadi\\appdata\\local\\packages\\pythonsoftwarefoundation.python.3.11_qbz5n2kfra8p0\\localcache\\local-packages\\python311\\site-packages (from seaborn) (2.0.0)\n",
            "Requirement already satisfied: matplotlib!=3.6.1,>=3.1 in c:\\users\\chadi\\appdata\\local\\packages\\pythonsoftwarefoundation.python.3.11_qbz5n2kfra8p0\\localcache\\local-packages\\python311\\site-packages (from seaborn) (3.7.1)\n",
            "Requirement already satisfied: contourpy>=1.0.1 in c:\\users\\chadi\\appdata\\local\\packages\\pythonsoftwarefoundation.python.3.11_qbz5n2kfra8p0\\localcache\\local-packages\\python311\\site-packages (from matplotlib!=3.6.1,>=3.1->seaborn) (1.0.7)\n",
            "Requirement already satisfied: cycler>=0.10 in c:\\users\\chadi\\appdata\\local\\packages\\pythonsoftwarefoundation.python.3.11_qbz5n2kfra8p0\\localcache\\local-packages\\python311\\site-packages (from matplotlib!=3.6.1,>=3.1->seaborn) (0.11.0)\n",
            "Requirement already satisfied: fonttools>=4.22.0 in c:\\users\\chadi\\appdata\\local\\packages\\pythonsoftwarefoundation.python.3.11_qbz5n2kfra8p0\\localcache\\local-packages\\python311\\site-packages (from matplotlib!=3.6.1,>=3.1->seaborn) (4.39.3)\n",
            "Requirement already satisfied: kiwisolver>=1.0.1 in c:\\users\\chadi\\appdata\\local\\packages\\pythonsoftwarefoundation.python.3.11_qbz5n2kfra8p0\\localcache\\local-packages\\python311\\site-packages (from matplotlib!=3.6.1,>=3.1->seaborn) (1.4.4)\n",
            "Requirement already satisfied: packaging>=20.0 in c:\\users\\chadi\\appdata\\local\\packages\\pythonsoftwarefoundation.python.3.11_qbz5n2kfra8p0\\localcache\\local-packages\\python311\\site-packages (from matplotlib!=3.6.1,>=3.1->seaborn) (23.0)\n",
            "Requirement already satisfied: pillow>=6.2.0 in c:\\users\\chadi\\appdata\\local\\packages\\pythonsoftwarefoundation.python.3.11_qbz5n2kfra8p0\\localcache\\local-packages\\python311\\site-packages (from matplotlib!=3.6.1,>=3.1->seaborn) (9.5.0)\n",
            "Requirement already satisfied: pyparsing>=2.3.1 in c:\\users\\chadi\\appdata\\local\\packages\\pythonsoftwarefoundation.python.3.11_qbz5n2kfra8p0\\localcache\\local-packages\\python311\\site-packages (from matplotlib!=3.6.1,>=3.1->seaborn) (3.0.9)\n",
            "Requirement already satisfied: python-dateutil>=2.7 in c:\\users\\chadi\\appdata\\local\\packages\\pythonsoftwarefoundation.python.3.11_qbz5n2kfra8p0\\localcache\\local-packages\\python311\\site-packages (from matplotlib!=3.6.1,>=3.1->seaborn) (2.8.2)\n",
            "Requirement already satisfied: pytz>=2020.1 in c:\\users\\chadi\\appdata\\local\\packages\\pythonsoftwarefoundation.python.3.11_qbz5n2kfra8p0\\localcache\\local-packages\\python311\\site-packages (from pandas>=0.25->seaborn) (2023.3)\n",
            "Requirement already satisfied: tzdata>=2022.1 in c:\\users\\chadi\\appdata\\local\\packages\\pythonsoftwarefoundation.python.3.11_qbz5n2kfra8p0\\localcache\\local-packages\\python311\\site-packages (from pandas>=0.25->seaborn) (2023.3)\n",
            "Requirement already satisfied: six>=1.5 in c:\\users\\chadi\\appdata\\local\\packages\\pythonsoftwarefoundation.python.3.11_qbz5n2kfra8p0\\localcache\\local-packages\\python311\\site-packages (from python-dateutil>=2.7->matplotlib!=3.6.1,>=3.1->seaborn) (1.16.0)\n"
          ]
        }
      ],
      "source": [
        "%pip install seaborn"
      ]
    },
    {
      "cell_type": "code",
      "execution_count": 19,
      "metadata": {
        "colab": {
          "base_uri": "https://localhost:8080/",
          "height": 306
        },
        "id": "8pywA346RZat",
        "outputId": "66254e9d-5fb1-4839-a3cb-4130a9a30e67"
      },
      "outputs": [
        {
          "data": {
            "image/png": "[encoded data removed]",
            "text/plain": [
              "<Figure size 1500x600 with 1 Axes>"
            ]
          },
          "metadata": {},
          "output_type": "display_data"
        }
      ],
      "source": [
        "import seaborn as sns\n",
        "import matplotlib.pyplot as plt\n",
        "\n",
        "sns.set_style('whitegrid')\n",
        "colors=['red', 'gold', 'green', 'blue', 'darkviolet',\n",
        "'orange', 'pink', 'maroon', 'slategrey', 'indigo', 'crimson',\n",
        "'wheat']\n",
        "fig, ax1 = plt.subplots(figsize=(15,6))\n",
        "\n",
        "df.query('id==\"InDegree Mentions Network\"')['norm_centrality'].plot(linestyle='-', lw=2,color=colors[0],label='In-degree Mention',marker='o', markersize=7,ax=ax1)\n",
        "df.query('id==\"InDegree Retweet Network\"')['norm_centrality'].plot(linestyle='-', lw=2,color=colors[2],label='In-degree Retweet', marker='v',markersize=7,ax=ax1)\n",
        "\n",
        "ax1.legend(loc='upper right', fontsize=15)\n",
        "plt.xlabel(\"User Rank\", fontsize=15)\n",
        "plt.ylabel(\"Centrality Score\", fontsize=15)\n",
        "plt.xticks(np.arange(1, 51+1, 4))\n",
        "\n",
        "plt.tight_layout()\n"
      ]
    },
    {
      "cell_type": "code",
      "execution_count": null,
      "metadata": {},
      "outputs": [],
      "source": []
    }
  ],
  "metadata": {
    "colab": {
      "provenance": []
    },
    "kernelspec": {
      "display_name": "Python 3",
      "name": "python3"
    },
    "language_info": {
      "codemirror_mode": {
        "name": "ipython",
        "version": 3
      },
      "file_extension": ".py",
      "mimetype": "text/x-python",
      "name": "python",
      "nbconvert_exporter": "python",
      "pygments_lexer": "ipython3",
      "version": "3.11.3"
    }
  },
  "nbformat": 4,
  "nbformat_minor": 0
}
