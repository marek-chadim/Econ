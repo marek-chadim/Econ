{
  "cells": [
    {
      "attachments": {},
      "cell_type": "markdown",
      "metadata": {
        "id": "oOyfxyVYOZNh"
      },
      "source": [
        "# Machine Learning with Python: Part 2\n",
        "\n",
        "In this tutorial, we will work on a dataset about bank loans. We will use the data to predict whether a loan will be given to an applicant. \n",
        "\n",
        "We will learn about the following topics in this tutorial:\n",
        "- Encoding categorical variables\n",
        "- Cross-validation\n",
        "- Hyperparameter tuning\n",
        "- Feature selection\n",
        "\n",
        "Let's start by loading the dataset and taking a look at the data."
      ]
    },
    {
      "cell_type": "code",
      "execution_count": 11,
      "metadata": {
        "colab": {
          "base_uri": "https://localhost:8080/",
          "height": 206
        },
        "id": "lcT0JDtbOZNj",
        "outputId": "57b0d8c3-9a43-4b51-f725-ee015c7375e1"
      },
      "outputs": [
        {
          "data": {
            "text/html": [
              "<div>\n",
              "<style scoped>\n",
              "    .dataframe tbody tr th:only-of-type {\n",
              "        vertical-align: middle;\n",
              "    }\n",
              "\n",
              "    .dataframe tbody tr th {\n",
              "        vertical-align: top;\n",
              "    }\n",
              "\n",
              "    .dataframe thead th {\n",
              "        text-align: right;\n",
              "    }\n",
              "</style>\n",
              "<table border=\"1\" class=\"dataframe\">\n",
              "  <thead>\n",
              "    <tr style=\"text-align: right;\">\n",
              "      <th></th>\n",
              "      <th>gender</th>\n",
              "      <th>married</th>\n",
              "      <th>dependents</th>\n",
              "      <th>education</th>\n",
              "      <th>self_employed</th>\n",
              "      <th>applicant_income</th>\n",
              "      <th>coapplicant_income</th>\n",
              "      <th>loan_amount</th>\n",
              "      <th>term</th>\n",
              "      <th>credit_history</th>\n",
              "      <th>area</th>\n",
              "      <th>loan_given</th>\n",
              "    </tr>\n",
              "  </thead>\n",
              "  <tbody>\n",
              "    <tr>\n",
              "      <th>0</th>\n",
              "      <td>Male</td>\n",
              "      <td>No</td>\n",
              "      <td>0</td>\n",
              "      <td>Graduate</td>\n",
              "      <td>No</td>\n",
              "      <td>584900</td>\n",
              "      <td>0.0</td>\n",
              "      <td>15000000</td>\n",
              "      <td>360.0</td>\n",
              "      <td>1.0</td>\n",
              "      <td>Urban</td>\n",
              "      <td>Y</td>\n",
              "    </tr>\n",
              "    <tr>\n",
              "      <th>1</th>\n",
              "      <td>Male</td>\n",
              "      <td>Yes</td>\n",
              "      <td>1</td>\n",
              "      <td>Graduate</td>\n",
              "      <td>No</td>\n",
              "      <td>458300</td>\n",
              "      <td>150800.0</td>\n",
              "      <td>12800000</td>\n",
              "      <td>360.0</td>\n",
              "      <td>1.0</td>\n",
              "      <td>Rural</td>\n",
              "      <td>N</td>\n",
              "    </tr>\n",
              "    <tr>\n",
              "      <th>2</th>\n",
              "      <td>Male</td>\n",
              "      <td>Yes</td>\n",
              "      <td>0</td>\n",
              "      <td>Graduate</td>\n",
              "      <td>Yes</td>\n",
              "      <td>300000</td>\n",
              "      <td>0.0</td>\n",
              "      <td>6600000</td>\n",
              "      <td>360.0</td>\n",
              "      <td>1.0</td>\n",
              "      <td>Urban</td>\n",
              "      <td>Y</td>\n",
              "    </tr>\n",
              "    <tr>\n",
              "      <th>3</th>\n",
              "      <td>Male</td>\n",
              "      <td>Yes</td>\n",
              "      <td>0</td>\n",
              "      <td>Not Graduate</td>\n",
              "      <td>No</td>\n",
              "      <td>258300</td>\n",
              "      <td>235800.0</td>\n",
              "      <td>12000000</td>\n",
              "      <td>360.0</td>\n",
              "      <td>1.0</td>\n",
              "      <td>Urban</td>\n",
              "      <td>Y</td>\n",
              "    </tr>\n",
              "    <tr>\n",
              "      <th>4</th>\n",
              "      <td>Male</td>\n",
              "      <td>No</td>\n",
              "      <td>0</td>\n",
              "      <td>Graduate</td>\n",
              "      <td>No</td>\n",
              "      <td>600000</td>\n",
              "      <td>0.0</td>\n",
              "      <td>14100000</td>\n",
              "      <td>360.0</td>\n",
              "      <td>1.0</td>\n",
              "      <td>Urban</td>\n",
              "      <td>Y</td>\n",
              "    </tr>\n",
              "  </tbody>\n",
              "</table>\n",
              "</div>"
            ],
            "text/plain": [
              "  gender married dependents     education self_employed  applicant_income   \n",
              "0   Male      No          0      Graduate            No            584900  \\\n",
              "1   Male     Yes          1      Graduate            No            458300   \n",
              "2   Male     Yes          0      Graduate           Yes            300000   \n",
              "3   Male     Yes          0  Not Graduate            No            258300   \n",
              "4   Male      No          0      Graduate            No            600000   \n",
              "\n",
              "   coapplicant_income  loan_amount   term  credit_history   area loan_given  \n",
              "0                 0.0     15000000  360.0             1.0  Urban          Y  \n",
              "1            150800.0     12800000  360.0             1.0  Rural          N  \n",
              "2                 0.0      6600000  360.0             1.0  Urban          Y  \n",
              "3            235800.0     12000000  360.0             1.0  Urban          Y  \n",
              "4                 0.0     14100000  360.0             1.0  Urban          Y  "
            ]
          },
          "execution_count": 11,
          "metadata": {},
          "output_type": "execute_result"
        }
      ],
      "source": [
        "import pandas as pd\n",
        "\n",
        "df = pd.read_csv(\"loans.csv\")\n",
        "df.head()"
      ]
    },
    {
      "cell_type": "code",
      "execution_count": 12,
      "metadata": {
        "colab": {
          "base_uri": "https://localhost:8080/"
        },
        "id": "AlMB5GxEX2pH",
        "outputId": "57d140ec-3d34-4ba4-ae95-9c043858a3cd"
      },
      "outputs": [
        {
          "data": {
            "text/plain": [
              "loan_given\n",
              "Y    0.687296\n",
              "N    0.312704\n",
              "Name: proportion, dtype: float64"
            ]
          },
          "execution_count": 12,
          "metadata": {},
          "output_type": "execute_result"
        }
      ],
      "source": [
        "df[\"loan_given\"].value_counts(normalize=True)"
      ]
    },
    {
      "cell_type": "code",
      "execution_count": 13,
      "metadata": {
        "colab": {
          "base_uri": "https://localhost:8080/"
        },
        "id": "QIK-t-I1XvCq",
        "outputId": "66e5af4a-9e46-4a58-fc10-0a9c97c77ce2"
      },
      "outputs": [
        {
          "data": {
            "text/plain": [
              "credit_history\n",
              "1.0    0.842199\n",
              "0.0    0.157801\n",
              "Name: proportion, dtype: float64"
            ]
          },
          "execution_count": 13,
          "metadata": {},
          "output_type": "execute_result"
        }
      ],
      "source": [
        "df[\"credit_history\"].value_counts(normalize=True)"
      ]
    },
    {
      "cell_type": "code",
      "execution_count": 14,
      "metadata": {
        "colab": {
          "base_uri": "https://localhost:8080/"
        },
        "id": "4iRcLO40XkU1",
        "outputId": "964983ad-ea1e-4d36-f1da-14acd1f874e0"
      },
      "outputs": [
        {
          "data": {
            "text/plain": [
              "dependents\n",
              "0     0.575960\n",
              "1     0.170284\n",
              "2     0.168614\n",
              "3+    0.085142\n",
              "Name: proportion, dtype: float64"
            ]
          },
          "execution_count": 14,
          "metadata": {},
          "output_type": "execute_result"
        }
      ],
      "source": [
        "df[\"dependents\"].value_counts(normalize=True)"
      ]
    },
    {
      "cell_type": "code",
      "execution_count": 15,
      "metadata": {
        "colab": {
          "base_uri": "https://localhost:8080/"
        },
        "id": "kqPAgYmIXgAh",
        "outputId": "f2889cf9-6d7e-4fb3-aa77-037262c1eb32"
      },
      "outputs": [
        {
          "data": {
            "text/plain": [
              "education\n",
              "Graduate        0.781759\n",
              "Not Graduate    0.218241\n",
              "Name: proportion, dtype: float64"
            ]
          },
          "execution_count": 15,
          "metadata": {},
          "output_type": "execute_result"
        }
      ],
      "source": [
        "df[\"education\"].value_counts(normalize=True)"
      ]
    },
    {
      "cell_type": "code",
      "execution_count": 16,
      "metadata": {
        "colab": {
          "base_uri": "https://localhost:8080/"
        },
        "id": "OO5v-MMPXQYv",
        "outputId": "9d4cad85-f1e0-4aef-9ef4-d5b88a5933b0"
      },
      "outputs": [
        {
          "data": {
            "text/plain": [
              "area\n",
              "Semiurban    0.379479\n",
              "Urban        0.328990\n",
              "Rural        0.291531\n",
              "Name: proportion, dtype: float64"
            ]
          },
          "execution_count": 16,
          "metadata": {},
          "output_type": "execute_result"
        }
      ],
      "source": [
        "df[\"area\"].value_counts(normalize=True)"
      ]
    },
    {
      "attachments": {},
      "cell_type": "markdown",
      "metadata": {
        "id": "e38V03q5OZNk"
      },
      "source": [
        "The dataset contains information about loan applicants, including their gender, marital status, number of dependents, education level, employment status, income, loan amount, loan term, credit history, area, and whether a loan was given or not.\n",
        "\n",
        "The column `loan_given` is our target variable (the variable we want to predict). The other columns are our features (the variables we use to predict the target variable)."
      ]
    },
    {
      "attachments": {},
      "cell_type": "markdown",
      "metadata": {
        "id": "vCStN4HfOZNk"
      },
      "source": [
        "# Cleaning the Data\n",
        "\n",
        "Before we can use the data for machine learning, we need to clean it. Let's handle missing values first."
      ]
    },
    {
      "cell_type": "code",
      "execution_count": 17,
      "metadata": {
        "colab": {
          "base_uri": "https://localhost:8080/"
        },
        "id": "K54EgGHJOZNk",
        "outputId": "660117eb-477c-4b48-cbeb-2a3635b7b424"
      },
      "outputs": [
        {
          "data": {
            "text/plain": [
              "gender                2.117264\n",
              "married               0.488599\n",
              "dependents            2.442997\n",
              "education             0.000000\n",
              "self_employed         5.211726\n",
              "applicant_income      0.000000\n",
              "coapplicant_income    0.000000\n",
              "loan_amount           0.000000\n",
              "term                  2.280130\n",
              "credit_history        8.143322\n",
              "area                  0.000000\n",
              "loan_given            0.000000\n",
              "dtype: float64"
            ]
          },
          "execution_count": 17,
          "metadata": {},
          "output_type": "execute_result"
        }
      ],
      "source": [
        "df.isna().sum() / len(df) * 100"
      ]
    },
    {
      "attachments": {},
      "cell_type": "markdown",
      "metadata": {
        "id": "wzSr3riAOZNl"
      },
      "source": [
        "The column with the highest number of missing values is `credit_history`. Still, it is only missing 8.14% of the values, so we can drop the rows with missing values."
      ]
    },
    {
      "cell_type": "code",
      "execution_count": 18,
      "metadata": {
        "colab": {
          "base_uri": "https://localhost:8080/"
        },
        "id": "TR76EIJtOZNl",
        "outputId": "f54e6a63-227a-4095-fbe8-d47fbe95b1ab"
      },
      "outputs": [
        {
          "data": {
            "text/plain": [
              "gender                0.0\n",
              "married               0.0\n",
              "dependents            0.0\n",
              "education             0.0\n",
              "self_employed         0.0\n",
              "applicant_income      0.0\n",
              "coapplicant_income    0.0\n",
              "loan_amount           0.0\n",
              "term                  0.0\n",
              "credit_history        0.0\n",
              "area                  0.0\n",
              "loan_given            0.0\n",
              "dtype: float64"
            ]
          },
          "execution_count": 18,
          "metadata": {},
          "output_type": "execute_result"
        }
      ],
      "source": [
        "df.dropna(inplace=True)\n",
        "df.isna().sum() / len(df) * 100"
      ]
    },
    {
      "cell_type": "code",
      "execution_count": 19,
      "metadata": {
        "colab": {
          "base_uri": "https://localhost:8080/"
        },
        "id": "UotTk5dHZbdF",
        "outputId": "56f01280-36e9-40fd-d986-17ad3b3a7d4f"
      },
      "outputs": [
        {
          "data": {
            "text/plain": [
              "0"
            ]
          },
          "execution_count": 19,
          "metadata": {},
          "output_type": "execute_result"
        }
      ],
      "source": [
        "df.duplicated().sum()"
      ]
    },
    {
      "attachments": {},
      "cell_type": "markdown",
      "metadata": {
        "id": "2ErW-hlLOZNl"
      },
      "source": [
        "# Encoding Categorical Variables\n",
        "\n",
        "So far, we have only worked with numerical variables. However, many datasets contain categorical variables. Categorical variables are variables that have a limited number of possible values. For example, the variable `self_employed` in our dataset has two possible values: `Yes` and `No`. The variable `area` has three possible values: `Urban`, `Rural`, and `Semiurban`.\n",
        "\n",
        "Machine learning algorithms cannot work with categorical variables directly. For the computer, the values `Yes` and `No` are just strings. Therefore, we need to convert categorical variables into numerical variables. This process is called **encoding**.\n",
        "\n",
        "There are two main ways to encode categorical variables: **label encoding** and **one-hot encoding**."
      ]
    },
    {
      "attachments": {},
      "cell_type": "markdown",
      "metadata": {
        "id": "WxSmMYlcOZNl"
      },
      "source": [
        "## Label Encoding\n",
        "\n",
        "Label encoding is the process of converting each value of a categorical variable into a number. For example, we can convert the values `Yes` and `No` into the numbers `1` and `0`.\n",
        "\n",
        "Label encoding is suitable for ordinal variables where there is a meaningful order or hierarchy among the categories. For instance, consider a variable `size` with categories `Small`, `Medium`, and `Large`. We can convert these categories into the numbers `0`, `1`, and `2` because there is a meaningful order among them.\n",
        "\n",
        "However, label encoding is not suitable for nominal variables where there is no meaningful order among the categories. For instance, consider a variable `colour` with categories `Red`, `Green`, and `Blue`. We cannot convert these categories into the numbers `0`, `1`, and `2` because we cannot say that one colour is greater than another.\n",
        "\n",
        "**For our dataset, label encoding is not suitable because our categorical variables are nominal variables**. Nevertheless, let's see how we can do label encoding using in Python using the `LabelEncoder` class from the `sklearn.preprocessing` module."
      ]
    },
    {
      "cell_type": "code",
      "execution_count": 20,
      "metadata": {
        "colab": {
          "base_uri": "https://localhost:8080/",
          "height": 436
        },
        "id": "Y0yyAQyoOZNm",
        "outputId": "f9db7a9a-c107-4201-ef83-4a517012251b"
      },
      "outputs": [
        {
          "data": {
            "text/plain": [
              "array([2, 0, 2, 2, 2, 2, 2, 1, 2, 1, 2, 2, 0, 2, 2, 2, 0, 2, 2, 1, 1, 1,\n",
              "       2, 2, 2, 0, 1, 0, 2, 1, 2, 1, 2, 2, 1, 2, 2, 2, 1, 1, 1, 1, 2, 2,\n",
              "       1, 1, 0, 2, 2, 2, 2, 0, 0, 1, 1, 2, 2, 2, 1, 2, 1, 1, 1, 2, 2, 2,\n",
              "       1, 1, 1, 2, 2, 1, 1, 2, 1, 1, 1, 2, 1, 1, 1, 1, 1, 1, 2, 1, 1, 2,\n",
              "       2, 2, 1, 2, 1, 0, 1, 0, 2, 1, 1, 1, 0, 0, 2, 2, 1, 1, 1, 1, 0, 2,\n",
              "       1, 0, 0, 2, 1, 1, 2, 1, 2, 2, 0, 1, 0, 0, 2, 0, 2, 1, 2, 1, 1, 2,\n",
              "       1, 0, 2, 0, 0, 1, 1, 0, 1, 1, 0, 0, 1, 1, 2, 2, 1, 1, 1, 1, 0, 0,\n",
              "       0, 1, 2, 1, 0, 1, 0, 2, 1, 1, 2, 2, 1, 1, 2, 0, 2, 1, 1, 1, 2, 0,\n",
              "       2, 1, 0, 1, 2, 1, 1, 1, 0, 1, 0, 1, 1, 1, 0, 0, 1, 0, 2, 2, 0, 1,\n",
              "       2, 2, 2, 1, 2, 1, 2, 0, 1, 2, 0, 0, 2, 0, 1, 1, 0, 1, 0, 1, 2, 2,\n",
              "       2, 2, 0, 1, 1, 1, 1, 2, 1, 2, 1, 2, 2, 0, 0, 1, 0, 1, 0, 0, 1, 2,\n",
              "       1, 1, 2, 0, 2, 2, 0, 2, 0, 2, 0, 2, 0, 1, 1, 0, 2, 1, 0, 1, 1, 0,\n",
              "       0, 0, 0, 1, 2, 2, 2, 1, 0, 2, 1, 0, 0, 2, 1, 1, 2, 0, 1, 0, 0, 0,\n",
              "       1, 0, 2, 2, 1, 1, 1, 2, 0, 0, 1, 1, 0, 1, 1, 0, 2, 2, 0, 2, 2, 1,\n",
              "       2, 2, 2, 1, 2, 2, 0, 0, 0, 1, 2, 2, 2, 0, 1, 2, 0, 1, 1, 0, 1, 2,\n",
              "       0, 1, 0, 1, 0, 0, 1, 2, 2, 2, 0, 1, 0, 2, 1, 0, 0, 1, 0, 2, 1, 0,\n",
              "       1, 2, 1, 2, 2, 0, 1, 0, 1, 1, 0, 0, 0, 0, 0, 0, 1, 1, 2, 2, 0, 1,\n",
              "       2, 0, 1, 0, 2, 2, 1, 0, 1, 0, 0, 1, 1, 2, 0, 0, 1, 1, 1, 0, 0, 2,\n",
              "       1, 2, 0, 1, 0, 1, 0, 1, 0, 0, 1, 1, 1, 0, 2, 2, 0, 1, 2, 1, 0, 0,\n",
              "       1, 1, 0, 1, 1, 0, 0, 1, 0, 1, 1, 1, 1, 2, 0, 2, 2, 1, 0, 0, 1, 1,\n",
              "       2, 0, 1, 0, 1, 0, 0, 0, 2, 2, 0, 1, 1, 1, 1, 1, 1, 0, 1, 2, 2, 0,\n",
              "       2, 2, 2, 2, 1, 1, 2, 2, 0, 1, 2, 1, 0, 0, 2, 1, 1, 1, 1, 0, 2, 0,\n",
              "       0, 0, 2, 2, 0, 1, 2, 1, 0, 0, 0, 0, 2, 2, 1])"
            ]
          },
          "metadata": {},
          "output_type": "display_data"
        }
      ],
      "source": [
        "from sklearn.preprocessing import LabelEncoder\n",
        "\n",
        "le = LabelEncoder()\n",
        "area = le.fit_transform(df[\"area\"])\n",
        "display(area)"
      ]
    },
    {
      "attachments": {},
      "cell_type": "markdown",
      "metadata": {
        "id": "HHbva-BBOZNm"
      },
      "source": [
        "`LabelEncoder` has two main methods: `fit` and `transform`. The `fit` method learns the mapping between the categories and the numbers. The `transform` method applies the mapping to the categories and converts them into numbers.\n",
        "\n",
        "`fit_transform` is a shortcut that combines `fit` and `transform` into a single method."
      ]
    },
    {
      "attachments": {},
      "cell_type": "markdown",
      "metadata": {
        "id": "skl6QF3tOZNm"
      },
      "source": [
        "### Task: encode the variables  `married`, `education`, and `self_employed` using label encoding.\n",
        "\n",
        "Challenge: Try to encode all of them in a single line of code."
      ]
    },
    {
      "cell_type": "code",
      "execution_count": 21,
      "metadata": {
        "colab": {
          "base_uri": "https://localhost:8080/",
          "height": 423
        },
        "id": "9xqifaf8OZNm",
        "outputId": "c1d58c87-b85a-4897-e770-0f33422d1979"
      },
      "outputs": [
        {
          "data": {
            "text/html": [
              "<div>\n",
              "<style scoped>\n",
              "    .dataframe tbody tr th:only-of-type {\n",
              "        vertical-align: middle;\n",
              "    }\n",
              "\n",
              "    .dataframe tbody tr th {\n",
              "        vertical-align: top;\n",
              "    }\n",
              "\n",
              "    .dataframe thead th {\n",
              "        text-align: right;\n",
              "    }\n",
              "</style>\n",
              "<table border=\"1\" class=\"dataframe\">\n",
              "  <thead>\n",
              "    <tr style=\"text-align: right;\">\n",
              "      <th></th>\n",
              "      <th>married</th>\n",
              "      <th>education</th>\n",
              "      <th>self_employed</th>\n",
              "    </tr>\n",
              "  </thead>\n",
              "  <tbody>\n",
              "    <tr>\n",
              "      <th>0</th>\n",
              "      <td>0</td>\n",
              "      <td>0</td>\n",
              "      <td>0</td>\n",
              "    </tr>\n",
              "    <tr>\n",
              "      <th>1</th>\n",
              "      <td>1</td>\n",
              "      <td>0</td>\n",
              "      <td>0</td>\n",
              "    </tr>\n",
              "    <tr>\n",
              "      <th>2</th>\n",
              "      <td>1</td>\n",
              "      <td>0</td>\n",
              "      <td>1</td>\n",
              "    </tr>\n",
              "    <tr>\n",
              "      <th>3</th>\n",
              "      <td>1</td>\n",
              "      <td>1</td>\n",
              "      <td>0</td>\n",
              "    </tr>\n",
              "    <tr>\n",
              "      <th>4</th>\n",
              "      <td>0</td>\n",
              "      <td>0</td>\n",
              "      <td>0</td>\n",
              "    </tr>\n",
              "    <tr>\n",
              "      <th>...</th>\n",
              "      <td>...</td>\n",
              "      <td>...</td>\n",
              "      <td>...</td>\n",
              "    </tr>\n",
              "    <tr>\n",
              "      <th>609</th>\n",
              "      <td>0</td>\n",
              "      <td>0</td>\n",
              "      <td>0</td>\n",
              "    </tr>\n",
              "    <tr>\n",
              "      <th>610</th>\n",
              "      <td>1</td>\n",
              "      <td>0</td>\n",
              "      <td>0</td>\n",
              "    </tr>\n",
              "    <tr>\n",
              "      <th>611</th>\n",
              "      <td>1</td>\n",
              "      <td>0</td>\n",
              "      <td>0</td>\n",
              "    </tr>\n",
              "    <tr>\n",
              "      <th>612</th>\n",
              "      <td>1</td>\n",
              "      <td>0</td>\n",
              "      <td>0</td>\n",
              "    </tr>\n",
              "    <tr>\n",
              "      <th>613</th>\n",
              "      <td>0</td>\n",
              "      <td>0</td>\n",
              "      <td>1</td>\n",
              "    </tr>\n",
              "  </tbody>\n",
              "</table>\n",
              "<p>499 rows × 3 columns</p>\n",
              "</div>"
            ],
            "text/plain": [
              "     married  education  self_employed\n",
              "0          0          0              0\n",
              "1          1          0              0\n",
              "2          1          0              1\n",
              "3          1          1              0\n",
              "4          0          0              0\n",
              "..       ...        ...            ...\n",
              "609        0          0              0\n",
              "610        1          0              0\n",
              "611        1          0              0\n",
              "612        1          0              0\n",
              "613        0          0              1\n",
              "\n",
              "[499 rows x 3 columns]"
            ]
          },
          "execution_count": 21,
          "metadata": {},
          "output_type": "execute_result"
        }
      ],
      "source": [
        "df[[\"married\", \"education\", \"self_employed\"]].apply(le.fit_transform)"
      ]
    },
    {
      "attachments": {},
      "cell_type": "markdown",
      "metadata": {
        "id": "G-92_SqNOZNn"
      },
      "source": [
        "## One-Hot Encoding\n",
        "\n",
        "One-hot encoding is the process of converting each value of a categorical variable into a vector of zeros and ones. For example, we can convert the values `Yes` and `No` into the vectors `[1, 0]` and `[0, 1]`.\n",
        "\n",
        "One-hot encoding represents each category as a separate binary feature (or column). Each feature corresponds to a specific category and takes a value of 1 if the observation belongs to that category and 0 otherwise. It is suitable for nominal variables where there is no order or hierarchy among the categories.\n",
        "\n",
        "We can use one-hot encoding for all categorical variables in our dataset. Let's see how we can do one-hot encoding in Python using the `OneHotEncoder` class from the `sklearn.preprocessing` module."
      ]
    },
    {
      "cell_type": "code",
      "execution_count": 22,
      "metadata": {
        "colab": {
          "base_uri": "https://localhost:8080/",
          "height": 181
        },
        "id": "3j_e2gJ6OZNn",
        "outputId": "ad2d8d75-b1ff-4295-bb58-dcc267056d59"
      },
      "outputs": [
        {
          "data": {
            "text/plain": [
              "<499x3 sparse matrix of type '<class 'numpy.float64'>'\n",
              "\twith 499 stored elements in Compressed Sparse Row format>"
            ]
          },
          "metadata": {},
          "output_type": "display_data"
        },
        {
          "data": {
            "text/plain": [
              "array([[0., 0., 1.],\n",
              "       [1., 0., 0.],\n",
              "       [0., 0., 1.],\n",
              "       ...,\n",
              "       [0., 0., 1.],\n",
              "       [0., 0., 1.],\n",
              "       [0., 1., 0.]])"
            ]
          },
          "metadata": {},
          "output_type": "display_data"
        }
      ],
      "source": [
        "from sklearn.preprocessing import OneHotEncoder\n",
        "\n",
        "ohe = OneHotEncoder()\n",
        "area = ohe.fit_transform(df[[\"area\"]])\n",
        "display(area)\n",
        "display(area.toarray())"
      ]
    },
    {
      "attachments": {},
      "cell_type": "markdown",
      "metadata": {
        "id": "lO0m1wlkOZNn"
      },
      "source": [
        "`OneHotEncoder` returns a sparse matrix. A sparse matrix is a matrix that contains mostly zeros. Sparse matrices are useful because they save memory. However, they are not very easy to read.\n",
        "\n",
        "To visualize a sparse matrix, we can convert it into a regular matrix using the `toarray` method.\n",
        "\n",
        "The sparse format is useful when dealing with large datasets that contain a lot of zeros. For our dataset, the sparse format is not necessary."
      ]
    },
    {
      "attachments": {},
      "cell_type": "markdown",
      "metadata": {
        "id": "HpMner2kOZNn"
      },
      "source": [
        "### Task: encode all the categorical variables in our dataset using one-hot encoding."
      ]
    },
    {
      "attachments": {},
      "cell_type": "markdown",
      "metadata": {
        "id": "g4IZD92KOZNn"
      },
      "source": [
        "The function `get_dummies` from pandas can also be used to do one-hot encoding. It returns a regular matrix."
      ]
    },
    {
      "cell_type": "code",
      "execution_count": 23,
      "metadata": {
        "id": "IeNNahyXOZNo"
      },
      "outputs": [
        {
          "data": {
            "text/html": [
              "<div>\n",
              "<style scoped>\n",
              "    .dataframe tbody tr th:only-of-type {\n",
              "        vertical-align: middle;\n",
              "    }\n",
              "\n",
              "    .dataframe tbody tr th {\n",
              "        vertical-align: top;\n",
              "    }\n",
              "\n",
              "    .dataframe thead th {\n",
              "        text-align: right;\n",
              "    }\n",
              "</style>\n",
              "<table border=\"1\" class=\"dataframe\">\n",
              "  <thead>\n",
              "    <tr style=\"text-align: right;\">\n",
              "      <th></th>\n",
              "      <th>Rural</th>\n",
              "      <th>Semiurban</th>\n",
              "      <th>Urban</th>\n",
              "    </tr>\n",
              "  </thead>\n",
              "  <tbody>\n",
              "    <tr>\n",
              "      <th>0</th>\n",
              "      <td>False</td>\n",
              "      <td>False</td>\n",
              "      <td>True</td>\n",
              "    </tr>\n",
              "    <tr>\n",
              "      <th>1</th>\n",
              "      <td>True</td>\n",
              "      <td>False</td>\n",
              "      <td>False</td>\n",
              "    </tr>\n",
              "    <tr>\n",
              "      <th>2</th>\n",
              "      <td>False</td>\n",
              "      <td>False</td>\n",
              "      <td>True</td>\n",
              "    </tr>\n",
              "    <tr>\n",
              "      <th>3</th>\n",
              "      <td>False</td>\n",
              "      <td>False</td>\n",
              "      <td>True</td>\n",
              "    </tr>\n",
              "    <tr>\n",
              "      <th>4</th>\n",
              "      <td>False</td>\n",
              "      <td>False</td>\n",
              "      <td>True</td>\n",
              "    </tr>\n",
              "    <tr>\n",
              "      <th>...</th>\n",
              "      <td>...</td>\n",
              "      <td>...</td>\n",
              "      <td>...</td>\n",
              "    </tr>\n",
              "    <tr>\n",
              "      <th>609</th>\n",
              "      <td>True</td>\n",
              "      <td>False</td>\n",
              "      <td>False</td>\n",
              "    </tr>\n",
              "    <tr>\n",
              "      <th>610</th>\n",
              "      <td>True</td>\n",
              "      <td>False</td>\n",
              "      <td>False</td>\n",
              "    </tr>\n",
              "    <tr>\n",
              "      <th>611</th>\n",
              "      <td>False</td>\n",
              "      <td>False</td>\n",
              "      <td>True</td>\n",
              "    </tr>\n",
              "    <tr>\n",
              "      <th>612</th>\n",
              "      <td>False</td>\n",
              "      <td>False</td>\n",
              "      <td>True</td>\n",
              "    </tr>\n",
              "    <tr>\n",
              "      <th>613</th>\n",
              "      <td>False</td>\n",
              "      <td>True</td>\n",
              "      <td>False</td>\n",
              "    </tr>\n",
              "  </tbody>\n",
              "</table>\n",
              "<p>499 rows × 3 columns</p>\n",
              "</div>"
            ],
            "text/plain": [
              "     Rural  Semiurban  Urban\n",
              "0    False      False   True\n",
              "1     True      False  False\n",
              "2    False      False   True\n",
              "3    False      False   True\n",
              "4    False      False   True\n",
              "..     ...        ...    ...\n",
              "609   True      False  False\n",
              "610   True      False  False\n",
              "611  False      False   True\n",
              "612  False      False   True\n",
              "613  False       True  False\n",
              "\n",
              "[499 rows x 3 columns]"
            ]
          },
          "execution_count": 23,
          "metadata": {},
          "output_type": "execute_result"
        }
      ],
      "source": [
        "pd.get_dummies(df[\"area\"])"
      ]
    },
    {
      "attachments": {},
      "cell_type": "markdown",
      "metadata": {
        "id": "8VTFAV_HOZNo"
      },
      "source": [
        "It can also be used to do one-hot encoding of the entire dataset at once."
      ]
    },
    {
      "cell_type": "code",
      "execution_count": 24,
      "metadata": {
        "id": "8AtxeXrlOZNo"
      },
      "outputs": [
        {
          "data": {
            "text/html": [
              "<div>\n",
              "<style scoped>\n",
              "    .dataframe tbody tr th:only-of-type {\n",
              "        vertical-align: middle;\n",
              "    }\n",
              "\n",
              "    .dataframe tbody tr th {\n",
              "        vertical-align: top;\n",
              "    }\n",
              "\n",
              "    .dataframe thead th {\n",
              "        text-align: right;\n",
              "    }\n",
              "</style>\n",
              "<table border=\"1\" class=\"dataframe\">\n",
              "  <thead>\n",
              "    <tr style=\"text-align: right;\">\n",
              "      <th></th>\n",
              "      <th>applicant_income</th>\n",
              "      <th>coapplicant_income</th>\n",
              "      <th>loan_amount</th>\n",
              "      <th>term</th>\n",
              "      <th>credit_history</th>\n",
              "      <th>loan_given</th>\n",
              "      <th>gender_Female</th>\n",
              "      <th>gender_Male</th>\n",
              "      <th>dependents_0</th>\n",
              "      <th>dependents_1</th>\n",
              "      <th>...</th>\n",
              "      <th>dependents_3+</th>\n",
              "      <th>married_No</th>\n",
              "      <th>married_Yes</th>\n",
              "      <th>education_Graduate</th>\n",
              "      <th>education_Not Graduate</th>\n",
              "      <th>self_employed_No</th>\n",
              "      <th>self_employed_Yes</th>\n",
              "      <th>area_Rural</th>\n",
              "      <th>area_Semiurban</th>\n",
              "      <th>area_Urban</th>\n",
              "    </tr>\n",
              "  </thead>\n",
              "  <tbody>\n",
              "    <tr>\n",
              "      <th>0</th>\n",
              "      <td>584900</td>\n",
              "      <td>0.0</td>\n",
              "      <td>15000000</td>\n",
              "      <td>360.0</td>\n",
              "      <td>1.0</td>\n",
              "      <td>Y</td>\n",
              "      <td>False</td>\n",
              "      <td>True</td>\n",
              "      <td>True</td>\n",
              "      <td>False</td>\n",
              "      <td>...</td>\n",
              "      <td>False</td>\n",
              "      <td>True</td>\n",
              "      <td>False</td>\n",
              "      <td>True</td>\n",
              "      <td>False</td>\n",
              "      <td>True</td>\n",
              "      <td>False</td>\n",
              "      <td>False</td>\n",
              "      <td>False</td>\n",
              "      <td>True</td>\n",
              "    </tr>\n",
              "    <tr>\n",
              "      <th>1</th>\n",
              "      <td>458300</td>\n",
              "      <td>150800.0</td>\n",
              "      <td>12800000</td>\n",
              "      <td>360.0</td>\n",
              "      <td>1.0</td>\n",
              "      <td>N</td>\n",
              "      <td>False</td>\n",
              "      <td>True</td>\n",
              "      <td>False</td>\n",
              "      <td>True</td>\n",
              "      <td>...</td>\n",
              "      <td>False</td>\n",
              "      <td>False</td>\n",
              "      <td>True</td>\n",
              "      <td>True</td>\n",
              "      <td>False</td>\n",
              "      <td>True</td>\n",
              "      <td>False</td>\n",
              "      <td>True</td>\n",
              "      <td>False</td>\n",
              "      <td>False</td>\n",
              "    </tr>\n",
              "    <tr>\n",
              "      <th>2</th>\n",
              "      <td>300000</td>\n",
              "      <td>0.0</td>\n",
              "      <td>6600000</td>\n",
              "      <td>360.0</td>\n",
              "      <td>1.0</td>\n",
              "      <td>Y</td>\n",
              "      <td>False</td>\n",
              "      <td>True</td>\n",
              "      <td>True</td>\n",
              "      <td>False</td>\n",
              "      <td>...</td>\n",
              "      <td>False</td>\n",
              "      <td>False</td>\n",
              "      <td>True</td>\n",
              "      <td>True</td>\n",
              "      <td>False</td>\n",
              "      <td>False</td>\n",
              "      <td>True</td>\n",
              "      <td>False</td>\n",
              "      <td>False</td>\n",
              "      <td>True</td>\n",
              "    </tr>\n",
              "    <tr>\n",
              "      <th>3</th>\n",
              "      <td>258300</td>\n",
              "      <td>235800.0</td>\n",
              "      <td>12000000</td>\n",
              "      <td>360.0</td>\n",
              "      <td>1.0</td>\n",
              "      <td>Y</td>\n",
              "      <td>False</td>\n",
              "      <td>True</td>\n",
              "      <td>True</td>\n",
              "      <td>False</td>\n",
              "      <td>...</td>\n",
              "      <td>False</td>\n",
              "      <td>False</td>\n",
              "      <td>True</td>\n",
              "      <td>False</td>\n",
              "      <td>True</td>\n",
              "      <td>True</td>\n",
              "      <td>False</td>\n",
              "      <td>False</td>\n",
              "      <td>False</td>\n",
              "      <td>True</td>\n",
              "    </tr>\n",
              "    <tr>\n",
              "      <th>4</th>\n",
              "      <td>600000</td>\n",
              "      <td>0.0</td>\n",
              "      <td>14100000</td>\n",
              "      <td>360.0</td>\n",
              "      <td>1.0</td>\n",
              "      <td>Y</td>\n",
              "      <td>False</td>\n",
              "      <td>True</td>\n",
              "      <td>True</td>\n",
              "      <td>False</td>\n",
              "      <td>...</td>\n",
              "      <td>False</td>\n",
              "      <td>True</td>\n",
              "      <td>False</td>\n",
              "      <td>True</td>\n",
              "      <td>False</td>\n",
              "      <td>True</td>\n",
              "      <td>False</td>\n",
              "      <td>False</td>\n",
              "      <td>False</td>\n",
              "      <td>True</td>\n",
              "    </tr>\n",
              "    <tr>\n",
              "      <th>...</th>\n",
              "      <td>...</td>\n",
              "      <td>...</td>\n",
              "      <td>...</td>\n",
              "      <td>...</td>\n",
              "      <td>...</td>\n",
              "      <td>...</td>\n",
              "      <td>...</td>\n",
              "      <td>...</td>\n",
              "      <td>...</td>\n",
              "      <td>...</td>\n",
              "      <td>...</td>\n",
              "      <td>...</td>\n",
              "      <td>...</td>\n",
              "      <td>...</td>\n",
              "      <td>...</td>\n",
              "      <td>...</td>\n",
              "      <td>...</td>\n",
              "      <td>...</td>\n",
              "      <td>...</td>\n",
              "      <td>...</td>\n",
              "      <td>...</td>\n",
              "    </tr>\n",
              "    <tr>\n",
              "      <th>609</th>\n",
              "      <td>290000</td>\n",
              "      <td>0.0</td>\n",
              "      <td>7100000</td>\n",
              "      <td>360.0</td>\n",
              "      <td>1.0</td>\n",
              "      <td>Y</td>\n",
              "      <td>True</td>\n",
              "      <td>False</td>\n",
              "      <td>True</td>\n",
              "      <td>False</td>\n",
              "      <td>...</td>\n",
              "      <td>False</td>\n",
              "      <td>True</td>\n",
              "      <td>False</td>\n",
              "      <td>True</td>\n",
              "      <td>False</td>\n",
              "      <td>True</td>\n",
              "      <td>False</td>\n",
              "      <td>True</td>\n",
              "      <td>False</td>\n",
              "      <td>False</td>\n",
              "    </tr>\n",
              "    <tr>\n",
              "      <th>610</th>\n",
              "      <td>410600</td>\n",
              "      <td>0.0</td>\n",
              "      <td>4000000</td>\n",
              "      <td>180.0</td>\n",
              "      <td>1.0</td>\n",
              "      <td>Y</td>\n",
              "      <td>False</td>\n",
              "      <td>True</td>\n",
              "      <td>False</td>\n",
              "      <td>False</td>\n",
              "      <td>...</td>\n",
              "      <td>True</td>\n",
              "      <td>False</td>\n",
              "      <td>True</td>\n",
              "      <td>True</td>\n",
              "      <td>False</td>\n",
              "      <td>True</td>\n",
              "      <td>False</td>\n",
              "      <td>True</td>\n",
              "      <td>False</td>\n",
              "      <td>False</td>\n",
              "    </tr>\n",
              "    <tr>\n",
              "      <th>611</th>\n",
              "      <td>807200</td>\n",
              "      <td>24000.0</td>\n",
              "      <td>25300000</td>\n",
              "      <td>360.0</td>\n",
              "      <td>1.0</td>\n",
              "      <td>Y</td>\n",
              "      <td>False</td>\n",
              "      <td>True</td>\n",
              "      <td>False</td>\n",
              "      <td>True</td>\n",
              "      <td>...</td>\n",
              "      <td>False</td>\n",
              "      <td>False</td>\n",
              "      <td>True</td>\n",
              "      <td>True</td>\n",
              "      <td>False</td>\n",
              "      <td>True</td>\n",
              "      <td>False</td>\n",
              "      <td>False</td>\n",
              "      <td>False</td>\n",
              "      <td>True</td>\n",
              "    </tr>\n",
              "    <tr>\n",
              "      <th>612</th>\n",
              "      <td>758300</td>\n",
              "      <td>0.0</td>\n",
              "      <td>18700000</td>\n",
              "      <td>360.0</td>\n",
              "      <td>1.0</td>\n",
              "      <td>Y</td>\n",
              "      <td>False</td>\n",
              "      <td>True</td>\n",
              "      <td>False</td>\n",
              "      <td>False</td>\n",
              "      <td>...</td>\n",
              "      <td>False</td>\n",
              "      <td>False</td>\n",
              "      <td>True</td>\n",
              "      <td>True</td>\n",
              "      <td>False</td>\n",
              "      <td>True</td>\n",
              "      <td>False</td>\n",
              "      <td>False</td>\n",
              "      <td>False</td>\n",
              "      <td>True</td>\n",
              "    </tr>\n",
              "    <tr>\n",
              "      <th>613</th>\n",
              "      <td>458300</td>\n",
              "      <td>0.0</td>\n",
              "      <td>13300000</td>\n",
              "      <td>360.0</td>\n",
              "      <td>0.0</td>\n",
              "      <td>N</td>\n",
              "      <td>True</td>\n",
              "      <td>False</td>\n",
              "      <td>True</td>\n",
              "      <td>False</td>\n",
              "      <td>...</td>\n",
              "      <td>False</td>\n",
              "      <td>True</td>\n",
              "      <td>False</td>\n",
              "      <td>True</td>\n",
              "      <td>False</td>\n",
              "      <td>False</td>\n",
              "      <td>True</td>\n",
              "      <td>False</td>\n",
              "      <td>True</td>\n",
              "      <td>False</td>\n",
              "    </tr>\n",
              "  </tbody>\n",
              "</table>\n",
              "<p>499 rows × 21 columns</p>\n",
              "</div>"
            ],
            "text/plain": [
              "     applicant_income  coapplicant_income  loan_amount   term  credit_history   \n",
              "0              584900                 0.0     15000000  360.0             1.0  \\\n",
              "1              458300            150800.0     12800000  360.0             1.0   \n",
              "2              300000                 0.0      6600000  360.0             1.0   \n",
              "3              258300            235800.0     12000000  360.0             1.0   \n",
              "4              600000                 0.0     14100000  360.0             1.0   \n",
              "..                ...                 ...          ...    ...             ...   \n",
              "609            290000                 0.0      7100000  360.0             1.0   \n",
              "610            410600                 0.0      4000000  180.0             1.0   \n",
              "611            807200             24000.0     25300000  360.0             1.0   \n",
              "612            758300                 0.0     18700000  360.0             1.0   \n",
              "613            458300                 0.0     13300000  360.0             0.0   \n",
              "\n",
              "    loan_given  gender_Female  gender_Male  dependents_0  dependents_1  ...   \n",
              "0            Y          False         True          True         False  ...  \\\n",
              "1            N          False         True         False          True  ...   \n",
              "2            Y          False         True          True         False  ...   \n",
              "3            Y          False         True          True         False  ...   \n",
              "4            Y          False         True          True         False  ...   \n",
              "..         ...            ...          ...           ...           ...  ...   \n",
              "609          Y           True        False          True         False  ...   \n",
              "610          Y          False         True         False         False  ...   \n",
              "611          Y          False         True         False          True  ...   \n",
              "612          Y          False         True         False         False  ...   \n",
              "613          N           True        False          True         False  ...   \n",
              "\n",
              "     dependents_3+  married_No  married_Yes  education_Graduate   \n",
              "0            False        True        False                True  \\\n",
              "1            False       False         True                True   \n",
              "2            False       False         True                True   \n",
              "3            False       False         True               False   \n",
              "4            False        True        False                True   \n",
              "..             ...         ...          ...                 ...   \n",
              "609          False        True        False                True   \n",
              "610           True       False         True                True   \n",
              "611          False       False         True                True   \n",
              "612          False       False         True                True   \n",
              "613          False        True        False                True   \n",
              "\n",
              "     education_Not Graduate  self_employed_No  self_employed_Yes  area_Rural   \n",
              "0                     False              True              False       False  \\\n",
              "1                     False              True              False        True   \n",
              "2                     False             False               True       False   \n",
              "3                      True              True              False       False   \n",
              "4                     False              True              False       False   \n",
              "..                      ...               ...                ...         ...   \n",
              "609                   False              True              False        True   \n",
              "610                   False              True              False        True   \n",
              "611                   False              True              False       False   \n",
              "612                   False              True              False       False   \n",
              "613                   False             False               True       False   \n",
              "\n",
              "     area_Semiurban  area_Urban  \n",
              "0             False        True  \n",
              "1             False       False  \n",
              "2             False        True  \n",
              "3             False        True  \n",
              "4             False        True  \n",
              "..              ...         ...  \n",
              "609           False       False  \n",
              "610           False       False  \n",
              "611           False        True  \n",
              "612           False        True  \n",
              "613            True       False  \n",
              "\n",
              "[499 rows x 21 columns]"
            ]
          },
          "execution_count": 24,
          "metadata": {},
          "output_type": "execute_result"
        }
      ],
      "source": [
        "categorical_variables = [\"gender\", \"dependents\", \"married\", \"education\", \"self_employed\", \"area\"]\n",
        "pd.get_dummies(df, columns=categorical_variables)"
      ]
    },
    {
      "attachments": {},
      "cell_type": "markdown",
      "metadata": {
        "id": "tJaqj1FtOZNo"
      },
      "source": [
        "## Binary Encoding\n",
        "\n",
        "Do we need to encode binary variables? For instance, the column `self_employed` has two possible values: `Yes` and `No`. Can we just use them as they are?\n",
        "\n",
        "The answer is yes*. We can use binary variables as they are, even if they are strings. However, we can also encode them using one-hot encoding. The advantage of one-hot encoding is that it makes it easier to add new categories in the future. For example, if we want to add a new category `Maybe` to the column `self_employed`, we can just add a new column `[0, 0]` to the one-hot encoded matrix.\n",
        "\n",
        "\\* _Actually, it depends. It works for most models in scikit-learn, because sklearn converts binary variables into numbers automatically. But it's not always the case, so it's better to encode binary variables as well to be safe._\n"
      ]
    },
    {
      "cell_type": "code",
      "execution_count": 25,
      "metadata": {
        "id": "rUi8hBzpOZNo"
      },
      "outputs": [
        {
          "data": {
            "text/html": [
              "<div>\n",
              "<style scoped>\n",
              "    .dataframe tbody tr th:only-of-type {\n",
              "        vertical-align: middle;\n",
              "    }\n",
              "\n",
              "    .dataframe tbody tr th {\n",
              "        vertical-align: top;\n",
              "    }\n",
              "\n",
              "    .dataframe thead th {\n",
              "        text-align: right;\n",
              "    }\n",
              "</style>\n",
              "<table border=\"1\" class=\"dataframe\">\n",
              "  <thead>\n",
              "    <tr style=\"text-align: right;\">\n",
              "      <th></th>\n",
              "      <th>married</th>\n",
              "      <th>dependents</th>\n",
              "      <th>education</th>\n",
              "      <th>self_employed</th>\n",
              "      <th>applicant_income</th>\n",
              "      <th>coapplicant_income</th>\n",
              "      <th>loan_amount</th>\n",
              "      <th>term</th>\n",
              "      <th>credit_history</th>\n",
              "      <th>area</th>\n",
              "      <th>loan_given</th>\n",
              "      <th>gender_Female</th>\n",
              "      <th>gender_Male</th>\n",
              "    </tr>\n",
              "  </thead>\n",
              "  <tbody>\n",
              "    <tr>\n",
              "      <th>0</th>\n",
              "      <td>No</td>\n",
              "      <td>0</td>\n",
              "      <td>Graduate</td>\n",
              "      <td>No</td>\n",
              "      <td>584900</td>\n",
              "      <td>0.0</td>\n",
              "      <td>15000000</td>\n",
              "      <td>360.0</td>\n",
              "      <td>1.0</td>\n",
              "      <td>Urban</td>\n",
              "      <td>Y</td>\n",
              "      <td>False</td>\n",
              "      <td>True</td>\n",
              "    </tr>\n",
              "    <tr>\n",
              "      <th>1</th>\n",
              "      <td>Yes</td>\n",
              "      <td>1</td>\n",
              "      <td>Graduate</td>\n",
              "      <td>No</td>\n",
              "      <td>458300</td>\n",
              "      <td>150800.0</td>\n",
              "      <td>12800000</td>\n",
              "      <td>360.0</td>\n",
              "      <td>1.0</td>\n",
              "      <td>Rural</td>\n",
              "      <td>N</td>\n",
              "      <td>False</td>\n",
              "      <td>True</td>\n",
              "    </tr>\n",
              "    <tr>\n",
              "      <th>2</th>\n",
              "      <td>Yes</td>\n",
              "      <td>0</td>\n",
              "      <td>Graduate</td>\n",
              "      <td>Yes</td>\n",
              "      <td>300000</td>\n",
              "      <td>0.0</td>\n",
              "      <td>6600000</td>\n",
              "      <td>360.0</td>\n",
              "      <td>1.0</td>\n",
              "      <td>Urban</td>\n",
              "      <td>Y</td>\n",
              "      <td>False</td>\n",
              "      <td>True</td>\n",
              "    </tr>\n",
              "    <tr>\n",
              "      <th>3</th>\n",
              "      <td>Yes</td>\n",
              "      <td>0</td>\n",
              "      <td>Not Graduate</td>\n",
              "      <td>No</td>\n",
              "      <td>258300</td>\n",
              "      <td>235800.0</td>\n",
              "      <td>12000000</td>\n",
              "      <td>360.0</td>\n",
              "      <td>1.0</td>\n",
              "      <td>Urban</td>\n",
              "      <td>Y</td>\n",
              "      <td>False</td>\n",
              "      <td>True</td>\n",
              "    </tr>\n",
              "    <tr>\n",
              "      <th>4</th>\n",
              "      <td>No</td>\n",
              "      <td>0</td>\n",
              "      <td>Graduate</td>\n",
              "      <td>No</td>\n",
              "      <td>600000</td>\n",
              "      <td>0.0</td>\n",
              "      <td>14100000</td>\n",
              "      <td>360.0</td>\n",
              "      <td>1.0</td>\n",
              "      <td>Urban</td>\n",
              "      <td>Y</td>\n",
              "      <td>False</td>\n",
              "      <td>True</td>\n",
              "    </tr>\n",
              "    <tr>\n",
              "      <th>...</th>\n",
              "      <td>...</td>\n",
              "      <td>...</td>\n",
              "      <td>...</td>\n",
              "      <td>...</td>\n",
              "      <td>...</td>\n",
              "      <td>...</td>\n",
              "      <td>...</td>\n",
              "      <td>...</td>\n",
              "      <td>...</td>\n",
              "      <td>...</td>\n",
              "      <td>...</td>\n",
              "      <td>...</td>\n",
              "      <td>...</td>\n",
              "    </tr>\n",
              "    <tr>\n",
              "      <th>609</th>\n",
              "      <td>No</td>\n",
              "      <td>0</td>\n",
              "      <td>Graduate</td>\n",
              "      <td>No</td>\n",
              "      <td>290000</td>\n",
              "      <td>0.0</td>\n",
              "      <td>7100000</td>\n",
              "      <td>360.0</td>\n",
              "      <td>1.0</td>\n",
              "      <td>Rural</td>\n",
              "      <td>Y</td>\n",
              "      <td>True</td>\n",
              "      <td>False</td>\n",
              "    </tr>\n",
              "    <tr>\n",
              "      <th>610</th>\n",
              "      <td>Yes</td>\n",
              "      <td>3+</td>\n",
              "      <td>Graduate</td>\n",
              "      <td>No</td>\n",
              "      <td>410600</td>\n",
              "      <td>0.0</td>\n",
              "      <td>4000000</td>\n",
              "      <td>180.0</td>\n",
              "      <td>1.0</td>\n",
              "      <td>Rural</td>\n",
              "      <td>Y</td>\n",
              "      <td>False</td>\n",
              "      <td>True</td>\n",
              "    </tr>\n",
              "    <tr>\n",
              "      <th>611</th>\n",
              "      <td>Yes</td>\n",
              "      <td>1</td>\n",
              "      <td>Graduate</td>\n",
              "      <td>No</td>\n",
              "      <td>807200</td>\n",
              "      <td>24000.0</td>\n",
              "      <td>25300000</td>\n",
              "      <td>360.0</td>\n",
              "      <td>1.0</td>\n",
              "      <td>Urban</td>\n",
              "      <td>Y</td>\n",
              "      <td>False</td>\n",
              "      <td>True</td>\n",
              "    </tr>\n",
              "    <tr>\n",
              "      <th>612</th>\n",
              "      <td>Yes</td>\n",
              "      <td>2</td>\n",
              "      <td>Graduate</td>\n",
              "      <td>No</td>\n",
              "      <td>758300</td>\n",
              "      <td>0.0</td>\n",
              "      <td>18700000</td>\n",
              "      <td>360.0</td>\n",
              "      <td>1.0</td>\n",
              "      <td>Urban</td>\n",
              "      <td>Y</td>\n",
              "      <td>False</td>\n",
              "      <td>True</td>\n",
              "    </tr>\n",
              "    <tr>\n",
              "      <th>613</th>\n",
              "      <td>No</td>\n",
              "      <td>0</td>\n",
              "      <td>Graduate</td>\n",
              "      <td>Yes</td>\n",
              "      <td>458300</td>\n",
              "      <td>0.0</td>\n",
              "      <td>13300000</td>\n",
              "      <td>360.0</td>\n",
              "      <td>0.0</td>\n",
              "      <td>Semiurban</td>\n",
              "      <td>N</td>\n",
              "      <td>True</td>\n",
              "      <td>False</td>\n",
              "    </tr>\n",
              "  </tbody>\n",
              "</table>\n",
              "<p>499 rows × 13 columns</p>\n",
              "</div>"
            ],
            "text/plain": [
              "    married dependents     education self_employed  applicant_income   \n",
              "0        No          0      Graduate            No            584900  \\\n",
              "1       Yes          1      Graduate            No            458300   \n",
              "2       Yes          0      Graduate           Yes            300000   \n",
              "3       Yes          0  Not Graduate            No            258300   \n",
              "4        No          0      Graduate            No            600000   \n",
              "..      ...        ...           ...           ...               ...   \n",
              "609      No          0      Graduate            No            290000   \n",
              "610     Yes         3+      Graduate            No            410600   \n",
              "611     Yes          1      Graduate            No            807200   \n",
              "612     Yes          2      Graduate            No            758300   \n",
              "613      No          0      Graduate           Yes            458300   \n",
              "\n",
              "     coapplicant_income  loan_amount   term  credit_history       area   \n",
              "0                   0.0     15000000  360.0             1.0      Urban  \\\n",
              "1              150800.0     12800000  360.0             1.0      Rural   \n",
              "2                   0.0      6600000  360.0             1.0      Urban   \n",
              "3              235800.0     12000000  360.0             1.0      Urban   \n",
              "4                   0.0     14100000  360.0             1.0      Urban   \n",
              "..                  ...          ...    ...             ...        ...   \n",
              "609                 0.0      7100000  360.0             1.0      Rural   \n",
              "610                 0.0      4000000  180.0             1.0      Rural   \n",
              "611             24000.0     25300000  360.0             1.0      Urban   \n",
              "612                 0.0     18700000  360.0             1.0      Urban   \n",
              "613                 0.0     13300000  360.0             0.0  Semiurban   \n",
              "\n",
              "    loan_given  gender_Female  gender_Male  \n",
              "0            Y          False         True  \n",
              "1            N          False         True  \n",
              "2            Y          False         True  \n",
              "3            Y          False         True  \n",
              "4            Y          False         True  \n",
              "..         ...            ...          ...  \n",
              "609          Y           True        False  \n",
              "610          Y          False         True  \n",
              "611          Y          False         True  \n",
              "612          Y          False         True  \n",
              "613          N           True        False  \n",
              "\n",
              "[499 rows x 13 columns]"
            ]
          },
          "execution_count": 25,
          "metadata": {},
          "output_type": "execute_result"
        }
      ],
      "source": [
        "pd.get_dummies(df, columns=[\"gender\"])"
      ]
    },
    {
      "attachments": {},
      "cell_type": "markdown",
      "metadata": {
        "id": "_rRN0oGeOZNp"
      },
      "source": [
        "## Combining Numerical and Categorical Variables\n",
        "\n",
        "Once we encode all the categorical variables, we can combine them with the numerical variables to create a single matrix. This matrix will be our feature matrix.\n",
        "\n",
        "Let's see how to do that in Python. Let's use `pd.get_dummies` because it is much easier to use than `OneHotEncoder`."
      ]
    },
    {
      "cell_type": "code",
      "execution_count": 26,
      "metadata": {
        "id": "TkyoPokqOZNp"
      },
      "outputs": [
        {
          "name": "stdout",
          "output_type": "stream",
          "text": [
            "(499, 20)\n"
          ]
        },
        {
          "data": {
            "text/html": [
              "<div>\n",
              "<style scoped>\n",
              "    .dataframe tbody tr th:only-of-type {\n",
              "        vertical-align: middle;\n",
              "    }\n",
              "\n",
              "    .dataframe tbody tr th {\n",
              "        vertical-align: top;\n",
              "    }\n",
              "\n",
              "    .dataframe thead th {\n",
              "        text-align: right;\n",
              "    }\n",
              "</style>\n",
              "<table border=\"1\" class=\"dataframe\">\n",
              "  <thead>\n",
              "    <tr style=\"text-align: right;\">\n",
              "      <th></th>\n",
              "      <th>applicant_income</th>\n",
              "      <th>coapplicant_income</th>\n",
              "      <th>loan_amount</th>\n",
              "      <th>term</th>\n",
              "      <th>credit_history</th>\n",
              "      <th>loan_given</th>\n",
              "      <th>gender_Female</th>\n",
              "      <th>gender_Male</th>\n",
              "      <th>dependents_0</th>\n",
              "      <th>dependents_1</th>\n",
              "      <th>...</th>\n",
              "      <th>dependents_3+</th>\n",
              "      <th>married_No</th>\n",
              "      <th>married_Yes</th>\n",
              "      <th>education_Graduate</th>\n",
              "      <th>education_Not Graduate</th>\n",
              "      <th>self_employed_No</th>\n",
              "      <th>self_employed_Yes</th>\n",
              "      <th>area_Rural</th>\n",
              "      <th>area_Semiurban</th>\n",
              "      <th>area_Urban</th>\n",
              "    </tr>\n",
              "  </thead>\n",
              "  <tbody>\n",
              "    <tr>\n",
              "      <th>0</th>\n",
              "      <td>584900</td>\n",
              "      <td>0.0</td>\n",
              "      <td>15000000</td>\n",
              "      <td>360.0</td>\n",
              "      <td>1.0</td>\n",
              "      <td>Y</td>\n",
              "      <td>False</td>\n",
              "      <td>True</td>\n",
              "      <td>True</td>\n",
              "      <td>False</td>\n",
              "      <td>...</td>\n",
              "      <td>False</td>\n",
              "      <td>True</td>\n",
              "      <td>False</td>\n",
              "      <td>True</td>\n",
              "      <td>False</td>\n",
              "      <td>True</td>\n",
              "      <td>False</td>\n",
              "      <td>False</td>\n",
              "      <td>False</td>\n",
              "      <td>True</td>\n",
              "    </tr>\n",
              "    <tr>\n",
              "      <th>1</th>\n",
              "      <td>458300</td>\n",
              "      <td>150800.0</td>\n",
              "      <td>12800000</td>\n",
              "      <td>360.0</td>\n",
              "      <td>1.0</td>\n",
              "      <td>N</td>\n",
              "      <td>False</td>\n",
              "      <td>True</td>\n",
              "      <td>False</td>\n",
              "      <td>True</td>\n",
              "      <td>...</td>\n",
              "      <td>False</td>\n",
              "      <td>False</td>\n",
              "      <td>True</td>\n",
              "      <td>True</td>\n",
              "      <td>False</td>\n",
              "      <td>True</td>\n",
              "      <td>False</td>\n",
              "      <td>True</td>\n",
              "      <td>False</td>\n",
              "      <td>False</td>\n",
              "    </tr>\n",
              "    <tr>\n",
              "      <th>2</th>\n",
              "      <td>300000</td>\n",
              "      <td>0.0</td>\n",
              "      <td>6600000</td>\n",
              "      <td>360.0</td>\n",
              "      <td>1.0</td>\n",
              "      <td>Y</td>\n",
              "      <td>False</td>\n",
              "      <td>True</td>\n",
              "      <td>True</td>\n",
              "      <td>False</td>\n",
              "      <td>...</td>\n",
              "      <td>False</td>\n",
              "      <td>False</td>\n",
              "      <td>True</td>\n",
              "      <td>True</td>\n",
              "      <td>False</td>\n",
              "      <td>False</td>\n",
              "      <td>True</td>\n",
              "      <td>False</td>\n",
              "      <td>False</td>\n",
              "      <td>True</td>\n",
              "    </tr>\n",
              "    <tr>\n",
              "      <th>3</th>\n",
              "      <td>258300</td>\n",
              "      <td>235800.0</td>\n",
              "      <td>12000000</td>\n",
              "      <td>360.0</td>\n",
              "      <td>1.0</td>\n",
              "      <td>Y</td>\n",
              "      <td>False</td>\n",
              "      <td>True</td>\n",
              "      <td>True</td>\n",
              "      <td>False</td>\n",
              "      <td>...</td>\n",
              "      <td>False</td>\n",
              "      <td>False</td>\n",
              "      <td>True</td>\n",
              "      <td>False</td>\n",
              "      <td>True</td>\n",
              "      <td>True</td>\n",
              "      <td>False</td>\n",
              "      <td>False</td>\n",
              "      <td>False</td>\n",
              "      <td>True</td>\n",
              "    </tr>\n",
              "    <tr>\n",
              "      <th>4</th>\n",
              "      <td>600000</td>\n",
              "      <td>0.0</td>\n",
              "      <td>14100000</td>\n",
              "      <td>360.0</td>\n",
              "      <td>1.0</td>\n",
              "      <td>Y</td>\n",
              "      <td>False</td>\n",
              "      <td>True</td>\n",
              "      <td>True</td>\n",
              "      <td>False</td>\n",
              "      <td>...</td>\n",
              "      <td>False</td>\n",
              "      <td>True</td>\n",
              "      <td>False</td>\n",
              "      <td>True</td>\n",
              "      <td>False</td>\n",
              "      <td>True</td>\n",
              "      <td>False</td>\n",
              "      <td>False</td>\n",
              "      <td>False</td>\n",
              "      <td>True</td>\n",
              "    </tr>\n",
              "  </tbody>\n",
              "</table>\n",
              "<p>5 rows × 21 columns</p>\n",
              "</div>"
            ],
            "text/plain": [
              "   applicant_income  coapplicant_income  loan_amount   term  credit_history   \n",
              "0            584900                 0.0     15000000  360.0             1.0  \\\n",
              "1            458300            150800.0     12800000  360.0             1.0   \n",
              "2            300000                 0.0      6600000  360.0             1.0   \n",
              "3            258300            235800.0     12000000  360.0             1.0   \n",
              "4            600000                 0.0     14100000  360.0             1.0   \n",
              "\n",
              "  loan_given  gender_Female  gender_Male  dependents_0  dependents_1  ...   \n",
              "0          Y          False         True          True         False  ...  \\\n",
              "1          N          False         True         False          True  ...   \n",
              "2          Y          False         True          True         False  ...   \n",
              "3          Y          False         True          True         False  ...   \n",
              "4          Y          False         True          True         False  ...   \n",
              "\n",
              "   dependents_3+  married_No  married_Yes  education_Graduate   \n",
              "0          False        True        False                True  \\\n",
              "1          False       False         True                True   \n",
              "2          False       False         True                True   \n",
              "3          False       False         True               False   \n",
              "4          False        True        False                True   \n",
              "\n",
              "   education_Not Graduate  self_employed_No  self_employed_Yes  area_Rural   \n",
              "0                   False              True              False       False  \\\n",
              "1                   False              True              False        True   \n",
              "2                   False             False               True       False   \n",
              "3                    True              True              False       False   \n",
              "4                   False              True              False       False   \n",
              "\n",
              "   area_Semiurban  area_Urban  \n",
              "0           False        True  \n",
              "1           False       False  \n",
              "2           False        True  \n",
              "3           False        True  \n",
              "4           False        True  \n",
              "\n",
              "[5 rows x 21 columns]"
            ]
          },
          "metadata": {},
          "output_type": "display_data"
        }
      ],
      "source": [
        "df_encoded = pd.get_dummies(df, columns=categorical_variables)\n",
        "X = df_encoded.drop(\"loan_given\", axis=1).values\n",
        "# We do not need to encode the target variable, but it makes evaluation easier later\n",
        "y = df_encoded[\"loan_given\"].apply(lambda x: 1 if x == \"Y\" else 0).values\n",
        "print(X.shape)\n",
        "display(df_encoded.head())"
      ]
    },
    {
      "attachments": {},
      "cell_type": "markdown",
      "metadata": {
        "id": "np1G2RddOZNp"
      },
      "source": [
        "### Task: train a decision tree classifier to predict whether a loan will be given to an applicant. Split the data into training and test sets. Use a classification report to evaluate the model."
      ]
    },
    {
      "cell_type": "code",
      "execution_count": null,
      "metadata": {
        "id": "rn_WqPPMOZNp"
      },
      "outputs": [],
      "source": []
    },
    {
      "attachments": {},
      "cell_type": "markdown",
      "metadata": {
        "id": "-XwdgtzmOZNp"
      },
      "source": [
        "# Cross-Validation\n",
        "\n",
        "In the previous tutorial, we split the data into training and test sets. We trained the model on the training set and evaluated it on the test set. This approach is called **holdout validation**.\n",
        "\n",
        "Holdout validation is a good approach, but it has one major drawback: it only uses part of the data for training. In our case, we used 80% of the data for training and 20% for testing. This means that we are not using 20% of the data for training. Moreover, the random split might have put most of the difficult examples in the training set and most of the easy examples in the test set. This would make the model look better than it actually is.\n",
        "\n",
        "To solve this problem, we can use **cross-validation**. Cross-validation is a technique that allows us to use all the data for training and testing. It also allows us to evaluate the model on multiple test sets instead of just one test set.\n",
        "\n",
        "There are many types of cross-validation. In this tutorial, we will use **k-fold cross-validation**. In k-fold cross-validation, we split the data into `k` folds (also called splits). Then, we train the model `k` times. Each time, we use a different fold for testing and the remaining folds for training. Finally, we average the results of the k models to get the final result.\n",
        "\n",
        "10-fold and 5-fold cross-validation are the most common types of cross-validation. Let's see how to do it in Python using the `cross_validate` function from the `sklearn.model_selection` module."
      ]
    },
    {
      "cell_type": "code",
      "execution_count": 27,
      "metadata": {
        "id": "2nwJFi_6OZNp"
      },
      "outputs": [
        {
          "name": "stdout",
          "output_type": "stream",
          "text": [
            "Cross-Validation Scores: {'fit_time': array([0.00645256, 0.00422764, 0.00407076, 0.00340724, 0.00397491]), 'score_time': array([0.00836945, 0.01041698, 0.00835848, 0.00801325, 0.00623274]), 'test_accuracy': array([0.71      , 0.72      , 0.71      , 0.73      , 0.73737374]), 'test_precision': array([0.78571429, 0.75      , 0.76712329, 0.84745763, 0.828125  ]), 'test_recall': array([0.79710145, 0.88235294, 0.82352941, 0.73529412, 0.77941176]), 'test_f1': array([0.79136691, 0.81081081, 0.79432624, 0.78740157, 0.8030303 ])}\n"
          ]
        }
      ],
      "source": [
        "from sklearn.model_selection import cross_validate\n",
        "from sklearn.tree import DecisionTreeClassifier\n",
        "\n",
        "# Create a Decision Tree classifier\n",
        "clf = DecisionTreeClassifier()\n",
        "# Define the scoring metrics\n",
        "metrics = [\"accuracy\", \"precision\", \"recall\", \"f1\"]\n",
        "# Perform 5-fold cross-validation\n",
        "cv_scores = cross_validate(clf, X, y, cv=5, scoring=metrics)\n",
        "# Print the cross-validation scores\n",
        "print(\"Cross-Validation Scores:\", cv_scores)"
      ]
    },
    {
      "attachments": {},
      "cell_type": "markdown",
      "metadata": {
        "id": "yuhAm5RQOZNq"
      },
      "source": [
        "`cross_validate` takes as input a model, a feature matrix, a target vector, the number of folds, and, optionally, a scoring function (metrics to evaluate the model). It returns a dictionary containing the scores of the model on each fold.\n",
        "\n",
        "Have a look at the dictionary returned by `cross_validate` to understand what is in there.\n",
        "\n",
        "The most important things to look at are the mean and the standard deviation of the scores. The mean tells us how good the model is on average. The standard deviation tells us how consistent the model is. If the standard deviation is high, it means that the model performs very differently on different folds."
      ]
    },
    {
      "cell_type": "code",
      "execution_count": 32,
      "metadata": {
        "id": "CQLvOiDHOZNq"
      },
      "outputs": [
        {
          "name": "stdout",
          "output_type": "stream",
          "text": [
            "Mean accuracy : 0.709, std: 0.013\n",
            "Mean precision : 0.785, std: 0.028\n",
            "Mean recall : 0.795, std: 0.026\n",
            "Mean f1 : 0.789, std: 0.005\n"
          ]
        }
      ],
      "source": [
        "for metric in metrics:\n",
        "    metric_key = f\"test_{metric}\"\n",
        "    print(f\"Mean {metric} : {cv_scores[metric_key].mean():.3f}, std: {cv_scores[metric_key].std():.3f}\")"
      ]
    },
    {
      "attachments": {},
      "cell_type": "markdown",
      "metadata": {
        "id": "gPKktzCqOZNq"
      },
      "source": [
        "## Getting the Models\n",
        "\n",
        "By default, the `cross_validate` function only returns the scores of the model. If we want to get the models themselves, we can set the parameter `return_estimator` to `True`.\n",
        "\n",
        "In this case, the returned dictionary will include a key `estimator` that contains the list of models -- one for each fold. \n",
        "\n",
        "We can use these models to make predictions on new data."
      ]
    },
    {
      "cell_type": "code",
      "execution_count": 33,
      "metadata": {
        "id": "LBjKJjQ7OZNq"
      },
      "outputs": [
        {
          "name": "stdout",
          "output_type": "stream",
          "text": [
            "[DecisionTreeClassifier(), DecisionTreeClassifier(), DecisionTreeClassifier(), DecisionTreeClassifier(), DecisionTreeClassifier()]\n"
          ]
        }
      ],
      "source": [
        "cv_scores = cross_validate(clf, X, y, cv=5, scoring=metrics, return_estimator=True)\n",
        "models = cv_scores[\"estimator\"]\n",
        "print(models)"
      ]
    },
    {
      "attachments": {},
      "cell_type": "markdown",
      "metadata": {
        "id": "l0neVUZ1OZNq"
      },
      "source": [
        "## Getting the Model with the Best Score\n",
        "\n",
        "We can also get the model with best performance according to a specific metric. \n",
        "\n",
        "Let's get the model with highest F1."
      ]
    },
    {
      "cell_type": "code",
      "execution_count": 34,
      "metadata": {
        "id": "08N1xQ2xOZNr"
      },
      "outputs": [
        {
          "name": "stdout",
          "output_type": "stream",
          "text": [
            "DecisionTreeClassifier()\n"
          ]
        }
      ],
      "source": [
        "import numpy as np\n",
        "\n",
        "# Get the scores for the specified metric\n",
        "scores = cv_scores[\"test_f1\"]\n",
        "# Find the index of the model with the best performance\n",
        "best_model_index = np.argmax(scores)\n",
        "# Get the best model\n",
        "best_model = cv_scores[\"estimator\"][best_model_index]\n",
        "print(best_model)"
      ]
    },
    {
      "attachments": {},
      "cell_type": "markdown",
      "metadata": {
        "id": "auitIX21OZNr"
      },
      "source": [
        "We can now use it to make predictions on new data!"
      ]
    },
    {
      "cell_type": "code",
      "execution_count": 35,
      "metadata": {
        "id": "dWluwizvOZNr"
      },
      "outputs": [
        {
          "ename": "NameError",
          "evalue": "name 'X_test' is not defined",
          "output_type": "error",
          "traceback": [
            "\u001b[1;31m---------------------------------------------------------------------------\u001b[0m",
            "\u001b[1;31mNameError\u001b[0m                                 Traceback (most recent call last)",
            "Cell \u001b[1;32mIn[35], line 1\u001b[0m\n\u001b[1;32m----> 1\u001b[0m best_model\u001b[39m.\u001b[39mpredict(X_test)\n",
            "\u001b[1;31mNameError\u001b[0m: name 'X_test' is not defined"
          ]
        }
      ],
      "source": [
        "best_model.predict(X_test)"
      ]
    },
    {
      "attachments": {},
      "cell_type": "markdown",
      "metadata": {
        "id": "o9IFOxp6OZNr"
      },
      "source": [
        "## Task: train a logistic regression model to predict whether a loan will be given to an applicant. Use 5-fold cross-validation to evaluate the model.\n",
        "\n",
        "Use F1 score as the evaluation metric. Print the mean and standard deviation of the F1 scores. Also print the highest F1 score."
      ]
    },
    {
      "cell_type": "code",
      "execution_count": 36,
      "metadata": {
        "id": "zJgFdUncOZN6"
      },
      "outputs": [
        {
          "name": "stdout",
          "output_type": "stream",
          "text": [
            "Cross-Validation Scores: {'fit_time': array([0.04668546, 0.01450491, 0.00780964, 0.01877356, 0.01489949]), 'score_time': array([0.00360179, 0.00300455, 0.        , 0.        , 0.00370669]), 'test_score': array([0.79268293, 0.8       , 0.80239521, 0.80952381, 0.81927711])}\n",
            "Mean F1: 0.805, std: 0.009, max: 0.819\n"
          ]
        }
      ],
      "source": [
        "from sklearn.linear_model import LogisticRegression\n",
        "\n",
        "clf = LogisticRegression()\n",
        "cv_scores = cross_validate(clf, X, y, cv=5, scoring=\"f1\")\n",
        "print(\"Cross-Validation Scores:\", cv_scores)\n",
        "print(f\"Mean F1: {cv_scores['test_score'].mean():.3f}, std: {cv_scores['test_score'].std():.3f}, max: {cv_scores['test_score'].max():.3f}\")"
      ]
    },
    {
      "attachments": {},
      "cell_type": "markdown",
      "metadata": {
        "id": "0QJz5YsAOZN6"
      },
      "source": [
        "# Hyperparameter Tuning\n",
        "\n",
        "So far, we have used the default hyperparameters of the models. Hyperparameters are parameters that are not learned during training. They are set before training and remain constant during training. For example, the maximum depth of a decision tree is a hyperparameter. Hyperparameters can have a big impact on the performance of the model.\n",
        "\n",
        "Each model has its own set of hyperparameters. To check the hyperparameters of a model, we can check the documentation of corresponding sklearn class. For example, the documentation of the `DecisionTreeClassifier` class can be found [here](https://scikit-learn.org/stable/modules/generated/sklearn.tree.DecisionTreeClassifier.html).\n",
        "\n",
        "We will learn how to optmise the hyperparameters of a model using grid search. Grid search is a technique that allows us to find the best combination of hyperparameters for a model. It works by trying all possible combinations and selecting the best one.\n",
        "\n",
        "Let's see how to do that in Python using the `GridSearchCV` class from the `sklearn.model_selection` module."
      ]
    },
    {
      "cell_type": "code",
      "execution_count": 37,
      "metadata": {
        "id": "iSuyT2DhOZN7"
      },
      "outputs": [
        {
          "name": "stdout",
          "output_type": "stream",
          "text": [
            "Best Parameter: {'max_depth': 1}\n",
            "Best Score: 0.8723105935438292\n"
          ]
        }
      ],
      "source": [
        "from sklearn.model_selection import GridSearchCV\n",
        "\n",
        "# Define the model\n",
        "clf = DecisionTreeClassifier()\n",
        "# Define the parameter grid\n",
        "param_grid = {\"max_depth\": [1, 3, 5, 7, 9]}\n",
        "# Perform grid search with cross-validation\n",
        "grid_search = GridSearchCV(clf, param_grid, cv=5, scoring=\"f1\")\n",
        "# Fit the grid search to the data\n",
        "grid_search.fit(X, y)\n",
        "# Print the best parameter and best score\n",
        "print(\"Best Parameter:\", grid_search.best_params_)\n",
        "print(\"Best Score:\", grid_search.best_score_)\n"
      ]
    },
    {
      "attachments": {},
      "cell_type": "markdown",
      "metadata": {
        "id": "1LPLhKxwOZN7"
      },
      "source": [
        "We first define the model we are going to optimise. Then, we define the hyperparameters we want to optimise. We put the hyperparameters in a dictionary. The keys of the dictionary are the names of the hyperparameters and the values are the values we want to try. In this case, we want to try 5 values for the maximum depth of the decision tree: 1, 3, 5, 7, and 9.\n",
        "\n",
        "The `GridSearchCV` class takes as input the model, the hyperparameters, the number of folds, and the scoring function. Then, it performs cross-validation for each model considering all possible combinations of hyperparameters. \n",
        "\n",
        "We can then get the best hyperparameters using the `best_params_` attribute, the best score using `best_score_`, and the also best model using `best_estimator_`.\n",
        "\n",
        "We can optimise multiple hyperparameters at the same time. Let's optimise the maximum depth and the minimum number of samples required to split an internal node."
      ]
    },
    {
      "cell_type": "code",
      "execution_count": 38,
      "metadata": {
        "id": "eE7r0dY7OZN7"
      },
      "outputs": [
        {
          "name": "stdout",
          "output_type": "stream",
          "text": [
            "Best Parameter: {'max_depth': 1, 'min_samples_leaf': 1}\n",
            "Best Score: 0.8723105935438292\n"
          ]
        }
      ],
      "source": [
        "# Define the model\n",
        "clf = DecisionTreeClassifier()\n",
        "# Define the parameter grid\n",
        "param_grid = {\"max_depth\": [1, 3, 5, 7, 9], \"min_samples_leaf\": [1, 5, 10]}\n",
        "# Perform grid search with cross-validation\n",
        "grid_search = GridSearchCV(clf, param_grid, cv=5, scoring=\"f1\")\n",
        "# Fit the grid search to the data\n",
        "grid_search.fit(X, y)\n",
        "# Print the best parameter and best score\n",
        "print(\"Best Parameter:\", grid_search.best_params_)\n",
        "print(\"Best Score:\", grid_search.best_score_)\n"
      ]
    },
    {
      "attachments": {},
      "cell_type": "markdown",
      "metadata": {
        "id": "AYwZjaC0OZN7"
      },
      "source": [
        "In this case, we have 5 values for the maximum depth and 3 values for the minimum number of samples. This means that we will try 15 combinations of hyperparameters.\n",
        "\n",
        "The best score did not change. This means that `min_samples_leaf` did not impact our model, and the default value is good enough.\n",
        "\n",
        "Can we get a better score?"
      ]
    },
    {
      "attachments": {},
      "cell_type": "markdown",
      "metadata": {
        "id": "Kcd8VAKbOZN7"
      },
      "source": [
        "### Task: select at least one more hyperparameter and optimise it. Print the best hyperparameters and the best score.\n",
        "\n",
        "Try to beat the current best score! (0.872)"
      ]
    },
    {
      "cell_type": "code",
      "execution_count": null,
      "metadata": {
        "id": "V1cts-aYOZN7"
      },
      "outputs": [],
      "source": []
    },
    {
      "attachments": {},
      "cell_type": "markdown",
      "metadata": {
        "id": "TngOOIFYOZN7"
      },
      "source": [
        "### Task: now optimise the hyperparameters of a logistic regression model. Print the best hyperparameters and the best score.\n",
        "\n",
        "Can you outperform the decision tree classifier?"
      ]
    },
    {
      "cell_type": "code",
      "execution_count": null,
      "metadata": {
        "id": "iZRYRIgFOZN8"
      },
      "outputs": [],
      "source": []
    },
    {
      "attachments": {},
      "cell_type": "markdown",
      "metadata": {
        "id": "6-Aq-PKSOZN8"
      },
      "source": [
        "### Task: compare the best decision tree classifier and the best logistic regression model. Use a classification report and a confusion matrix to evaluate the models.\n",
        "\n",
        "What are the main differences?"
      ]
    },
    {
      "cell_type": "code",
      "execution_count": null,
      "metadata": {
        "id": "RSlFJLxdOZN8"
      },
      "outputs": [],
      "source": []
    },
    {
      "attachments": {},
      "cell_type": "markdown",
      "metadata": {
        "id": "AXulqPEuOZN8"
      },
      "source": [
        "There are other ways of optimising hyperparameters. In sklearn, you can also use [RandomizedSearchCV](https://scikit-learn.org/stable/modules/generated/sklearn.model_selection.RandomizedSearchCV.html). Have a look at the documentation to learn more about them. [This tutorial](https://scikit-learn.org/stable/modules/grid_search.html) provides a nice overview of the different methods."
      ]
    },
    {
      "attachments": {},
      "cell_type": "markdown",
      "metadata": {
        "id": "dQSyHu34OZN8"
      },
      "source": [
        "# Feature Selection\n",
        "\n",
        "We have just learned how to optimise the hyperparameters of a model. We can also optimise the features used to train model. This is called **feature selection**. Feature selection is the process of selecting the most important features for a model. It is useful because it can reduce complexity and improve performance.\n",
        "\n",
        "There are [many methods](https://scikit-learn.org/stable/modules/feature_selection.html) for feature selection. In this tutorial, we will learn about `SelectKBest`. `SelectKBest` is a method that selects the `k` best features according to a specific metric.\n",
        "\n",
        "Let's see how it works in sklearn."
      ]
    },
    {
      "cell_type": "code",
      "execution_count": 39,
      "metadata": {
        "id": "FOgj3fHdOZN8"
      },
      "outputs": [
        {
          "name": "stdout",
          "output_type": "stream",
          "text": [
            "Selected Features: Index(['applicant_income', 'coapplicant_income', 'loan_amount',\n",
            "       'credit_history', 'area_Semiurban'],\n",
            "      dtype='object')\n"
          ]
        }
      ],
      "source": [
        "from sklearn.feature_selection import SelectKBest, chi2\n",
        "\n",
        "# Number of features to select\n",
        "k = 5\n",
        "selector = SelectKBest(k=k, score_func=chi2)\n",
        "X_selected = selector.fit_transform(X, y)\n",
        "# Get the selected feature indices\n",
        "feature_indices = selector.get_support(indices=True)\n",
        "# Print the selected features\n",
        "selected_features = df_encoded.drop(\"loan_given\", axis=1).columns[feature_indices]\n",
        "print(\"Selected Features:\", selected_features)"
      ]
    },
    {
      "cell_type": "code",
      "execution_count": 40,
      "metadata": {
        "id": "Xkj50BXQOZN8"
      },
      "outputs": [
        {
          "data": {
            "text/plain": [
              "array([5.85157485e+05, 3.83022278e+05, 2.84823158e+06, 1.03759099e-01,\n",
              "       2.06423262e+01, 1.38548898e+00, 2.96649708e-01, 7.01438670e-02,\n",
              "       3.17649089e-01, 1.80573704e+00, 2.06099137e-01, 3.54696473e+00,\n",
              "       1.91579885e+00, 7.61999520e-01, 2.89413279e+00, 4.97884540e-02,\n",
              "       3.10275873e-01, 3.91869869e+00, 8.32637164e+00, 1.70340585e+00])"
            ]
          },
          "execution_count": 40,
          "metadata": {},
          "output_type": "execute_result"
        }
      ],
      "source": [
        "selector.scores_"
      ]
    },
    {
      "attachments": {},
      "cell_type": "markdown",
      "metadata": {
        "id": "DD49gudeOZN9"
      },
      "source": [
        "We are using `chi2` as the scoring function. `chi2` (chi-squared) is a statistical test that measures the dependence between two variables. In this case, it measures the dependence between each feature and the target. The higher the score, the more important the feature.\n",
        "\n",
        "We can check the scores of each feature using the `scores_` attribute."
      ]
    },
    {
      "cell_type": "code",
      "execution_count": 41,
      "metadata": {
        "id": "GceKf4oLOZN9"
      },
      "outputs": [
        {
          "name": "stdout",
          "output_type": "stream",
          "text": [
            "[5.85157485e+05 3.83022278e+05 2.84823158e+06 1.03759099e-01\n",
            " 2.06423262e+01 1.38548898e+00 2.96649708e-01 7.01438670e-02\n",
            " 3.17649089e-01 1.80573704e+00 2.06099137e-01 3.54696473e+00\n",
            " 1.91579885e+00 7.61999520e-01 2.89413279e+00 4.97884540e-02\n",
            " 3.10275873e-01 3.91869869e+00 8.32637164e+00 1.70340585e+00]\n"
          ]
        }
      ],
      "source": [
        "print(selector.scores_)"
      ]
    },
    {
      "attachments": {},
      "cell_type": "markdown",
      "metadata": {
        "id": "fEjSEx3POZN9"
      },
      "source": [
        "### Task: select the 5 best features and train a decision tree classifier using these features. Print the classification report and the confusion matrix."
      ]
    },
    {
      "cell_type": "code",
      "execution_count": null,
      "metadata": {
        "id": "h3Y6LrzsOZN9"
      },
      "outputs": [],
      "source": []
    },
    {
      "attachments": {},
      "cell_type": "markdown",
      "metadata": {
        "id": "1PSI1ku8OZN9"
      },
      "source": [
        "### Task: do the same thing with a logistic regression model. Which model performs better with fewer features?"
      ]
    },
    {
      "attachments": {},
      "cell_type": "markdown",
      "metadata": {
        "id": "ecgM7Zv4OZN9"
      },
      "source": []
    }
  ],
  "metadata": {
    "colab": {
      "provenance": []
    },
    "kernelspec": {
      "display_name": "Python 3",
      "language": "python",
      "name": "python3"
    },
    "language_info": {
      "codemirror_mode": {
        "name": "ipython",
        "version": 3
      },
      "file_extension": ".py",
      "mimetype": "text/x-python",
      "name": "python",
      "nbconvert_exporter": "python",
      "pygments_lexer": "ipython3",
      "version": "3.11.3"
    },
    "orig_nbformat": 4
  },
  "nbformat": 4,
  "nbformat_minor": 0
}
