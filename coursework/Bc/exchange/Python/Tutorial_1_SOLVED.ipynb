{
    "cells": [
        {
            "attachments": {},
            "cell_type": "markdown",
            "metadata": {},
            "source": [
                "# Introduction to Python and Notebooks\n",
                "\n",
                "In this tutorial, we will learn the basics of Python programming language. We will cover the following topics:\n",
                "\n",
                "- Variables, data types, and operators\n",
                "- Basic data structures (lists, tuples, dictionaries)\n",
                "- Control flow: conditionals and loops.\n",
                "- Functions\n",
                "\n",
                "By the end of this tutorial, you will be able to implement a simple bill calculator for a restaurant!"
            ]
        },
        {
            "attachments": {},
            "cell_type": "markdown",
            "metadata": {},
            "source": [
                "# Using Notebooks\n",
                "\n",
                "Notebooks are a great way to write and share code. They are interactive documents that combine code, text, images, and other media. In this course, we will use notebooks to write our code and share our results.\n",
                "\n",
                "A notebook is made up of cells. Each cell can be either a code cell or a text cell. A code cell contains code that can be executed. A text cell contains text that can be formatted using [Markdown](https://colab.research.google.com/notebooks/markdown_guide.ipynb). You can run a cell by pressing `Shift+Enter` or by clicking the `Run` button next to the cell."
            ]
        },
        {
            "attachments": {},
            "cell_type": "markdown",
            "metadata": {},
            "source": [
                "This is a text cell. You can edit it by double-clicking on it. You can format the text using Markdown. For example, you can make text **bold** or *italic*. You can also create headings, lists, links, images, and more. You can find a Markdown tutorial [here](https://colab.research.google.com/notebooks/markdown_guide.ipynb)."
            ]
        },
        {
            "cell_type": "code",
            "execution_count": 14,
            "metadata": {},
            "outputs": [
                {
                    "name": "stdout",
                    "output_type": "stream",
                    "text": [
                        "Hello, World!\n"
                    ]
                }
            ],
            "source": [
                "# This is a code cell with a comment. Comments are lines that start with a # and are ignored by the Python interpreter.\n",
                "print(\"Hello, World!\")"
            ]
        },
        {
            "attachments": {},
            "cell_type": "markdown",
            "metadata": {},
            "source": [
                "After you run a code cell, the output will be displayed below it. Once you save the notebook, the output will be saved as well. This is a great way of sharing your results with others!\n",
                "\n",
                "You can clear the output by right clicking the output sell and selecting `Clear output`."
            ]
        },
        {
            "attachments": {},
            "cell_type": "markdown",
            "metadata": {},
            "source": [
                "# Variables, Data Types, Operators\n",
                "\n",
                "In Python, we can store data in variables. A variable is a name that refers to a value. For example, we can create a variable called `price` and assign it the value `15`:"
            ]
        },
        {
            "cell_type": "code",
            "execution_count": 15,
            "metadata": {},
            "outputs": [],
            "source": [
                "price = 15"
            ]
        },
        {
            "attachments": {},
            "cell_type": "markdown",
            "metadata": {},
            "source": [
                "Variables in Python are dynamically typed. This means that we don't need to specify the type of the variable when we create it. Python will automatically infer the type of the variable based on the value that we assign to it. For example, if we assign the value `15` to the variable `price`, Python will infer that the type of the variable is `int` (integer). If we assign the value `15.5` to the variable `price`, Python will infer that the type of the variable is `float` (floating point number)."
            ]
        },
        {
            "cell_type": "code",
            "execution_count": 16,
            "metadata": {},
            "outputs": [
                {
                    "name": "stdout",
                    "output_type": "stream",
                    "text": [
                        "<class 'int'>\n",
                        "<class 'float'>\n"
                    ]
                }
            ],
            "source": [
                "price = 15\n",
                "print(type(price))\n",
                "price = 15.5\n",
                "print(type(price))"
            ]
        },
        {
            "attachments": {},
            "cell_type": "markdown",
            "metadata": {},
            "source": [
                "By default, Python has the following data types: Numbers, strings, booleans, lists, tuples, and dictionaries. "
            ]
        },
        {
            "attachments": {},
            "cell_type": "markdown",
            "metadata": {},
            "source": [
                "## Numeric Data Types\n",
                "\n",
                "Numeric data types are used to store numbers. Python supports two types of numeric data types: integers and floats. Integers are whole numbers, while floats are numbers with a decimal point."
            ]
        },
        {
            "cell_type": "code",
            "execution_count": 17,
            "metadata": {},
            "outputs": [],
            "source": [
                "# Integers are numbers without decimal point.\n",
                "a = 20\n",
                "b = -30\n",
                "\n",
                "# Floats are numbers with decimal point.\n",
                "x = 24.5\n",
                "y = 3.1415 "
            ]
        },
        {
            "attachments": {},
            "cell_type": "markdown",
            "metadata": {},
            "source": [
                "You can perform many operations with numeric variables: Addition, Subtraction, Multiplication,\n",
                "Power, Division, Floor Division, and Modulo on Integers and Floats.\n",
                "\n",
                "Try to write an example for each of these operation in the following cell."
            ]
        },
        {
            "cell_type": "code",
            "execution_count": 18,
            "metadata": {},
            "outputs": [
                {
                    "name": "stdout",
                    "output_type": "stream",
                    "text": [
                        "30\n",
                        "10\n",
                        "150\n",
                        "1.5\n",
                        "225\n",
                        "1\n",
                        "5\n"
                    ]
                }
            ],
            "source": [
                "# Addition\n",
                "print(a + 10)\n",
                "\n",
                "# Subtraction\n",
                "print(a - 10)\n",
                "# Multiplication\n",
                "print(15 * 10)\n",
                "# Division\n",
                "print(15 / 10)\n",
                "# Power\n",
                "print(15 ** 2)\n",
                "# Floor division\n",
                "print(15 // 10)\n",
                "# Modulo\n",
                "print(15 % 10)"
            ]
        },
        {
            "attachments": {},
            "cell_type": "markdown",
            "metadata": {},
            "source": [
                "You can perform operations on numeric variables of different types. For example, you can add an integer and a float. In this case, what will be the type of the result?"
            ]
        },
        {
            "cell_type": "code",
            "execution_count": 19,
            "metadata": {},
            "outputs": [
                {
                    "data": {
                        "text/plain": [
                            "float"
                        ]
                    },
                    "execution_count": 19,
                    "metadata": {},
                    "output_type": "execute_result"
                }
            ],
            "source": [
                "# Add an integer and a float and check the type of the result\n",
                "type(10 + 10.5)"
            ]
        },
        {
            "attachments": {},
            "cell_type": "markdown",
            "metadata": {},
            "source": [
                "## Strings\n",
                "\n",
                "Strings are used to store text. Strings are created by enclosing characters in quotes. For example, we can create a string variable called `name` and assign it the value `\"John\"`:"
            ]
        },
        {
            "cell_type": "code",
            "execution_count": 22,
            "metadata": {},
            "outputs": [
                {
                    "name": "stdout",
                    "output_type": "stream",
                    "text": [
                        "John\n"
                    ]
                }
            ],
            "source": [
                "name = \"John\"\n",
                "print(name)"
            ]
        },
        {
            "attachments": {},
            "cell_type": "markdown",
            "metadata": {},
            "source": [
                "You can use both single quotes (`'`) and double quotes (`\"`) to create strings. However, you must use the same type of quotes to start and end the string. For example, the following code will produce an error:"
            ]
        },
        {
            "cell_type": "code",
            "execution_count": 12,
            "metadata": {},
            "outputs": [
                {
                    "ename": "SyntaxError",
                    "evalue": "EOL while scanning string literal (1100462601.py, line 1)",
                    "output_type": "error",
                    "traceback": [
                        "\u001b[0;36m  Input \u001b[0;32mIn [12]\u001b[0;36m\u001b[0m\n\u001b[0;31m    name = \"John'\u001b[0m\n\u001b[0m                 ^\u001b[0m\n\u001b[0;31mSyntaxError\u001b[0m\u001b[0;31m:\u001b[0m EOL while scanning string literal\n"
                    ]
                }
            ],
            "source": [
                "name = \"John'"
            ]
        },
        {
            "attachments": {},
            "cell_type": "markdown",
            "metadata": {},
            "source": [
                "In general, it is good practice to use the same type of quotes throughout your code. This will make your code more readable. \n",
                "\n",
                "Also, if you want to use quotes inside your string, you can use the other type of quotes to create the string. For example:"
            ]
        },
        {
            "cell_type": "code",
            "execution_count": 20,
            "metadata": {},
            "outputs": [
                {
                    "ename": "SyntaxError",
                    "evalue": "invalid syntax (<ipython-input-20-562088c4d272>, line 5)",
                    "output_type": "error",
                    "traceback": [
                        "\u001b[0;36m  File \u001b[0;32m\"<ipython-input-20-562088c4d272>\"\u001b[0;36m, line \u001b[0;32m5\u001b[0m\n\u001b[0;31m    print('John's bill is', price)\u001b[0m\n\u001b[0m                ^\u001b[0m\n\u001b[0;31mSyntaxError\u001b[0m\u001b[0;31m:\u001b[0m invalid syntax\n"
                    ]
                }
            ],
            "source": [
                "# Using quotes in a string\n",
                "print(\"John's bill is\", price)\n",
                "\n",
                "# What happens if you use single quotes instead?\n",
                "print('John's bill is', price)"
            ]
        },
        {
            "attachments": {},
            "cell_type": "markdown",
            "metadata": {},
            "source": [
                "Strings are sequences of characters. You can access individual characters using the square brackets (`[]`) operator. Note that the first character has index `0`:"
            ]
        },
        {
            "cell_type": "code",
            "execution_count": 21,
            "metadata": {},
            "outputs": [
                {
                    "ename": "NameError",
                    "evalue": "name 'name' is not defined",
                    "output_type": "error",
                    "traceback": [
                        "\u001b[0;31m---------------------------------------------------------------------------\u001b[0m",
                        "\u001b[0;31mNameError\u001b[0m                                 Traceback (most recent call last)",
                        "\u001b[0;32m<ipython-input-21-96c0f3dfe757>\u001b[0m in \u001b[0;36m<module>\u001b[0;34m\u001b[0m\n\u001b[1;32m      1\u001b[0m \u001b[0;31m# Printing the first character of a string\u001b[0m\u001b[0;34m\u001b[0m\u001b[0;34m\u001b[0m\u001b[0;34m\u001b[0m\u001b[0m\n\u001b[0;32m----> 2\u001b[0;31m \u001b[0mprint\u001b[0m\u001b[0;34m(\u001b[0m\u001b[0mname\u001b[0m\u001b[0;34m[\u001b[0m\u001b[0;36m0\u001b[0m\u001b[0;34m]\u001b[0m\u001b[0;34m)\u001b[0m\u001b[0;34m\u001b[0m\u001b[0;34m\u001b[0m\u001b[0m\n\u001b[0m\u001b[1;32m      3\u001b[0m \u001b[0;31m# Printing the last character of a string\u001b[0m\u001b[0;34m\u001b[0m\u001b[0;34m\u001b[0m\u001b[0;34m\u001b[0m\u001b[0m\n\u001b[1;32m      4\u001b[0m \u001b[0mprint\u001b[0m\u001b[0;34m(\u001b[0m\u001b[0mname\u001b[0m\u001b[0;34m[\u001b[0m\u001b[0;34m-\u001b[0m\u001b[0;36m1\u001b[0m\u001b[0;34m]\u001b[0m\u001b[0;34m)\u001b[0m\u001b[0;34m\u001b[0m\u001b[0;34m\u001b[0m\u001b[0m\n",
                        "\u001b[0;31mNameError\u001b[0m: name 'name' is not defined"
                    ]
                }
            ],
            "source": [
                "# Printing the first character of a string\n",
                "print(name[0])\n",
                "# Printing the last character of a string\n",
                "print(name[-1])"
            ]
        },
        {
            "attachments": {},
            "cell_type": "markdown",
            "metadata": {},
            "source": [
                "You can also access substrings using the square brackets (`[]`) operator. The syntax is `string[start:end]`, where `start` is the index of the first character in the substring and `end` is the index of the first character after the substring. This operation is called **slicing**. Note that the character at index `end` is not included in the substring:"
            ]
        },
        {
            "cell_type": "code",
            "execution_count": 23,
            "metadata": {},
            "outputs": [
                {
                    "name": "stdout",
                    "output_type": "stream",
                    "text": [
                        "Marcus\n",
                        "Aurelius\n",
                        "Antoninus\n"
                    ]
                }
            ],
            "source": [
                "full_name = \"Marcus Aurelius Antoninus\"\n",
                "print(full_name[0:6])\n",
                "# Now use slicing to print the second and third names\n",
                "print(full_name[7:15])\n",
                "print(full_name[16:])"
            ]
        },
        {
            "attachments": {},
            "cell_type": "markdown",
            "metadata": {},
            "source": [
                "Slicing also works with negative indices."
            ]
        },
        {
            "cell_type": "code",
            "execution_count": 24,
            "metadata": {},
            "outputs": [
                {
                    "name": "stdout",
                    "output_type": "stream",
                    "text": [
                        "s\n",
                        "Aurelius \n"
                    ]
                }
            ],
            "source": [
                "print(full_name[-1])\n",
                "# Print the second name using negative indexing\n",
                "print(full_name[-18:-9])"
            ]
        },
        {
            "attachments": {},
            "cell_type": "markdown",
            "metadata": {},
            "source": [
                "You can add a third parameter to the slice operator to specify the step size. The syntax is `string[start:end:step]`. You can also use negative step size to reverse the string:"
            ]
        },
        {
            "cell_type": "code",
            "execution_count": 25,
            "metadata": {},
            "outputs": [
                {
                    "name": "stdout",
                    "output_type": "stream",
                    "text": [
                        "Mru ueisAtnn\n",
                        "suninotnA suileruA sucraM\n"
                    ]
                }
            ],
            "source": [
                "# Printing every second character\n",
                "print(full_name[0:-1:2])\n",
                "# Printing the string backwards\n",
                "print(full_name[::-1])"
            ]
        },
        {
            "attachments": {},
            "cell_type": "markdown",
            "metadata": {},
            "source": [
                "You can use operators to concatenate strings:"
            ]
        },
        {
            "cell_type": "code",
            "execution_count": 27,
            "metadata": {},
            "outputs": [
                {
                    "name": "stdout",
                    "output_type": "stream",
                    "text": [
                        "Joel Miller\n"
                    ]
                }
            ],
            "source": [
                "first_name = \"Joel\"\n",
                "last_name = \"Miller\"\n",
                "# Note that you need to add the space between the two strings manually\n",
                "print(first_name + \" \" + last_name)"
            ]
        },
        {
            "attachments": {},
            "cell_type": "markdown",
            "metadata": {},
            "source": [
                "There is an easier way to print variables. You can use `f-strings`. An `f-string` is a string that starts with the letter `f` and contains expressions inside curly brackets. For example:"
            ]
        },
        {
            "cell_type": "code",
            "execution_count": 28,
            "metadata": {},
            "outputs": [
                {
                    "name": "stdout",
                    "output_type": "stream",
                    "text": [
                        "The full name is Joel Miller\n",
                        "The price is 15.5 and the name is John\n"
                    ]
                }
            ],
            "source": [
                "print(f\"The full name is {first_name} {last_name}\")\n",
                "# What happens if you combine a string and an integer? Print the price and the name together.\n",
                "print(f\"The price is {price} and the name is {name}\")"
            ]
        },
        {
            "attachments": {},
            "cell_type": "markdown",
            "metadata": {},
            "source": [
                "## Booleans\n",
                "\n",
                "Booleans are used to store logical values. In Python, booleans are `bool` type. Booleans are created by using the `True` and `False` keywords:"
            ]
        },
        {
            "cell_type": "code",
            "execution_count": 63,
            "metadata": {},
            "outputs": [
                {
                    "name": "stdout",
                    "output_type": "stream",
                    "text": [
                        "<class 'bool'>\n"
                    ]
                }
            ],
            "source": [
                "a = True\n",
                "print(type(a))"
            ]
        },
        {
            "attachments": {},
            "cell_type": "markdown",
            "metadata": {},
            "source": [
                "Booleans are the result of logical operations. For example, you can use the `==` operator to check if two variables are equal.\n",
                "\n",
                "Booleans can also be used in conditional statements and loops. We will cover these topics later in this tutorial."
            ]
        },
        {
            "cell_type": "code",
            "execution_count": 66,
            "metadata": {},
            "outputs": [
                {
                    "name": "stdout",
                    "output_type": "stream",
                    "text": [
                        "True\n",
                        "True\n",
                        "False\n"
                    ]
                }
            ],
            "source": [
                "print(name == \"John\")\n",
                "print(price > 10)\n",
                "print(1 != 1)"
            ]
        },
        {
            "attachments": {},
            "cell_type": "markdown",
            "metadata": {},
            "source": [
                "## Lists\n",
                "\n",
                "Lists are used to store a sequence of values. Lists are created by enclosing values in square brackets (`[]`). For example, we can create a list variable called `prices` and assign it the values `[15, 20, 25]`:"
            ]
        },
        {
            "cell_type": "code",
            "execution_count": 67,
            "metadata": {},
            "outputs": [
                {
                    "name": "stdout",
                    "output_type": "stream",
                    "text": [
                        "[15, 20, 25]\n"
                    ]
                }
            ],
            "source": [
                "prices = [15, 20, 25]\n",
                "print(prices)"
            ]
        },
        {
            "attachments": {},
            "cell_type": "markdown",
            "metadata": {},
            "source": [
                "Lists can also store variables and values of different types:"
            ]
        },
        {
            "cell_type": "code",
            "execution_count": 68,
            "metadata": {},
            "outputs": [
                {
                    "name": "stdout",
                    "output_type": "stream",
                    "text": [
                        "[10, 'John', 'abc', True, 3.14]\n"
                    ]
                }
            ],
            "source": [
                "x = [10, name, \"abc\", True, 3.14]\n",
                "print(x)"
            ]
        },
        {
            "attachments": {},
            "cell_type": "markdown",
            "metadata": {},
            "source": [
                "You can access elements of a list using the square brackets (`[]`) operator. Note that the first element has index `0`. Slicing also works with lists:"
            ]
        },
        {
            "cell_type": "code",
            "execution_count": 69,
            "metadata": {},
            "outputs": [
                {
                    "name": "stdout",
                    "output_type": "stream",
                    "text": [
                        "3.14\n",
                        "['John', 'abc']\n"
                    ]
                }
            ],
            "source": [
                "print(x[-1])\n",
                "print(x[1:3])"
            ]
        },
        {
            "attachments": {},
            "cell_type": "markdown",
            "metadata": {},
            "source": [
                "You can add elements to a list using the append() method."
            ]
        },
        {
            "cell_type": "code",
            "execution_count": 71,
            "metadata": {},
            "outputs": [
                {
                    "name": "stdout",
                    "output_type": "stream",
                    "text": [
                        "[10, 'John', 'abc', True, 3.14, 100]\n"
                    ]
                }
            ],
            "source": [
                "x.append(100)\n",
                "print(x)"
            ]
        },
        {
            "attachments": {},
            "cell_type": "markdown",
            "metadata": {},
            "source": [
                "You can remove elements from a list using the remove() method."
            ]
        },
        {
            "cell_type": "code",
            "execution_count": 72,
            "metadata": {},
            "outputs": [
                {
                    "name": "stdout",
                    "output_type": "stream",
                    "text": [
                        "[10, 'John', True, 3.14, 100]\n"
                    ]
                }
            ],
            "source": [
                "x.remove(\"abc\")\n",
                "print(x)"
            ]
        },
        {
            "attachments": {},
            "cell_type": "markdown",
            "metadata": {},
            "source": [
                "To add an element to a specific position in a list, you can use the insert() method."
            ]
        },
        {
            "cell_type": "code",
            "execution_count": 73,
            "metadata": {},
            "outputs": [
                {
                    "name": "stdout",
                    "output_type": "stream",
                    "text": [
                        "[10, 'John', 'abc', True, 3.14, 100]\n"
                    ]
                }
            ],
            "source": [
                "x.insert(2, \"abc\")\n",
                "print(x)"
            ]
        },
        {
            "attachments": {},
            "cell_type": "markdown",
            "metadata": {},
            "source": [
                "You can change the value of an element in a list by using the square brackets (`[]`) operator."
            ]
        },
        {
            "cell_type": "code",
            "execution_count": 75,
            "metadata": {},
            "outputs": [
                {
                    "name": "stdout",
                    "output_type": "stream",
                    "text": [
                        "[-100, 'John', 'abc', True, 3.14, 100]\n"
                    ]
                }
            ],
            "source": [
                "x[0] = -100\n",
                "print(x)"
            ]
        },
        {
            "attachments": {},
            "cell_type": "markdown",
            "metadata": {},
            "source": [
                "## Tuples\n",
                "\n",
                "Tuples are similar to lists. The main difference is that tuples are immutable. This means that you cannot change the values of the elements in a tuple. Tuples are created by enclosing values in parentheses (`()`). For example, we can create a tuple variable called `prices` and assign it the values `(15, 20, 25)`:"
            ]
        },
        {
            "cell_type": "code",
            "execution_count": 78,
            "metadata": {},
            "outputs": [
                {
                    "name": "stdout",
                    "output_type": "stream",
                    "text": [
                        "(15, 20, 25)\n",
                        "20\n"
                    ]
                },
                {
                    "ename": "TypeError",
                    "evalue": "'tuple' object does not support item assignment",
                    "output_type": "error",
                    "traceback": [
                        "\u001b[0;31m---------------------------------------------------------------------------\u001b[0m",
                        "\u001b[0;31mTypeError\u001b[0m                                 Traceback (most recent call last)",
                        "\u001b[1;32m/Users/thales/src/2223-BENC2011/tutorials/Tutorial_1.ipynb Cell 54\u001b[0m in \u001b[0;36m<cell line: 5>\u001b[0;34m()\u001b[0m\n\u001b[1;32m      <a href='vscode-notebook-cell:/Users/thales/src/2223-BENC2011/tutorials/Tutorial_1.ipynb#Y110sZmlsZQ%3D%3D?line=2'>3</a>\u001b[0m \u001b[39mprint\u001b[39m(prices[\u001b[39m1\u001b[39m])\n\u001b[1;32m      <a href='vscode-notebook-cell:/Users/thales/src/2223-BENC2011/tutorials/Tutorial_1.ipynb#Y110sZmlsZQ%3D%3D?line=3'>4</a>\u001b[0m \u001b[39m# Try to change the first price to 10\u001b[39;00m\n\u001b[0;32m----> <a href='vscode-notebook-cell:/Users/thales/src/2223-BENC2011/tutorials/Tutorial_1.ipynb#Y110sZmlsZQ%3D%3D?line=4'>5</a>\u001b[0m prices[\u001b[39m0\u001b[39m] \u001b[39m=\u001b[39m \u001b[39m10\u001b[39m\n",
                        "\u001b[0;31mTypeError\u001b[0m: 'tuple' object does not support item assignment"
                    ]
                }
            ],
            "source": [
                "prices = (15, 20, 25)\n",
                "print(prices)\n",
                "print(prices[1])\n",
                "# Try to change the first price to 10\n",
                "prices[0] = 10"
            ]
        },
        {
            "attachments": {},
            "cell_type": "markdown",
            "metadata": {},
            "source": [
                "## Dictionaries\n",
                "\n",
                "Dictionaries are used to store key-value pairs. Dictionaries are created by enclosing key-value pairs in curly brackets (`{}`). For example, we can create a dictionary variable called `menu` and assign it the following key-value pairs:"
            ]
        },
        {
            "cell_type": "code",
            "execution_count": 79,
            "metadata": {},
            "outputs": [
                {
                    "name": "stdout",
                    "output_type": "stream",
                    "text": [
                        "{'pizza': 15, 'pasta': 20, 'salad': 10}\n"
                    ]
                }
            ],
            "source": [
                "menu = {\"pizza\": 15, \"pasta\": 20, \"salad\": 10}\n",
                "print(menu)"
            ]
        },
        {
            "attachments": {},
            "cell_type": "markdown",
            "metadata": {},
            "source": [
                "You can access the value of a key using the square brackets (`[]`) operator. If the key does not exist, you will get an error:"
            ]
        },
        {
            "cell_type": "code",
            "execution_count": 80,
            "metadata": {},
            "outputs": [
                {
                    "name": "stdout",
                    "output_type": "stream",
                    "text": [
                        "15\n"
                    ]
                },
                {
                    "ename": "KeyError",
                    "evalue": "'kebab'",
                    "output_type": "error",
                    "traceback": [
                        "\u001b[0;31m---------------------------------------------------------------------------\u001b[0m",
                        "\u001b[0;31mKeyError\u001b[0m                                  Traceback (most recent call last)",
                        "\u001b[1;32m/Users/thales/src/2223-BENC2011/tutorials/Tutorial_1.ipynb Cell 58\u001b[0m in \u001b[0;36m<cell line: 2>\u001b[0;34m()\u001b[0m\n\u001b[1;32m      <a href='vscode-notebook-cell:/Users/thales/src/2223-BENC2011/tutorials/Tutorial_1.ipynb#Y114sZmlsZQ%3D%3D?line=0'>1</a>\u001b[0m \u001b[39mprint\u001b[39m(menu[\u001b[39m\"\u001b[39m\u001b[39mpizza\u001b[39m\u001b[39m\"\u001b[39m])\n\u001b[0;32m----> <a href='vscode-notebook-cell:/Users/thales/src/2223-BENC2011/tutorials/Tutorial_1.ipynb#Y114sZmlsZQ%3D%3D?line=1'>2</a>\u001b[0m \u001b[39mprint\u001b[39m(menu[\u001b[39m\"\u001b[39;49m\u001b[39mkebab\u001b[39;49m\u001b[39m\"\u001b[39;49m])\n",
                        "\u001b[0;31mKeyError\u001b[0m: 'kebab'"
                    ]
                }
            ],
            "source": [
                "print(menu[\"pizza\"])\n",
                "print(menu[\"kebab\"])"
            ]
        },
        {
            "attachments": {},
            "cell_type": "markdown",
            "metadata": {},
            "source": [
                "You can add new key-value pairs to a dictionary using the square brackets (`[]`) operator. If the key already exists, the value will be updated."
            ]
        },
        {
            "cell_type": "code",
            "execution_count": 81,
            "metadata": {},
            "outputs": [
                {
                    "name": "stdout",
                    "output_type": "stream",
                    "text": [
                        "{'pizza': 15, 'pasta': 25, 'salad': 10, 'kebab': 25}\n"
                    ]
                }
            ],
            "source": [
                "menu[\"kebab\"] = 25\n",
                "menu[\"pasta\"] = 25\n",
                "print(menu)"
            ]
        },
        {
            "attachments": {},
            "cell_type": "markdown",
            "metadata": {},
            "source": [
                "# Control Flow\n",
                "\n",
                "Control flow statements are used to control the flow of the program. In this section, we will cover conditionals and loops."
            ]
        },
        {
            "attachments": {},
            "cell_type": "markdown",
            "metadata": {},
            "source": [
                "## Conditionals\n",
                "\n",
                "Conditionals are used to execute code only if a certain condition is true. In Python, we use the `if` statement to create conditionals."
            ]
        },
        {
            "cell_type": "code",
            "execution_count": 82,
            "metadata": {},
            "outputs": [
                {
                    "name": "stdout",
                    "output_type": "stream",
                    "text": [
                        "The price is greater than 10\n"
                    ]
                }
            ],
            "source": [
                "price = 15\n",
                "\n",
                "if price > 10:\n",
                "    print(\"The price is greater than 10\")"
            ]
        },
        {
            "attachments": {},
            "cell_type": "markdown",
            "metadata": {},
            "source": [
                "You can have multiple conditions in an `if` statement. You can use the `elif` keyword to add more conditions. You can use the `else` keyword to execute code if none of the conditions are true."
            ]
        },
        {
            "cell_type": "code",
            "execution_count": 87,
            "metadata": {},
            "outputs": [
                {
                    "name": "stdout",
                    "output_type": "stream",
                    "text": [
                        "The price is less than 10\n"
                    ]
                }
            ],
            "source": [
                "price = 5\n",
                "\n",
                "if price > 10:\n",
                "    print(\"The price is greater than 10\")\n",
                "elif price < 10:\n",
                "    print(\"The price is less than 10\")\n",
                "else:\n",
                "    print(\"The price is exactly 10\")"
            ]
        },
        {
            "attachments": {},
            "cell_type": "markdown",
            "metadata": {},
            "source": [
                "## Loops\n",
                "\n",
                "Loops are used to execute a block of code multiple times. In Python, we use the `for` and `while` statements to create loops."
            ]
        },
        {
            "attachments": {},
            "cell_type": "markdown",
            "metadata": {},
            "source": [
                "### For Loops\n",
                "\n",
                "For loops are used to iterate over a sequence (list, tuple, string, dictionary, set, or range). For example, we can use a for loop to print all the elements in a list:"
            ]
        },
        {
            "cell_type": "code",
            "execution_count": 92,
            "metadata": {},
            "outputs": [
                {
                    "name": "stdout",
                    "output_type": "stream",
                    "text": [
                        "-100\n",
                        "John\n",
                        "abc\n",
                        "True\n",
                        "3.14\n",
                        "100\n",
                        "pizza\n",
                        "pasta\n",
                        "salad\n",
                        "kebab\n"
                    ]
                }
            ],
            "source": [
                "for k in x:\n",
                "    print(k)\n",
                "\n",
                "for k in menu:\n",
                "    print(k)"
            ]
        },
        {
            "attachments": {},
            "cell_type": "markdown",
            "metadata": {},
            "source": [
                "To access all key-value pairs in a dictionary, you can use the `items()` method:"
            ]
        },
        {
            "cell_type": "code",
            "execution_count": 93,
            "metadata": {},
            "outputs": [
                {
                    "name": "stdout",
                    "output_type": "stream",
                    "text": [
                        "pizza 15\n",
                        "pasta 25\n",
                        "salad 10\n",
                        "kebab 25\n"
                    ]
                }
            ],
            "source": [
                "for item, price in menu.items():\n",
                "    print(item, price)"
            ]
        },
        {
            "attachments": {},
            "cell_type": "markdown",
            "metadata": {},
            "source": [
                "For loops can also iterate over a string and ranges of numbers:"
            ]
        },
        {
            "cell_type": "code",
            "execution_count": 91,
            "metadata": {},
            "outputs": [
                {
                    "name": "stdout",
                    "output_type": "stream",
                    "text": [
                        "J\n",
                        "o\n",
                        "e\n",
                        "l\n",
                        "0\n",
                        "1\n",
                        "2\n",
                        "3\n",
                        "4\n"
                    ]
                }
            ],
            "source": [
                "for k in first_name:\n",
                "    print(k)\n",
                "\n",
                "for i in range(5):\n",
                "    print(i)"
            ]
        },
        {
            "attachments": {},
            "cell_type": "markdown",
            "metadata": {},
            "source": [
                "### While Loops\n",
                "\n",
                "While loops are used to execute a block of code as long as a certain condition is true. For example, we can use a while loop to print all the even numbers between 0 and 10:"
            ]
        },
        {
            "cell_type": "code",
            "execution_count": 95,
            "metadata": {},
            "outputs": [
                {
                    "name": "stdout",
                    "output_type": "stream",
                    "text": [
                        "0\n",
                        "2\n",
                        "4\n",
                        "6\n",
                        "8\n"
                    ]
                }
            ],
            "source": [
                "i = 0\n",
                "\n",
                "while i < 10:\n",
                "    if i%2 == 0:\n",
                "        print(i)\n",
                "    i += 1"
            ]
        },
        {
            "attachments": {},
            "cell_type": "markdown",
            "metadata": {},
            "source": [
                "Remember to update the variable used in the condition to avoid an infinite loop! \n",
                "\n",
                "If you do get stuck in an infinite loop, you can stop the cell execution. \n",
                "\n",
                "If the notebook stops responding, use the `Runtime` menu to restart the runtime (or Kernel, if you are using Jupyter)"
            ]
        },
        {
            "attachments": {},
            "cell_type": "markdown",
            "metadata": {},
            "source": [
                "# Functions\n",
                "\n",
                "Functions are a set of commands or code that implement a particular operation.  For example, the `print()` function contains commands to perform an operation that allows us to display the output."
            ]
        },
        {
            "attachments": {},
            "cell_type": "markdown",
            "metadata": {},
            "source": [
                "## Built-in Functions\n",
                "\n",
                "Built-in functions are functions that are already defined in Python. For example, the `print()` function is a built-in function. You can find a list of all built-in functions in the [Python documentation](https://docs.python.org/3/library/functions.html).\n",
                "\n",
                "Let's check out some of the built-in functions in Python."
            ]
        },
        {
            "attachments": {},
            "cell_type": "markdown",
            "metadata": {},
            "source": [
                "**TIP**: You can use the `help()` function to get more information about a function. For example, you can use `help(print)` to get more information about the `print()` function.\n",
                "\n",
                "The `?` operator can also be used instead of `help()`. For example, you can use `print?` or `?print` for the same result."
            ]
        },
        {
            "cell_type": "code",
            "execution_count": 5,
            "metadata": {},
            "outputs": [
                {
                    "name": "stdout",
                    "output_type": "stream",
                    "text": [
                        "Help on built-in function print in module builtins:\n",
                        "\n",
                        "print(...)\n",
                        "    print(value, ..., sep=' ', end='\\n', file=sys.stdout, flush=False)\n",
                        "    \n",
                        "    Prints the values to a stream, or to sys.stdout by default.\n",
                        "    Optional keyword arguments:\n",
                        "    file:  a file-like object (stream); defaults to the current sys.stdout.\n",
                        "    sep:   string inserted between values, default a space.\n",
                        "    end:   string appended after the last value, default a newline.\n",
                        "    flush: whether to forcibly flush the stream.\n",
                        "\n"
                    ]
                }
            ],
            "source": [
                "help(print)"
            ]
        },
        {
            "cell_type": "code",
            "execution_count": 6,
            "metadata": {},
            "outputs": [
                {
                    "name": "stdout",
                    "output_type": "stream",
                    "text": [
                        "\u001b[0;31mDocstring:\u001b[0m\n",
                        "print(value, ..., sep=' ', end='\\n', file=sys.stdout, flush=False)\n",
                        "\n",
                        "Prints the values to a stream, or to sys.stdout by default.\n",
                        "Optional keyword arguments:\n",
                        "file:  a file-like object (stream); defaults to the current sys.stdout.\n",
                        "sep:   string inserted between values, default a space.\n",
                        "end:   string appended after the last value, default a newline.\n",
                        "flush: whether to forcibly flush the stream.\n",
                        "\u001b[0;31mType:\u001b[0m      builtin_function_or_method\n"
                    ]
                }
            ],
            "source": [
                "?print"
            ]
        },
        {
            "attachments": {},
            "cell_type": "markdown",
            "metadata": {},
            "source": [
                "### Type conversion functions\n",
                "\n",
                "Python has several built-in functions to convert data types. For example, you can use the `int()` function to convert a float to an integer (and vice versa). You can use the `str()` function to convert a number to a string."
            ]
        },
        {
            "cell_type": "code",
            "execution_count": 1,
            "metadata": {},
            "outputs": [
                {
                    "name": "stdout",
                    "output_type": "stream",
                    "text": [
                        "15.0\n",
                        "18\n",
                        "18.75\n"
                    ]
                }
            ],
            "source": [
                "price = 15\n",
                "print(float(price))\n",
                "price = 18.75\n",
                "print(int(price))\n",
                "print(str(price))"
            ]
        },
        {
            "attachments": {},
            "cell_type": "markdown",
            "metadata": {},
            "source": [
                "### Sequence functions\n",
                "\n",
                "Python has several built-in functions to work with sequences. For example, you can use the `len()` function to get the length of a sequence.\n",
                "\n",
                "`sorted()` sorts a sequence. \n",
                "\n",
                "`max()` and `min()` can be used to get the maximum and minimum values in a sequence, while `sum()` can be used to get the sum of all the elements in a sequence."
            ]
        },
        {
            "cell_type": "code",
            "execution_count": 4,
            "metadata": {},
            "outputs": [
                {
                    "name": "stdout",
                    "output_type": "stream",
                    "text": [
                        "10\n",
                        "63\n",
                        "5\n",
                        "226\n",
                        "[5, 6, 8, 10, 14, 15, 25, 30, 50, 63]\n",
                        "[63, 50, 30, 25, 15, 14, 10, 8, 6, 5]\n"
                    ]
                }
            ],
            "source": [
                "prices = [15, 5, 25, 30, 8, 50, 6, 14, 63, 10]\n",
                "print(len(prices))\n",
                "print(max(prices))\n",
                "print(min(prices))\n",
                "print(sum(prices))\n",
                "print(sorted(prices))\n",
                "print(sorted(prices, reverse=True))"
            ]
        },
        {
            "attachments": {},
            "cell_type": "markdown",
            "metadata": {},
            "source": [
                "## Libraries\n",
                "\n",
                "Libraries are collections of functions that extend the functionality of Python. For example, the `math` library contains functions to perform mathematical operations. You can import a library using the `import` keyword. For example, we can import the `math` library using the following code:"
            ]
        },
        {
            "cell_type": "code",
            "execution_count": 7,
            "metadata": {},
            "outputs": [
                {
                    "name": "stdout",
                    "output_type": "stream",
                    "text": [
                        "3.141592653589793\n"
                    ]
                }
            ],
            "source": [
                "import math\n",
                "\n",
                "print(math.pi)"
            ]
        },
        {
            "attachments": {},
            "cell_type": "markdown",
            "metadata": {},
            "source": [
                "You can import specific functions from a library using the `from` keyword. For example, we can import the `sqrt()` function from the `math` library using the following code:"
            ]
        },
        {
            "cell_type": "code",
            "execution_count": 8,
            "metadata": {},
            "outputs": [
                {
                    "name": "stdout",
                    "output_type": "stream",
                    "text": [
                        "5.0\n"
                    ]
                }
            ],
            "source": [
                "from math import sqrt\n",
                "\n",
                "print(sqrt(25))"
            ]
        },
        {
            "attachments": {},
            "cell_type": "markdown",
            "metadata": {},
            "source": [
                "## User-defined Functions\n",
                "\n",
                "You can also create your own functions. Functions are created using the `def` keyword. For example, we can create a function called `add` that adds two numbers:"
            ]
        },
        {
            "cell_type": "code",
            "execution_count": 5,
            "metadata": {},
            "outputs": [
                {
                    "name": "stdout",
                    "output_type": "stream",
                    "text": [
                        "30\n"
                    ]
                }
            ],
            "source": [
                "def add(a, b):\n",
                "    return a + b\n",
                "\n",
                "print(add(10, 20))"
            ]
        },
        {
            "attachments": {},
            "cell_type": "markdown",
            "metadata": {},
            "source": [
                "The `return` keyword is used to return a value from a function. \n",
                "\n",
                "If you do not use the `return` keyword, the function will return `None`, indicating that the function does not return a value. \n",
                "\n",
                "You can still perform operations inside a function without using the `return` keyword."
            ]
        },
        {
            "cell_type": "code",
            "execution_count": 7,
            "metadata": {},
            "outputs": [
                {
                    "name": "stdout",
                    "output_type": "stream",
                    "text": [
                        "30\n"
                    ]
                }
            ],
            "source": [
                "def add(a, b):\n",
                "    print(a + b)\n",
                "    \n",
                "add(10, 20)"
            ]
        },
        {
            "attachments": {},
            "cell_type": "markdown",
            "metadata": {},
            "source": [
                "# Tasks\n",
                "\n",
                "Now let's practice what we have learned so far!\n",
                "\n",
                "We will implement functions to calculate the bill for a restaurant order. "
            ]
        },
        {
            "attachments": {},
            "cell_type": "markdown",
            "metadata": {},
            "source": [
                "So far, we set variables manually. We can also use the `input()` function to get input from the user.\n",
                "\n",
                "The `input()` function takes a string as an argument. This string is displayed to the user. \n",
                "\n",
                "The function returns the user input as a string. So, if you want to get a number from the user, you need to convert the input using a type conversion function."
            ]
        },
        {
            "cell_type": "code",
            "execution_count": 5,
            "metadata": {},
            "outputs": [
                {
                    "name": "stdout",
                    "output_type": "stream",
                    "text": [
                        "15.7 <class 'str'>\n",
                        "15.7 <class 'float'>\n"
                    ]
                }
            ],
            "source": [
                "price = input(\"Enter the price: \")\n",
                "print(price, type(price))\n",
                "price = float(price)\n",
                "print(price, type(price))\n"
            ]
        },
        {
            "attachments": {},
            "cell_type": "markdown",
            "metadata": {},
            "source": [
                "## Task 1\n",
                "\n",
                "Create a function called `calculate_price` that takes three parameters: `quantity`, `price`, and `tax`. The function should return the total price of the order. \n",
                "\n",
                "Consider that tax is a float between 0 and 1. For example, if the tax is 0.1, it means that 10% of the price is tax.\n",
                "\n",
                "Some values to test your function:\n",
                " - `calculate_price(2, 10, 0.1)` should return `22.0`\n",
                "- `calculate_price(1, 20, 0.2)` should return `24.0`\n",
                "- `calculate_price(3, 5, 0.05)` should return `15.75`"
            ]
        },
        {
            "cell_type": "code",
            "execution_count": 7,
            "metadata": {},
            "outputs": [],
            "source": [
                "def calculate_price(quantity, price, tax):\n",
                "    return quantity * price * (1 + tax)"
            ]
        },
        {
            "attachments": {},
            "cell_type": "markdown",
            "metadata": {},
            "source": [
                "## Task 2\n",
                "\n",
                "What happens if you call the `calculate_price` function with a negative quantity? \n",
                "\n",
                "Implement a check to make sure that the quantity is positive. If the quantity is negative, the function should return print an error message and return `None`."
            ]
        },
        {
            "cell_type": "code",
            "execution_count": 13,
            "metadata": {},
            "outputs": [],
            "source": [
                "def calculate_price(quantity, price, tax):\n",
                "    if quantity < 0:\n",
                "        print(\"Quantity must be positive!\")\n",
                "        return None\n",
                "    return quantity * price * (1 + tax)"
            ]
        },
        {
            "attachments": {},
            "cell_type": "markdown",
            "metadata": {},
            "source": [
                "## Task 3\n",
                "\n",
                "Now implement a version of the `calculate_price` function that works for a list of orders. The function should take a list of quantities, a list of prices, and the tax value as parameters. \n",
                "\n",
                "The function should return the total price of all the orders.\n",
                "\n",
                "Add a check to make sure that the lists have the same length. If the lists have different lengths, the function should print an error message and return `None`.\n",
                "\n",
                "Some values to test your function:\n",
                "- `calculate_price([2, 1, 3], [10, 20, 5], 0.1)` should return `60.5`\n",
                "- `calculate_price([1, 2, 3], [20, 10, 5], 0.2)` should return `66.0`\n",
                "- `calculate_price([3, 2, 1], [5, 10, 20], 0.05)` should return `57.75`  "
            ]
        },
        {
            "cell_type": "code",
            "execution_count": 22,
            "metadata": {},
            "outputs": [],
            "source": [
                "def calculate_price(quantities, prices, tax):\n",
                "    if len(quantities) != len(prices):\n",
                "        print(\"The number of quantities and prices must be the same!\")\n",
                "        return None\n",
                "    total = 0\n",
                "    for i in range(len(quantities)):\n",
                "        total += quantities[i] * prices[i] * (1 + tax)\n",
                "    return total"
            ]
        },
        {
            "attachments": {},
            "cell_type": "markdown",
            "metadata": {},
            "source": [
                "### Task 4\n",
                "\n",
                "Modify the `calculate_price` function to include a discount value. \n",
                "\n",
                "The discount value is calculated based on the number of orders and total price. If the number of orders is greater than 5 or the total price is greater than 200, the discount is 10%. If the number of orders is greater than 10 or the total price is greater than 500, the discount is 20%.\n",
                "\n",
                "In addition to returning the final value, also print the price before the discount.\n",
                "\n",
                "Some values to test your function:\n",
                "- `calculate_price([2, 1, 3], [10, 20, 5], 0.1)` should return `60.5`\n",
                "- `calculate_price([1, 2, 2, 1, 1], [20, 10, 5, 10, 40], 0.2)` should return `108.0`\n",
                "- `calculate_price([3, 2, 1, 1, 1, 1, 1, 1, 1, 1, 1], [5, 10, 20, 5, 10, 20, 5, 10, 20, 5, 10], 0.05)` should return `105.84`"
            ]
        },
        {
            "cell_type": "code",
            "execution_count": 29,
            "metadata": {},
            "outputs": [],
            "source": [
                "def calculate_price(quantities, prices, tax):\n",
                "    if len(quantities) != len(prices):\n",
                "        print(\"The number of quantities and prices must be the same!\")\n",
                "        return None\n",
                "    total = 0\n",
                "    for i in range(len(quantities)):\n",
                "        total += quantities[i] * prices[i] * (1 + tax)\n",
                "    print(f\"The total before discount is {total}\")\n",
                "    # Calculating the discount\n",
                "    if len(quantities) >= 5 or total > 200:\n",
                "        total *= 0.9\n",
                "    if len(quantities) >= 10 or total > 500:\n",
                "        total *= 0.8\n",
                "    return total"
            ]
        },
        {
            "cell_type": "code",
            "execution_count": 33,
            "metadata": {},
            "outputs": [
                {
                    "name": "stdout",
                    "output_type": "stream",
                    "text": [
                        "The total before discount is 120.0\n"
                    ]
                },
                {
                    "data": {
                        "text/plain": [
                            "108.0"
                        ]
                    },
                    "execution_count": 33,
                    "metadata": {},
                    "output_type": "execute_result"
                }
            ],
            "source": [
                "calculate_price([1, 2, 2, 1, 1], [20, 10, 5, 10, 40], 0.2)"
            ]
        },
        {
            "attachments": {},
            "cell_type": "markdown",
            "metadata": {},
            "source": [
                "### Task 5\n",
                "\n",
                "Implement a function called `create_menu` that takes product names and prices as input and returns a dictionary with the product names as keys and the prices as values.\n",
                "\n",
                "Your function should get the product names and prices from the user input. It should ask the user to enter the number of products in the menu. Then, it should ask the user to enter the name and price of each product. Use two separate input statements to get the name and price of each product.\n",
                "\n",
                "Tip: you can use `variable = {}` to create an empty dictionary."
            ]
        },
        {
            "cell_type": "code",
            "execution_count": 34,
            "metadata": {},
            "outputs": [],
            "source": [
                "def create_menu():\n",
                "    menu = {}\n",
                "    n_products = int(input(\"Enter the number of products: \"))\n",
                "    for i in range(n_products):\n",
                "        name = input(\"Enter the name of the product: \")\n",
                "        price = float(input(\"Enter the price of the product: \"))\n",
                "        menu[name] = price\n",
                "    return menu"
            ]
        },
        {
            "attachments": {},
            "cell_type": "markdown",
            "metadata": {},
            "source": [
                "### Task 6\n",
                "\n",
                "Use your `create_menu` function to create a menu with at least 3 products.\n",
                "\n",
                "Then, implement a function `calculate_price_menu` that takes a menu dictionary and the number of products as parameters. The function should get the product names and quantities from user input. \n",
                "\n",
                "The function should return the total price of the order. Also print the price of each product in the order."
            ]
        },
        {
            "cell_type": "code",
            "execution_count": 38,
            "metadata": {},
            "outputs": [],
            "source": [
                "menu = {\"pizza\": 15, \"pasta\": 20, \"salad\": 10}\n",
                "\n",
                "def calculate_price_menu(menu, n_products):\n",
                "    total = 0\n",
                "    for i in range(n_products):\n",
                "        name = input(\"Enter the name of the product: \")\n",
                "        quantity = int(input(\"Enter the quantity of the product: \"))\n",
                "        print(f\"The price of {name} is {menu[name]}\")\n",
                "        total += menu[name] * quantity\n",
                "    return total"
            ]
        },
        {
            "attachments": {},
            "cell_type": "markdown",
            "metadata": {},
            "source": [
                "### Task 7\n",
                "\n",
                "Implement a number guessing game. The game should generate a random number between 1 and 30. Then, it should ask the user to guess the number. \n",
                "\n",
                "If the user guesses the number, the game should print a message and end. \n",
                "\n",
                "If the user does not guess the number, the game should print a message telling the user if the number is higher or lower than the guess. Then, it should ask the user to guess again.\n",
                "\n",
                "The game should end after 5 incorrect guesses.\n",
                "\n",
                "TIP: you can use the `random` module to generate random numbers. For example, you can use `random.randint(1, 30)` to generate a random number between 1 and 30."
            ]
        },
        {
            "cell_type": "code",
            "execution_count": 12,
            "metadata": {},
            "outputs": [
                {
                    "name": "stdout",
                    "output_type": "stream",
                    "text": [
                        "Your guess is too high\n",
                        "Your guess is too low\n",
                        "Your guess is too high\n",
                        "You guessed it!\n"
                    ]
                }
            ],
            "source": [
                "from random import randint\n",
                "\n",
                "number = randint(1, 30)\n",
                "n_guesses = 0\n",
                "\n",
                "while n_guesses < 5:\n",
                "    guess = int(input(\"Enter your guess: \"))\n",
                "    n_guesses += 1\n",
                "    if guess == number:\n",
                "        print(\"You guessed it!\")\n",
                "        break\n",
                "    elif guess < number:\n",
                "        print(\"Your guess is too low\")\n",
                "    else:\n",
                "        print(\"Your guess is too high\")\n"
            ]
        }
    ],
    "metadata": {
        "kernelspec": {
            "display_name": "Python 3",
            "language": "python",
            "name": "python3"
        },
        "language_info": {
            "codemirror_mode": {
                "name": "ipython",
                "version": 3
            },
            "file_extension": ".py",
            "mimetype": "text/x-python",
            "name": "python",
            "nbconvert_exporter": "python",
            "pygments_lexer": "ipython3",
            "version": "3.9.0"
        },
        "orig_nbformat": 4
    },
    "nbformat": 4,
    "nbformat_minor": 2
}
