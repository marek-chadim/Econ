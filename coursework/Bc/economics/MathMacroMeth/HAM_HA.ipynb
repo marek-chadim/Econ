{
 "cells": [
  {
   "cell_type": "markdown",
   "metadata": {},
   "source": [
    "<font size=6><b>HA 4 - Heterogenous Agents Model</b></font><br/>\n",
    "Please write your answers to the following questions using the python code bellow:"
   ]
  },
  {
   "cell_type": "markdown",
   "metadata": {},
   "source": [
    "#### 1.) Explain carefully how do we get number p[tmax]"
   ]
  },
  {
   "cell_type": "markdown",
   "metadata": {},
   "source": [
    "Answer: "
   ]
  },
  {
   "cell_type": "markdown",
   "metadata": {},
   "source": [
    "#### 2.) Explain very carefully what is the meaning of p[tmax]. What is the relation between p[tmax] and equilibrium of the system (i.e. p* = 0)"
   ]
  },
  {
   "cell_type": "markdown",
   "metadata": {},
   "source": [
    "Answer: "
   ]
  },
  {
   "cell_type": "markdown",
   "metadata": {},
   "source": [
    "#### 3.) What is the meaning of the parameter beta in the HAM -  cobweb model?"
   ]
  },
  {
   "cell_type": "markdown",
   "metadata": {},
   "source": [
    "Answer: "
   ]
  },
  {
   "cell_type": "markdown",
   "metadata": {},
   "source": [
    "#### 4.) Describe the final plots. What do we plot? Why do we observe some strange curves? Why do we observe only one or three p[tmax] for small beta, but many different p[tmax] for high beta?"
   ]
  },
  {
   "cell_type": "markdown",
   "metadata": {},
   "source": [
    "Answer: "
   ]
  },
  {
   "cell_type": "markdown",
   "metadata": {},
   "source": [
    "#### 5.) What can we say about the behaviour of p[t] for beta = 2 from this plot? Is it converging? Is it 3-points limit cycle? Is it chaotic? Please, explain."
   ]
  },
  {
   "cell_type": "markdown",
   "metadata": {},
   "source": [
    "Answer: "
   ]
  },
  {
   "cell_type": "markdown",
   "metadata": {},
   "source": [
    "#### 6.) What can we say about the behaviour of p[t] for beta = 5 from this plot?"
   ]
  },
  {
   "cell_type": "markdown",
   "metadata": {},
   "source": [
    "Answer: "
   ]
  },
  {
   "cell_type": "code",
   "execution_count": null,
   "metadata": {},
   "outputs": [],
   "source": [
    "import numpy as np\n",
    "import matplotlib.pyplot as plt\n",
    "import random as rd"
   ]
  },
  {
   "cell_type": "code",
   "execution_count": null,
   "metadata": {},
   "outputs": [],
   "source": [
    "def rand0():\n",
    "    return(rd.uniform(-0.05, 0.05))\n",
    "\n",
    "def randomise(m, M, step):\n",
    "    x = np.arange(m, M + 0.1*step, step)\n",
    "    return( [ (1 + rand0()) * i for i in x] )"
   ]
  },
  {
   "cell_type": "code",
   "execution_count": null,
   "metadata": {},
   "outputs": [],
   "source": [
    "betamin = 0.2\n",
    "betamax = 5\n",
    "deltabeta = 0.2\n",
    "\n",
    "p0min = -2\n",
    "p0max = 2\n",
    "deltap0 = 0.4\n",
    "\n",
    "m0min = -1\n",
    "m0max = 1\n",
    "deltam0 = 0.2"
   ]
  },
  {
   "cell_type": "code",
   "execution_count": null,
   "metadata": {},
   "outputs": [],
   "source": [
    "betavec = randomise(betamin, betamax, deltabeta)\n",
    "p0vec = randomise(p0min, p0max, deltap0)\n",
    "m0vec = randomise(m0min, m0max, deltam0)\n",
    "\n",
    "betas = len(betavec)\n",
    "p0s = len(p0vec)\n",
    "m0s = len(m0vec)"
   ]
  },
  {
   "cell_type": "code",
   "execution_count": null,
   "metadata": {},
   "outputs": [],
   "source": [
    "b = 1.35\n",
    "B = 0.5\n",
    "c = 1\n",
    "tmax = 1000"
   ]
  },
  {
   "cell_type": "code",
   "execution_count": null,
   "metadata": {},
   "outputs": [],
   "source": [
    "def p_func(p_t, m_t):\n",
    "    return(((-b*(1 - m_t)*p_t) / (2*B + b*(1 + m_t))))\n",
    "\n",
    "def m_func(p_t, m_t, beta_i):\n",
    "    return(\n",
    "        np.tanh(\n",
    "            beta_i/2 * (b/2*((b*(1 - m_t)) / (2*B + b*(1 + m_t)) + 1)**(2)*(p_t)**2 - c)\n",
    "        )\n",
    "    )\n",
    "\n",
    "def solver(beta, p0, m0, tmax = tmax):\n",
    "    solved = np.zeros((tmax, 2))\n",
    "    \n",
    "    solved[0,0] = p_func(p0, m0)                                           # compute for initial conditions\n",
    "    solved[0,1] = m_func(p0, m0, beta)\n",
    "    \n",
    "    for t in range(1, tmax):                                               # then calculate the rest\n",
    "        solved[t, 0] = p_func(solved[t-1, 0],solved[t-1, 1])\n",
    "        solved[t, 1] = m_func(solved[t-1, 0],solved[t-1, 1], beta)\n",
    "    \n",
    "    return(np.array([beta, solved[-1,0], solved[-1,1]]))"
   ]
  },
  {
   "cell_type": "code",
   "execution_count": null,
   "metadata": {},
   "outputs": [],
   "source": [
    "pointsvector = np.zeros((betas*p0s*m0s,3))\n",
    "\n",
    "l = 0\n",
    "for i in range(round(betas)):\n",
    "    for j in range(round(p0s)):\n",
    "        for k in range(round(m0s)):\n",
    "            pointsvector[l,:] = solver(betavec[i], p0vec[j], m0vec[k])\n",
    "            l+=1"
   ]
  },
  {
   "cell_type": "code",
   "execution_count": null,
   "metadata": {},
   "outputs": [],
   "source": [
    "plt.figure(figsize=(40, 15))\n",
    "plt.subplot(121)\n",
    "plt.title(\"Plot of prices\")\n",
    "plt.scatter(pointsvector[:,0], pointsvector[:,1])\n",
    "\n",
    "plt.subplot(122)\n",
    "plt.title(\"Plot of difference in number of agents\")\n",
    "plt.scatter(pointsvector[:,0], pointsvector[:,2])\n",
    "plt.show()"
   ]
  }
 ],
 "metadata": {
  "kernelspec": {
   "display_name": "Python 3",
   "language": "python",
   "name": "python3"
  },
  "language_info": {
   "codemirror_mode": {
    "name": "ipython",
    "version": 3
   },
   "file_extension": ".py",
   "mimetype": "text/x-python",
   "name": "python",
   "nbconvert_exporter": "python",
   "pygments_lexer": "ipython3",
   "version": "3.6.9"
  }
 },
 "nbformat": 4,
 "nbformat_minor": 2
}
