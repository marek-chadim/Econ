{
  "metadata": {
    "kernelspec": {
      "name": "ir",
      "display_name": "R"
    },
    "language_info": {
      "name": "R",
      "codemirror_mode": "r",
      "pygments_lexer": "r",
      "mimetype": "text/x-r-source",
      "file_extension": ".r",
      "version": "3.6.3"
    },
    "colab": {
      "provenance": [],
      "machine_shape": "hm",
      "gpuType": "A100"
    },
    "accelerator": "GPU"
  },
  "nbformat_minor": 0,
  "nbformat": 4,
  "cells": [
    {
      "cell_type": "markdown",
      "source": [
        "# DAGs: D-Separation and Conditonal Independencies, Adjustment via Backdoor and Swigs, Equivalence Classes, Falsifiability Tests.\n"
      ],
      "metadata": {
        "id": "m2XV6mISYNvO"
      }
    },
    {
      "cell_type": "code",
      "source": [
        "#install and load package\n",
        "install.packages(\"dagitty\")\n",
        "install.packages(\"ggdag\")\n",
        "library(dagitty)\n",
        "library(ggdag)\n"
      ],
      "metadata": {
        "_uuid": "051d70d956493feee0c6d64651c6a088724dca2a",
        "_execution_state": "idle",
        "execution": {
          "iopub.status.busy": "2023-02-06T20:16:30.813529Z",
          "iopub.execute_input": "2023-02-06T20:16:30.814710Z"
        },
        "trusted": true,
        "colab": {
          "base_uri": "https://localhost:8080/"
        },
        "id": "oi39DyRjYNvR",
        "outputId": "49f9706a-1d04-43a9-e0ea-a27b6df91acf"
      },
      "execution_count": null,
      "outputs": [
        {
          "metadata": {
            "tags": null
          },
          "name": "stderr",
          "output_type": "stream",
          "text": [
            "Installing package into ‘/usr/local/lib/R/site-library’\n",
            "(as ‘lib’ is unspecified)\n",
            "\n",
            "also installing the dependencies ‘Rcpp’, ‘V8’\n",
            "\n",
            "\n",
            "Installing package into ‘/usr/local/lib/R/site-library’\n",
            "(as ‘lib’ is unspecified)\n",
            "\n",
            "also installing the dependencies ‘tweenr’, ‘polyclip’, ‘RcppEigen’, ‘gridExtra’, ‘RcppArmadillo’, ‘ggforce’, ‘viridis’, ‘graphlayouts’, ‘ggraph’, ‘ggrepel’, ‘igraph’, ‘tidygraph’\n",
            "\n",
            "\n"
          ]
        }
      ]
    },
    {
      "cell_type": "markdown",
      "source": [
        "# Graph Generation and Plotting"
      ],
      "metadata": {
        "id": "6rhV4i4IYNvT"
      }
    },
    {
      "cell_type": "markdown",
      "source": [
        "The following DAG is due to Judea Pearl"
      ],
      "metadata": {
        "id": "e1Pm8vGkYNvU"
      }
    },
    {
      "cell_type": "code",
      "source": [
        "#generate a couple of DAGs and plot them\n",
        "\n",
        "G = dagitty('dag{\n",
        "Z1 [pos=\"-2,-1.5\"]\n",
        "X1 [pos=\"-2,0\"]\n",
        "Z2 [pos=\"1.5,-1.5\"]\n",
        "X3 [pos=\"1.5, 0\"]\n",
        "Y [outcome,pos=\"1.5,1.5\"]\n",
        "D [exposure,pos=\"-2,1.5\"]\n",
        "M [mediator, pos=\"0,1.5\"]\n",
        "X2 [pos=\"0,0\"]\n",
        "Z1 -> X1\n",
        "X1 -> D\n",
        "Z1 -> X2\n",
        "Z2 -> X3\n",
        "X3 -> Y\n",
        "Z2 -> X2\n",
        "X2 -> Y\n",
        "X2 -> D\n",
        "M->Y\n",
        "D->M\n",
        "}')\n",
        "\n",
        "\n",
        "ggdag(G) +  theme_dag()"
      ],
      "metadata": {
        "execution": {
          "iopub.status.busy": "2023-02-06T20:15:48.978581Z",
          "iopub.execute_input": "2023-02-06T20:15:49.018104Z",
          "iopub.status.idle": "2023-02-06T20:15:49.057180Z"
        },
        "trusted": true,
        "colab": {
          "base_uri": "https://localhost:8080/",
          "height": 437
        },
        "id": "BWggS9deYNvU",
        "outputId": "804bbf8f-05a4-425a-9299-d4765f3cb636"
      },
      "execution_count": null,
      "outputs": [
        {
          "output_type": "display_data",
          "data": {
            "text/plain": [
              "plot without title"
            ],
            "image/png": "[encoded data removed]"
          },
          "metadata": {
            "image/png": {
              "width": 420,
              "height": 420
            }
          }
        }
      ]
    },
    {
      "cell_type": "code",
      "source": [
        "# Report Relatives of X2"
      ],
      "metadata": {
        "id": "7iF5uj1HYNvU"
      },
      "execution_count": null,
      "outputs": []
    },
    {
      "cell_type": "code",
      "source": [
        "print(parents(G, \"X2\"))\n",
        "print(children(G, \"X2\"))\n",
        "print(ancestors(G, \"X2\"))\n",
        "print(descendants(G, \"X2\"))"
      ],
      "metadata": {
        "execution": {
          "iopub.status.busy": "2023-01-31T19:52:06.687866Z",
          "iopub.execute_input": "2023-01-31T19:52:06.689753Z",
          "iopub.status.idle": "2023-01-31T19:52:06.733807Z"
        },
        "trusted": true,
        "colab": {
          "base_uri": "https://localhost:8080/"
        },
        "id": "U5KLAloLYNvU",
        "outputId": "9ffb18fc-90dc-4096-e6a2-02ebf10be9aa"
      },
      "execution_count": null,
      "outputs": [
        {
          "output_type": "stream",
          "name": "stdout",
          "text": [
            "[1] \"Z1\" \"Z2\"\n",
            "[1] \"D\" \"Y\"\n",
            "[1] \"X2\" \"Z2\" \"Z1\"\n",
            "[1] \"X2\" \"Y\"  \"D\"  \"M\" \n"
          ]
        }
      ]
    },
    {
      "cell_type": "markdown",
      "source": [
        "# Find Paths Between D and Y\n",
        "\n"
      ],
      "metadata": {
        "id": "sGXZN8ulYNvV"
      }
    },
    {
      "cell_type": "code",
      "source": [
        "paths(G, \"D\", \"Y\")"
      ],
      "metadata": {
        "execution": {
          "iopub.status.busy": "2023-01-31T19:52:06.78802Z",
          "iopub.execute_input": "2023-01-31T19:52:06.789176Z",
          "iopub.status.idle": "2023-01-31T19:52:06.820404Z"
        },
        "trusted": true,
        "colab": {
          "base_uri": "https://localhost:8080/",
          "height": 114
        },
        "id": "52NIz19hYNvV",
        "outputId": "41717af2-e8d0-43a1-e692-498c07ca2c4e"
      },
      "execution_count": null,
      "outputs": [
        {
          "output_type": "display_data",
          "data": {
            "text/html": [
              "<dl>\n",
              "\t<dt>$paths</dt>\n",
              "\t\t<dd><style>\n",
              ".list-inline {list-style: none; margin:0; padding: 0}\n",
              ".list-inline>li {display: inline-block}\n",
              ".list-inline>li:not(:last-child)::after {content: \"\\00b7\"; padding: 0 .5ex}\n",
              "</style>\n",
              "<ol class=list-inline><li>'D -&gt; M -&gt; Y'</li><li>'D &lt;- X1 &lt;- Z1 -&gt; X2 -&gt; Y'</li><li>'D &lt;- X1 &lt;- Z1 -&gt; X2 &lt;- Z2 -&gt; X3 -&gt; Y'</li><li>'D &lt;- X2 -&gt; Y'</li><li>'D &lt;- X2 &lt;- Z2 -&gt; X3 -&gt; Y'</li></ol>\n",
              "</dd>\n",
              "\t<dt>$open</dt>\n",
              "\t\t<dd><style>\n",
              ".list-inline {list-style: none; margin:0; padding: 0}\n",
              ".list-inline>li {display: inline-block}\n",
              ".list-inline>li:not(:last-child)::after {content: \"\\00b7\"; padding: 0 .5ex}\n",
              "</style>\n",
              "<ol class=list-inline><li>TRUE</li><li>TRUE</li><li>FALSE</li><li>TRUE</li><li>TRUE</li></ol>\n",
              "</dd>\n",
              "</dl>\n"
            ],
            "text/markdown": "$paths\n:   1. 'D -&gt; M -&gt; Y'\n2. 'D &lt;- X1 &lt;- Z1 -&gt; X2 -&gt; Y'\n3. 'D &lt;- X1 &lt;- Z1 -&gt; X2 &lt;- Z2 -&gt; X3 -&gt; Y'\n4. 'D &lt;- X2 -&gt; Y'\n5. 'D &lt;- X2 &lt;- Z2 -&gt; X3 -&gt; Y'\n\n\n\n$open\n:   1. TRUE\n2. TRUE\n3. FALSE\n4. TRUE\n5. TRUE\n\n\n\n\n\n",
            "text/latex": "\\begin{description}\n\\item[\\$paths] \\begin{enumerate*}\n\\item 'D -> M -> Y'\n\\item 'D <- X1 <- Z1 -> X2 -> Y'\n\\item 'D <- X1 <- Z1 -> X2 <- Z2 -> X3 -> Y'\n\\item 'D <- X2 -> Y'\n\\item 'D <- X2 <- Z2 -> X3 -> Y'\n\\end{enumerate*}\n\n\\item[\\$open] \\begin{enumerate*}\n\\item TRUE\n\\item TRUE\n\\item FALSE\n\\item TRUE\n\\item TRUE\n\\end{enumerate*}\n\n\\end{description}\n",
            "text/plain": [
              "$paths\n",
              "[1] \"D -> M -> Y\"                         \n",
              "[2] \"D <- X1 <- Z1 -> X2 -> Y\"            \n",
              "[3] \"D <- X1 <- Z1 -> X2 <- Z2 -> X3 -> Y\"\n",
              "[4] \"D <- X2 -> Y\"                        \n",
              "[5] \"D <- X2 <- Z2 -> X3 -> Y\"            \n",
              "\n",
              "$open\n",
              "[1]  TRUE  TRUE FALSE  TRUE  TRUE\n"
            ]
          },
          "metadata": {}
        }
      ]
    },
    {
      "cell_type": "markdown",
      "source": [
        "# List All Testable Implications of the Model\n",
        "\n",
        "Here we use D-separation to list all the conditional independence relations deduced from the DAG."
      ],
      "metadata": {
        "id": "UG0_nl-XYNvV"
      }
    },
    {
      "cell_type": "code",
      "source": [
        "print( impliedConditionalIndependencies(G) )"
      ],
      "metadata": {
        "execution": {
          "iopub.status.busy": "2023-01-31T19:52:58.807248Z",
          "iopub.execute_input": "2023-01-31T19:52:58.808105Z",
          "iopub.status.idle": "2023-01-31T19:52:58.84766Z"
        },
        "trusted": true,
        "colab": {
          "base_uri": "https://localhost:8080/"
        },
        "id": "dpsTWXT7YNvV",
        "outputId": "13590946-801e-41b4-d175-efc21b2beb04"
      },
      "execution_count": null,
      "outputs": [
        {
          "output_type": "stream",
          "name": "stdout",
          "text": [
            "D _||_ X3 | Z2\n",
            "D _||_ X3 | X2, Z1\n",
            "D _||_ X3 | X1, X2\n",
            "D _||_ Y | M, X2, X3\n",
            "D _||_ Y | M, X2, Z2\n",
            "D _||_ Y | M, X2, Z1\n",
            "D _||_ Y | M, X1, X2\n",
            "D _||_ Z1 | X1, X2\n",
            "D _||_ Z2 | X2, Z1\n",
            "D _||_ Z2 | X1, X2\n",
            "M _||_ X1 | D\n",
            "M _||_ X2 | D\n",
            "M _||_ X3 | Z2\n",
            "M _||_ X3 | X2, Z1\n",
            "M _||_ X3 | X1, X2\n",
            "M _||_ X3 | D\n",
            "M _||_ Z1 | X1, X2\n",
            "M _||_ Z1 | D\n",
            "M _||_ Z2 | X2, Z1\n",
            "M _||_ Z2 | X1, X2\n",
            "M _||_ Z2 | D\n",
            "X1 _||_ X2 | Z1\n",
            "X1 _||_ X3\n",
            "X1 _||_ Y | M, X2, X3\n",
            "X1 _||_ Y | M, X2, Z2\n",
            "X1 _||_ Y | M, X2, Z1\n",
            "X1 _||_ Y | D, X2, X3\n",
            "X1 _||_ Y | D, X2, Z2\n",
            "X1 _||_ Y | D, X2, Z1\n",
            "X1 _||_ Z2\n",
            "X2 _||_ X3 | Z2\n",
            "X3 _||_ Z1\n",
            "Y _||_ Z1 | X1, X2, Z2\n",
            "Y _||_ Z1 | D, X2, Z2\n",
            "Y _||_ Z1 | X1, X2, X3\n",
            "Y _||_ Z1 | D, X2, X3\n",
            "Y _||_ Z1 | M, X2, Z2\n",
            "Y _||_ Z1 | M, X2, X3\n",
            "Y _||_ Z2 | X2, X3, Z1\n",
            "Y _||_ Z2 | X1, X2, X3\n",
            "Y _||_ Z2 | D, X2, X3\n",
            "Y _||_ Z2 | M, X2, X3\n",
            "Z1 _||_ Z2\n"
          ]
        }
      ]
    },
    {
      "cell_type": "markdown",
      "source": [
        "# Testing DAG Validity by Checking Implied Conditional Independencies.\n",
        "\n",
        "We found all the implied conditional independence relations above. Can we test them?  The answer is yes, and is particularly simple if the DAG is associated with a liner SEM.\n",
        "\n",
        "To illustrate, we simulate the data from a Linear SEM associated to DAG G, and perform a test of conditional independence restrictions, exploting linearity.\n",
        "\n",
        "\n",
        "There are many other options for nonlinear models and discrete categorical variabales. Type help(localTests)."
      ],
      "metadata": {
        "id": "2uGKzCgUYNvW"
      }
    },
    {
      "cell_type": "code",
      "source": [
        "set.seed(1)\n",
        "x <- simulateSEM(G, N=10000)\n",
        "head(x)\n",
        "#cov(x)\n",
        "localTests(G, data = x, type = c(\"cis\"))"
      ],
      "metadata": {
        "execution": {
          "iopub.status.busy": "2023-01-31T19:58:24.445048Z",
          "iopub.execute_input": "2023-01-31T19:58:24.445822Z",
          "iopub.status.idle": "2023-01-31T19:58:24.64674Z"
        },
        "trusted": true,
        "id": "y6JeGREpYNvW",
        "colab": {
          "base_uri": "https://localhost:8080/",
          "height": 1000
        },
        "outputId": "228e28dd-b727-4632-8016-11bd2a2255f8"
      },
      "execution_count": null,
      "outputs": [
        {
          "output_type": "display_data",
          "data": {
            "text/html": [
              "<table class=\"dataframe\">\n",
              "<caption>A data.frame: 6 × 8</caption>\n",
              "<thead>\n",
              "\t<tr><th></th><th scope=col>D</th><th scope=col>M</th><th scope=col>X1</th><th scope=col>X2</th><th scope=col>X3</th><th scope=col>Y</th><th scope=col>Z1</th><th scope=col>Z2</th></tr>\n",
              "\t<tr><th></th><th scope=col>&lt;dbl&gt;</th><th scope=col>&lt;dbl&gt;</th><th scope=col>&lt;dbl&gt;</th><th scope=col>&lt;dbl&gt;</th><th scope=col>&lt;dbl&gt;</th><th scope=col>&lt;dbl&gt;</th><th scope=col>&lt;dbl&gt;</th><th scope=col>&lt;dbl&gt;</th></tr>\n",
              "</thead>\n",
              "<tbody>\n",
              "\t<tr><th scope=row>1</th><td>-1.6594194</td><td> 1.08983888</td><td>-0.5055821</td><td>0.4973987</td><td> 1.24443811</td><td>-0.66373764</td><td>-0.6970727</td><td>-0.5575279</td></tr>\n",
              "\t<tr><th scope=row>2</th><td>-0.4814627</td><td> 1.87140938</td><td> 0.8360605</td><td>0.6831001</td><td> 0.35630195</td><td>-0.04750331</td><td> 0.3969829</td><td> 1.7813102</td></tr>\n",
              "\t<tr><th scope=row>3</th><td> 1.0827609</td><td>-0.02761751</td><td>-0.2873145</td><td>1.1695959</td><td> 0.50514512</td><td>-0.50813176</td><td> 0.3856674</td><td> 0.2508686</td></tr>\n",
              "\t<tr><th scope=row>4</th><td> 1.4184813</td><td>-0.96159809</td><td>-0.7705086</td><td>0.7899625</td><td>-0.02773565</td><td>-1.21154746</td><td>-1.4512572</td><td>-0.6021566</td></tr>\n",
              "\t<tr><th scope=row>5</th><td>-0.2635543</td><td>-1.96595669</td><td> 0.4607391</td><td>0.4844504</td><td> 0.28926785</td><td> 0.86802898</td><td> 0.3247187</td><td>-1.2032043</td></tr>\n",
              "\t<tr><th scope=row>6</th><td> 0.3916740</td><td>-1.27655868</td><td> 0.1909338</td><td>2.1746097</td><td>-0.22652401</td><td>-0.84898399</td><td> 0.3076881</td><td> 0.8828852</td></tr>\n",
              "</tbody>\n",
              "</table>\n"
            ],
            "text/markdown": "\nA data.frame: 6 × 8\n\n| <!--/--> | D &lt;dbl&gt; | M &lt;dbl&gt; | X1 &lt;dbl&gt; | X2 &lt;dbl&gt; | X3 &lt;dbl&gt; | Y &lt;dbl&gt; | Z1 &lt;dbl&gt; | Z2 &lt;dbl&gt; |\n|---|---|---|---|---|---|---|---|---|\n| 1 | -1.6594194 |  1.08983888 | -0.5055821 | 0.4973987 |  1.24443811 | -0.66373764 | -0.6970727 | -0.5575279 |\n| 2 | -0.4814627 |  1.87140938 |  0.8360605 | 0.6831001 |  0.35630195 | -0.04750331 |  0.3969829 |  1.7813102 |\n| 3 |  1.0827609 | -0.02761751 | -0.2873145 | 1.1695959 |  0.50514512 | -0.50813176 |  0.3856674 |  0.2508686 |\n| 4 |  1.4184813 | -0.96159809 | -0.7705086 | 0.7899625 | -0.02773565 | -1.21154746 | -1.4512572 | -0.6021566 |\n| 5 | -0.2635543 | -1.96595669 |  0.4607391 | 0.4844504 |  0.28926785 |  0.86802898 |  0.3247187 | -1.2032043 |\n| 6 |  0.3916740 | -1.27655868 |  0.1909338 | 2.1746097 | -0.22652401 | -0.84898399 |  0.3076881 |  0.8828852 |\n\n",
            "text/latex": "A data.frame: 6 × 8\n\\begin{tabular}{r|llllllll}\n  & D & M & X1 & X2 & X3 & Y & Z1 & Z2\\\\\n  & <dbl> & <dbl> & <dbl> & <dbl> & <dbl> & <dbl> & <dbl> & <dbl>\\\\\n\\hline\n\t1 & -1.6594194 &  1.08983888 & -0.5055821 & 0.4973987 &  1.24443811 & -0.66373764 & -0.6970727 & -0.5575279\\\\\n\t2 & -0.4814627 &  1.87140938 &  0.8360605 & 0.6831001 &  0.35630195 & -0.04750331 &  0.3969829 &  1.7813102\\\\\n\t3 &  1.0827609 & -0.02761751 & -0.2873145 & 1.1695959 &  0.50514512 & -0.50813176 &  0.3856674 &  0.2508686\\\\\n\t4 &  1.4184813 & -0.96159809 & -0.7705086 & 0.7899625 & -0.02773565 & -1.21154746 & -1.4512572 & -0.6021566\\\\\n\t5 & -0.2635543 & -1.96595669 &  0.4607391 & 0.4844504 &  0.28926785 &  0.86802898 &  0.3247187 & -1.2032043\\\\\n\t6 &  0.3916740 & -1.27655868 &  0.1909338 & 2.1746097 & -0.22652401 & -0.84898399 &  0.3076881 &  0.8828852\\\\\n\\end{tabular}\n",
            "text/plain": [
              "  D          M           X1         X2        X3          Y          \n",
              "1 -1.6594194  1.08983888 -0.5055821 0.4973987  1.24443811 -0.66373764\n",
              "2 -0.4814627  1.87140938  0.8360605 0.6831001  0.35630195 -0.04750331\n",
              "3  1.0827609 -0.02761751 -0.2873145 1.1695959  0.50514512 -0.50813176\n",
              "4  1.4184813 -0.96159809 -0.7705086 0.7899625 -0.02773565 -1.21154746\n",
              "5 -0.2635543 -1.96595669  0.4607391 0.4844504  0.28926785  0.86802898\n",
              "6  0.3916740 -1.27655868  0.1909338 2.1746097 -0.22652401 -0.84898399\n",
              "  Z1         Z2        \n",
              "1 -0.6970727 -0.5575279\n",
              "2  0.3969829  1.7813102\n",
              "3  0.3856674  0.2508686\n",
              "4 -1.4512572 -0.6021566\n",
              "5  0.3247187 -1.2032043\n",
              "6  0.3076881  0.8828852"
            ]
          },
          "metadata": {}
        },
        {
          "output_type": "display_data",
          "data": {
            "text/html": [
              "<table class=\"dataframe\">\n",
              "<caption>A data.frame: 43 × 4</caption>\n",
              "<thead>\n",
              "\t<tr><th></th><th scope=col>estimate</th><th scope=col>p.value</th><th scope=col>2.5%</th><th scope=col>97.5%</th></tr>\n",
              "\t<tr><th></th><th scope=col>&lt;dbl&gt;</th><th scope=col>&lt;dbl&gt;</th><th scope=col>&lt;dbl&gt;</th><th scope=col>&lt;dbl&gt;</th></tr>\n",
              "</thead>\n",
              "<tbody>\n",
              "\t<tr><th scope=row>D _||_ X3 | Z2</th><td>-0.0034958794</td><td>0.72669938</td><td>-0.023095347</td><td> 0.016106274</td></tr>\n",
              "\t<tr><th scope=row>D _||_ X3 | X2, Z1</th><td> 0.0085925478</td><td>0.39030682</td><td>-0.011011337</td><td> 0.028189831</td></tr>\n",
              "\t<tr><th scope=row>D _||_ X3 | X1, X2</th><td> 0.0093353298</td><td>0.35065132</td><td>-0.010268580</td><td> 0.028932067</td></tr>\n",
              "\t<tr><th scope=row>D _||_ Y | M, X2, X3</th><td> 0.0039904414</td><td>0.68994734</td><td>-0.015613791</td><td> 0.023591607</td></tr>\n",
              "\t<tr><th scope=row>D _||_ Y | M, X2, Z2</th><td> 0.0083495617</td><td>0.40387254</td><td>-0.011255291</td><td> 0.027947999</td></tr>\n",
              "\t<tr><th scope=row>D _||_ Y | M, X2, Z1</th><td> 0.0078414277</td><td>0.43308497</td><td>-0.011763391</td><td> 0.027440222</td></tr>\n",
              "\t<tr><th scope=row>D _||_ Y | M, X1, X2</th><td> 0.0094000055</td><td>0.34734777</td><td>-0.010204886</td><td> 0.028997674</td></tr>\n",
              "\t<tr><th scope=row>D _||_ Z1 | X1, X2</th><td>-0.0014840516</td><td>0.88205222</td><td>-0.021085469</td><td> 0.018118506</td></tr>\n",
              "\t<tr><th scope=row>D _||_ Z2 | X2, Z1</th><td> 0.0002341192</td><td>0.98132637</td><td>-0.019368000</td><td> 0.019836059</td></tr>\n",
              "\t<tr><th scope=row>D _||_ Z2 | X1, X2</th><td> 0.0001821241</td><td>0.98547304</td><td>-0.019419976</td><td> 0.019784084</td></tr>\n",
              "\t<tr><th scope=row>M _||_ X1 | D</th><td> 0.0002704138</td><td>0.97843104</td><td>-0.019330739</td><td> 0.019871359</td></tr>\n",
              "\t<tr><th scope=row>M _||_ X2 | D</th><td> 0.0035114595</td><td>0.72553047</td><td>-0.016090698</td><td> 0.023110919</td></tr>\n",
              "\t<tr><th scope=row>M _||_ X3 | Z2</th><td> 0.0044513654</td><td>0.65628330</td><td>-0.015151007</td><td> 0.024050318</td></tr>\n",
              "\t<tr><th scope=row>M _||_ X3 | X2, Z1</th><td>-0.0041696357</td><td>0.67677954</td><td>-0.023769724</td><td> 0.015433656</td></tr>\n",
              "\t<tr><th scope=row>M _||_ X3 | X1, X2</th><td>-0.0044128297</td><td>0.65908595</td><td>-0.024012784</td><td> 0.015190515</td></tr>\n",
              "\t<tr><th scope=row>M _||_ X3 | D</th><td>-0.0024660195</td><td>0.80525408</td><td>-0.022066003</td><td> 0.017135859</td></tr>\n",
              "\t<tr><th scope=row>M _||_ Z1 | X1, X2</th><td>-0.0053056590</td><td>0.59580814</td><td>-0.024905100</td><td> 0.014297858</td></tr>\n",
              "\t<tr><th scope=row>M _||_ Z1 | D</th><td>-0.0043000105</td><td>0.66725551</td><td>-0.023899047</td><td> 0.015302329</td></tr>\n",
              "\t<tr><th scope=row>M _||_ Z2 | X2, Z1</th><td> 0.0097768516</td><td>0.32833561</td><td>-0.009827062</td><td> 0.029373254</td></tr>\n",
              "\t<tr><th scope=row>M _||_ Z2 | X1, X2</th><td> 0.0099343315</td><td>0.32060400</td><td>-0.009669582</td><td> 0.029530613</td></tr>\n",
              "\t<tr><th scope=row>M _||_ Z2 | D</th><td> 0.0107253005</td><td>0.28355987</td><td>-0.008877616</td><td> 0.030319978</td></tr>\n",
              "\t<tr><th scope=row>X1 _||_ X2 | Z1</th><td>-0.0165164142</td><td>0.09864443</td><td>-0.036105780</td><td> 0.003085635</td></tr>\n",
              "\t<tr><th scope=row>X1 _||_ X3</th><td>-0.0123125772</td><td>0.21827229</td><td>-0.031904950</td><td> 0.007289252</td></tr>\n",
              "\t<tr><th scope=row>X1 _||_ Y | M, X2, X3</th><td>-0.0220471337</td><td>0.02749559</td><td>-0.041632160</td><td>-0.002445180</td></tr>\n",
              "\t<tr><th scope=row>X1 _||_ Y | M, X2, Z2</th><td>-0.0242877048</td><td>0.01516062</td><td>-0.043869839</td><td>-0.004686925</td></tr>\n",
              "\t<tr><th scope=row>X1 _||_ Y | M, X2, Z1</th><td>-0.0213243844</td><td>0.03299683</td><td>-0.040910301</td><td>-0.001722093</td></tr>\n",
              "\t<tr><th scope=row>X1 _||_ Y | D, X2, X3</th><td>-0.0221485623</td><td>0.02679070</td><td>-0.041733462</td><td>-0.002546657</td></tr>\n",
              "\t<tr><th scope=row>X1 _||_ Y | D, X2, Z2</th><td>-0.0248337826</td><td>0.01302285</td><td>-0.044415183</td><td>-0.005233320</td></tr>\n",
              "\t<tr><th scope=row>X1 _||_ Y | D, X2, Z1</th><td>-0.0221898250</td><td>0.02650844</td><td>-0.041774673</td><td>-0.002587940</td></tr>\n",
              "\t<tr><th scope=row>X1 _||_ Z2</th><td> 0.0021371750</td><td>0.83079211</td><td>-0.017463627</td><td> 0.021736335</td></tr>\n",
              "\t<tr><th scope=row>X2 _||_ X3 | Z2</th><td>-0.0243206722</td><td>0.01501321</td><td>-0.043900805</td><td>-0.004721873</td></tr>\n",
              "\t<tr><th scope=row>X3 _||_ Z1</th><td>-0.0103075577</td><td>0.30271078</td><td>-0.029901588</td><td> 0.009294390</td></tr>\n",
              "\t<tr><th scope=row>Y _||_ Z1 | X1, X2, Z2</th><td> 0.0028070253</td><td>0.77900261</td><td>-0.016796910</td><td> 0.022408803</td></tr>\n",
              "\t<tr><th scope=row>Y _||_ Z1 | D, X2, Z2</th><td>-0.0106825587</td><td>0.28553135</td><td>-0.030279230</td><td> 0.008922321</td></tr>\n",
              "\t<tr><th scope=row>Y _||_ Z1 | X1, X2, X3</th><td> 0.0012537108</td><td>0.90025951</td><td>-0.018349751</td><td> 0.020856209</td></tr>\n",
              "\t<tr><th scope=row>Y _||_ Z1 | D, X2, X3</th><td>-0.0105799585</td><td>0.29018408</td><td>-0.030176712</td><td> 0.009024924</td></tr>\n",
              "\t<tr><th scope=row>Y _||_ Z1 | M, X2, Z2</th><td>-0.0111511017</td><td>0.26492679</td><td>-0.030747393</td><td> 0.008453757</td></tr>\n",
              "\t<tr><th scope=row>Y _||_ Z1 | M, X2, X3</th><td>-0.0114175711</td><td>0.25367683</td><td>-0.031013642</td><td> 0.008187272</td></tr>\n",
              "\t<tr><th scope=row>Y _||_ Z2 | X2, X3, Z1</th><td> 0.0124467404</td><td>0.21336532</td><td>-0.007158017</td><td> 0.032041935</td></tr>\n",
              "\t<tr><th scope=row>Y _||_ Z2 | X1, X2, X3</th><td> 0.0123489106</td><td>0.21698563</td><td>-0.007255857</td><td> 0.031944191</td></tr>\n",
              "\t<tr><th scope=row>Y _||_ Z2 | D, X2, X3</th><td> 0.0124859598</td><td>0.21192626</td><td>-0.007118793</td><td> 0.032081121</td></tr>\n",
              "\t<tr><th scope=row>Y _||_ Z2 | M, X2, X3</th><td> 0.0145794757</td><td>0.14494713</td><td>-0.005024971</td><td> 0.034172723</td></tr>\n",
              "\t<tr><th scope=row>Z1 _||_ Z2</th><td> 0.0066823698</td><td>0.50403997</td><td>-0.012919392</td><td> 0.026278999</td></tr>\n",
              "</tbody>\n",
              "</table>\n"
            ],
            "text/markdown": "\nA data.frame: 43 × 4\n\n| <!--/--> | estimate &lt;dbl&gt; | p.value &lt;dbl&gt; | 2.5% &lt;dbl&gt; | 97.5% &lt;dbl&gt; |\n|---|---|---|---|---|\n| D _||_ X3 | Z2 | -0.0034958794 | 0.72669938 | -0.023095347 |  0.016106274 |\n| D _||_ X3 | X2, Z1 |  0.0085925478 | 0.39030682 | -0.011011337 |  0.028189831 |\n| D _||_ X3 | X1, X2 |  0.0093353298 | 0.35065132 | -0.010268580 |  0.028932067 |\n| D _||_ Y | M, X2, X3 |  0.0039904414 | 0.68994734 | -0.015613791 |  0.023591607 |\n| D _||_ Y | M, X2, Z2 |  0.0083495617 | 0.40387254 | -0.011255291 |  0.027947999 |\n| D _||_ Y | M, X2, Z1 |  0.0078414277 | 0.43308497 | -0.011763391 |  0.027440222 |\n| D _||_ Y | M, X1, X2 |  0.0094000055 | 0.34734777 | -0.010204886 |  0.028997674 |\n| D _||_ Z1 | X1, X2 | -0.0014840516 | 0.88205222 | -0.021085469 |  0.018118506 |\n| D _||_ Z2 | X2, Z1 |  0.0002341192 | 0.98132637 | -0.019368000 |  0.019836059 |\n| D _||_ Z2 | X1, X2 |  0.0001821241 | 0.98547304 | -0.019419976 |  0.019784084 |\n| M _||_ X1 | D |  0.0002704138 | 0.97843104 | -0.019330739 |  0.019871359 |\n| M _||_ X2 | D |  0.0035114595 | 0.72553047 | -0.016090698 |  0.023110919 |\n| M _||_ X3 | Z2 |  0.0044513654 | 0.65628330 | -0.015151007 |  0.024050318 |\n| M _||_ X3 | X2, Z1 | -0.0041696357 | 0.67677954 | -0.023769724 |  0.015433656 |\n| M _||_ X3 | X1, X2 | -0.0044128297 | 0.65908595 | -0.024012784 |  0.015190515 |\n| M _||_ X3 | D | -0.0024660195 | 0.80525408 | -0.022066003 |  0.017135859 |\n| M _||_ Z1 | X1, X2 | -0.0053056590 | 0.59580814 | -0.024905100 |  0.014297858 |\n| M _||_ Z1 | D | -0.0043000105 | 0.66725551 | -0.023899047 |  0.015302329 |\n| M _||_ Z2 | X2, Z1 |  0.0097768516 | 0.32833561 | -0.009827062 |  0.029373254 |\n| M _||_ Z2 | X1, X2 |  0.0099343315 | 0.32060400 | -0.009669582 |  0.029530613 |\n| M _||_ Z2 | D |  0.0107253005 | 0.28355987 | -0.008877616 |  0.030319978 |\n| X1 _||_ X2 | Z1 | -0.0165164142 | 0.09864443 | -0.036105780 |  0.003085635 |\n| X1 _||_ X3 | -0.0123125772 | 0.21827229 | -0.031904950 |  0.007289252 |\n| X1 _||_ Y | M, X2, X3 | -0.0220471337 | 0.02749559 | -0.041632160 | -0.002445180 |\n| X1 _||_ Y | M, X2, Z2 | -0.0242877048 | 0.01516062 | -0.043869839 | -0.004686925 |\n| X1 _||_ Y | M, X2, Z1 | -0.0213243844 | 0.03299683 | -0.040910301 | -0.001722093 |\n| X1 _||_ Y | D, X2, X3 | -0.0221485623 | 0.02679070 | -0.041733462 | -0.002546657 |\n| X1 _||_ Y | D, X2, Z2 | -0.0248337826 | 0.01302285 | -0.044415183 | -0.005233320 |\n| X1 _||_ Y | D, X2, Z1 | -0.0221898250 | 0.02650844 | -0.041774673 | -0.002587940 |\n| X1 _||_ Z2 |  0.0021371750 | 0.83079211 | -0.017463627 |  0.021736335 |\n| X2 _||_ X3 | Z2 | -0.0243206722 | 0.01501321 | -0.043900805 | -0.004721873 |\n| X3 _||_ Z1 | -0.0103075577 | 0.30271078 | -0.029901588 |  0.009294390 |\n| Y _||_ Z1 | X1, X2, Z2 |  0.0028070253 | 0.77900261 | -0.016796910 |  0.022408803 |\n| Y _||_ Z1 | D, X2, Z2 | -0.0106825587 | 0.28553135 | -0.030279230 |  0.008922321 |\n| Y _||_ Z1 | X1, X2, X3 |  0.0012537108 | 0.90025951 | -0.018349751 |  0.020856209 |\n| Y _||_ Z1 | D, X2, X3 | -0.0105799585 | 0.29018408 | -0.030176712 |  0.009024924 |\n| Y _||_ Z1 | M, X2, Z2 | -0.0111511017 | 0.26492679 | -0.030747393 |  0.008453757 |\n| Y _||_ Z1 | M, X2, X3 | -0.0114175711 | 0.25367683 | -0.031013642 |  0.008187272 |\n| Y _||_ Z2 | X2, X3, Z1 |  0.0124467404 | 0.21336532 | -0.007158017 |  0.032041935 |\n| Y _||_ Z2 | X1, X2, X3 |  0.0123489106 | 0.21698563 | -0.007255857 |  0.031944191 |\n| Y _||_ Z2 | D, X2, X3 |  0.0124859598 | 0.21192626 | -0.007118793 |  0.032081121 |\n| Y _||_ Z2 | M, X2, X3 |  0.0145794757 | 0.14494713 | -0.005024971 |  0.034172723 |\n| Z1 _||_ Z2 |  0.0066823698 | 0.50403997 | -0.012919392 |  0.026278999 |\n\n",
            "text/latex": "A data.frame: 43 × 4\n\\begin{tabular}{r|llll}\n  & estimate & p.value & 2.5\\% & 97.5\\%\\\\\n  & <dbl> & <dbl> & <dbl> & <dbl>\\\\\n\\hline\n\tD \\_\\textbar{}\\textbar{}\\_ X3 \\textbar{} Z2 & -0.0034958794 & 0.72669938 & -0.023095347 &  0.016106274\\\\\n\tD \\_\\textbar{}\\textbar{}\\_ X3 \\textbar{} X2, Z1 &  0.0085925478 & 0.39030682 & -0.011011337 &  0.028189831\\\\\n\tD \\_\\textbar{}\\textbar{}\\_ X3 \\textbar{} X1, X2 &  0.0093353298 & 0.35065132 & -0.010268580 &  0.028932067\\\\\n\tD \\_\\textbar{}\\textbar{}\\_ Y \\textbar{} M, X2, X3 &  0.0039904414 & 0.68994734 & -0.015613791 &  0.023591607\\\\\n\tD \\_\\textbar{}\\textbar{}\\_ Y \\textbar{} M, X2, Z2 &  0.0083495617 & 0.40387254 & -0.011255291 &  0.027947999\\\\\n\tD \\_\\textbar{}\\textbar{}\\_ Y \\textbar{} M, X2, Z1 &  0.0078414277 & 0.43308497 & -0.011763391 &  0.027440222\\\\\n\tD \\_\\textbar{}\\textbar{}\\_ Y \\textbar{} M, X1, X2 &  0.0094000055 & 0.34734777 & -0.010204886 &  0.028997674\\\\\n\tD \\_\\textbar{}\\textbar{}\\_ Z1 \\textbar{} X1, X2 & -0.0014840516 & 0.88205222 & -0.021085469 &  0.018118506\\\\\n\tD \\_\\textbar{}\\textbar{}\\_ Z2 \\textbar{} X2, Z1 &  0.0002341192 & 0.98132637 & -0.019368000 &  0.019836059\\\\\n\tD \\_\\textbar{}\\textbar{}\\_ Z2 \\textbar{} X1, X2 &  0.0001821241 & 0.98547304 & -0.019419976 &  0.019784084\\\\\n\tM \\_\\textbar{}\\textbar{}\\_ X1 \\textbar{} D &  0.0002704138 & 0.97843104 & -0.019330739 &  0.019871359\\\\\n\tM \\_\\textbar{}\\textbar{}\\_ X2 \\textbar{} D &  0.0035114595 & 0.72553047 & -0.016090698 &  0.023110919\\\\\n\tM \\_\\textbar{}\\textbar{}\\_ X3 \\textbar{} Z2 &  0.0044513654 & 0.65628330 & -0.015151007 &  0.024050318\\\\\n\tM \\_\\textbar{}\\textbar{}\\_ X3 \\textbar{} X2, Z1 & -0.0041696357 & 0.67677954 & -0.023769724 &  0.015433656\\\\\n\tM \\_\\textbar{}\\textbar{}\\_ X3 \\textbar{} X1, X2 & -0.0044128297 & 0.65908595 & -0.024012784 &  0.015190515\\\\\n\tM \\_\\textbar{}\\textbar{}\\_ X3 \\textbar{} D & -0.0024660195 & 0.80525408 & -0.022066003 &  0.017135859\\\\\n\tM \\_\\textbar{}\\textbar{}\\_ Z1 \\textbar{} X1, X2 & -0.0053056590 & 0.59580814 & -0.024905100 &  0.014297858\\\\\n\tM \\_\\textbar{}\\textbar{}\\_ Z1 \\textbar{} D & -0.0043000105 & 0.66725551 & -0.023899047 &  0.015302329\\\\\n\tM \\_\\textbar{}\\textbar{}\\_ Z2 \\textbar{} X2, Z1 &  0.0097768516 & 0.32833561 & -0.009827062 &  0.029373254\\\\\n\tM \\_\\textbar{}\\textbar{}\\_ Z2 \\textbar{} X1, X2 &  0.0099343315 & 0.32060400 & -0.009669582 &  0.029530613\\\\\n\tM \\_\\textbar{}\\textbar{}\\_ Z2 \\textbar{} D &  0.0107253005 & 0.28355987 & -0.008877616 &  0.030319978\\\\\n\tX1 \\_\\textbar{}\\textbar{}\\_ X2 \\textbar{} Z1 & -0.0165164142 & 0.09864443 & -0.036105780 &  0.003085635\\\\\n\tX1 \\_\\textbar{}\\textbar{}\\_ X3 & -0.0123125772 & 0.21827229 & -0.031904950 &  0.007289252\\\\\n\tX1 \\_\\textbar{}\\textbar{}\\_ Y \\textbar{} M, X2, X3 & -0.0220471337 & 0.02749559 & -0.041632160 & -0.002445180\\\\\n\tX1 \\_\\textbar{}\\textbar{}\\_ Y \\textbar{} M, X2, Z2 & -0.0242877048 & 0.01516062 & -0.043869839 & -0.004686925\\\\\n\tX1 \\_\\textbar{}\\textbar{}\\_ Y \\textbar{} M, X2, Z1 & -0.0213243844 & 0.03299683 & -0.040910301 & -0.001722093\\\\\n\tX1 \\_\\textbar{}\\textbar{}\\_ Y \\textbar{} D, X2, X3 & -0.0221485623 & 0.02679070 & -0.041733462 & -0.002546657\\\\\n\tX1 \\_\\textbar{}\\textbar{}\\_ Y \\textbar{} D, X2, Z2 & -0.0248337826 & 0.01302285 & -0.044415183 & -0.005233320\\\\\n\tX1 \\_\\textbar{}\\textbar{}\\_ Y \\textbar{} D, X2, Z1 & -0.0221898250 & 0.02650844 & -0.041774673 & -0.002587940\\\\\n\tX1 \\_\\textbar{}\\textbar{}\\_ Z2 &  0.0021371750 & 0.83079211 & -0.017463627 &  0.021736335\\\\\n\tX2 \\_\\textbar{}\\textbar{}\\_ X3 \\textbar{} Z2 & -0.0243206722 & 0.01501321 & -0.043900805 & -0.004721873\\\\\n\tX3 \\_\\textbar{}\\textbar{}\\_ Z1 & -0.0103075577 & 0.30271078 & -0.029901588 &  0.009294390\\\\\n\tY \\_\\textbar{}\\textbar{}\\_ Z1 \\textbar{} X1, X2, Z2 &  0.0028070253 & 0.77900261 & -0.016796910 &  0.022408803\\\\\n\tY \\_\\textbar{}\\textbar{}\\_ Z1 \\textbar{} D, X2, Z2 & -0.0106825587 & 0.28553135 & -0.030279230 &  0.008922321\\\\\n\tY \\_\\textbar{}\\textbar{}\\_ Z1 \\textbar{} X1, X2, X3 &  0.0012537108 & 0.90025951 & -0.018349751 &  0.020856209\\\\\n\tY \\_\\textbar{}\\textbar{}\\_ Z1 \\textbar{} D, X2, X3 & -0.0105799585 & 0.29018408 & -0.030176712 &  0.009024924\\\\\n\tY \\_\\textbar{}\\textbar{}\\_ Z1 \\textbar{} M, X2, Z2 & -0.0111511017 & 0.26492679 & -0.030747393 &  0.008453757\\\\\n\tY \\_\\textbar{}\\textbar{}\\_ Z1 \\textbar{} M, X2, X3 & -0.0114175711 & 0.25367683 & -0.031013642 &  0.008187272\\\\\n\tY \\_\\textbar{}\\textbar{}\\_ Z2 \\textbar{} X2, X3, Z1 &  0.0124467404 & 0.21336532 & -0.007158017 &  0.032041935\\\\\n\tY \\_\\textbar{}\\textbar{}\\_ Z2 \\textbar{} X1, X2, X3 &  0.0123489106 & 0.21698563 & -0.007255857 &  0.031944191\\\\\n\tY \\_\\textbar{}\\textbar{}\\_ Z2 \\textbar{} D, X2, X3 &  0.0124859598 & 0.21192626 & -0.007118793 &  0.032081121\\\\\n\tY \\_\\textbar{}\\textbar{}\\_ Z2 \\textbar{} M, X2, X3 &  0.0145794757 & 0.14494713 & -0.005024971 &  0.034172723\\\\\n\tZ1 \\_\\textbar{}\\textbar{}\\_ Z2 &  0.0066823698 & 0.50403997 & -0.012919392 &  0.026278999\\\\\n\\end{tabular}\n",
            "text/plain": [
              "                       estimate      p.value    2.5%         97.5%       \n",
              "D _||_ X3 | Z2         -0.0034958794 0.72669938 -0.023095347  0.016106274\n",
              "D _||_ X3 | X2, Z1      0.0085925478 0.39030682 -0.011011337  0.028189831\n",
              "D _||_ X3 | X1, X2      0.0093353298 0.35065132 -0.010268580  0.028932067\n",
              "D _||_ Y | M, X2, X3    0.0039904414 0.68994734 -0.015613791  0.023591607\n",
              "D _||_ Y | M, X2, Z2    0.0083495617 0.40387254 -0.011255291  0.027947999\n",
              "D _||_ Y | M, X2, Z1    0.0078414277 0.43308497 -0.011763391  0.027440222\n",
              "D _||_ Y | M, X1, X2    0.0094000055 0.34734777 -0.010204886  0.028997674\n",
              "D _||_ Z1 | X1, X2     -0.0014840516 0.88205222 -0.021085469  0.018118506\n",
              "D _||_ Z2 | X2, Z1      0.0002341192 0.98132637 -0.019368000  0.019836059\n",
              "D _||_ Z2 | X1, X2      0.0001821241 0.98547304 -0.019419976  0.019784084\n",
              "M _||_ X1 | D           0.0002704138 0.97843104 -0.019330739  0.019871359\n",
              "M _||_ X2 | D           0.0035114595 0.72553047 -0.016090698  0.023110919\n",
              "M _||_ X3 | Z2          0.0044513654 0.65628330 -0.015151007  0.024050318\n",
              "M _||_ X3 | X2, Z1     -0.0041696357 0.67677954 -0.023769724  0.015433656\n",
              "M _||_ X3 | X1, X2     -0.0044128297 0.65908595 -0.024012784  0.015190515\n",
              "M _||_ X3 | D          -0.0024660195 0.80525408 -0.022066003  0.017135859\n",
              "M _||_ Z1 | X1, X2     -0.0053056590 0.59580814 -0.024905100  0.014297858\n",
              "M _||_ Z1 | D          -0.0043000105 0.66725551 -0.023899047  0.015302329\n",
              "M _||_ Z2 | X2, Z1      0.0097768516 0.32833561 -0.009827062  0.029373254\n",
              "M _||_ Z2 | X1, X2      0.0099343315 0.32060400 -0.009669582  0.029530613\n",
              "M _||_ Z2 | D           0.0107253005 0.28355987 -0.008877616  0.030319978\n",
              "X1 _||_ X2 | Z1        -0.0165164142 0.09864443 -0.036105780  0.003085635\n",
              "X1 _||_ X3             -0.0123125772 0.21827229 -0.031904950  0.007289252\n",
              "X1 _||_ Y | M, X2, X3  -0.0220471337 0.02749559 -0.041632160 -0.002445180\n",
              "X1 _||_ Y | M, X2, Z2  -0.0242877048 0.01516062 -0.043869839 -0.004686925\n",
              "X1 _||_ Y | M, X2, Z1  -0.0213243844 0.03299683 -0.040910301 -0.001722093\n",
              "X1 _||_ Y | D, X2, X3  -0.0221485623 0.02679070 -0.041733462 -0.002546657\n",
              "X1 _||_ Y | D, X2, Z2  -0.0248337826 0.01302285 -0.044415183 -0.005233320\n",
              "X1 _||_ Y | D, X2, Z1  -0.0221898250 0.02650844 -0.041774673 -0.002587940\n",
              "X1 _||_ Z2              0.0021371750 0.83079211 -0.017463627  0.021736335\n",
              "X2 _||_ X3 | Z2        -0.0243206722 0.01501321 -0.043900805 -0.004721873\n",
              "X3 _||_ Z1             -0.0103075577 0.30271078 -0.029901588  0.009294390\n",
              "Y _||_ Z1 | X1, X2, Z2  0.0028070253 0.77900261 -0.016796910  0.022408803\n",
              "Y _||_ Z1 | D, X2, Z2  -0.0106825587 0.28553135 -0.030279230  0.008922321\n",
              "Y _||_ Z1 | X1, X2, X3  0.0012537108 0.90025951 -0.018349751  0.020856209\n",
              "Y _||_ Z1 | D, X2, X3  -0.0105799585 0.29018408 -0.030176712  0.009024924\n",
              "Y _||_ Z1 | M, X2, Z2  -0.0111511017 0.26492679 -0.030747393  0.008453757\n",
              "Y _||_ Z1 | M, X2, X3  -0.0114175711 0.25367683 -0.031013642  0.008187272\n",
              "Y _||_ Z2 | X2, X3, Z1  0.0124467404 0.21336532 -0.007158017  0.032041935\n",
              "Y _||_ Z2 | X1, X2, X3  0.0123489106 0.21698563 -0.007255857  0.031944191\n",
              "Y _||_ Z2 | D, X2, X3   0.0124859598 0.21192626 -0.007118793  0.032081121\n",
              "Y _||_ Z2 | M, X2, X3   0.0145794757 0.14494713 -0.005024971  0.034172723\n",
              "Z1 _||_ Z2              0.0066823698 0.50403997 -0.012919392  0.026278999"
            ]
          },
          "metadata": {}
        }
      ]
    },
    {
      "cell_type": "markdown",
      "source": [
        "Next we replaced $D$ by $\\bar D$ generated differently:\n",
        "$$\n",
        "\\bar D= (D + Y)/2\n",
        "$$\n",
        "So basically $\\bar D$ is an average of $D$ and $Y$ generated by $D$.  We then test if the resulting collection of random variables satisifes conditional indepdendence restrictions, exploiting linearity.  We end up rejectiong these restrictions and thefore the validity of this model for the data generated in this way.  This makes sense, because the new data no longer obeys the previous DAG structure.\n",
        "\n"
      ],
      "metadata": {
        "id": "ICbEwxJdYNvW"
      }
    },
    {
      "cell_type": "code",
      "source": [
        "x.R = x\n",
        "x.R$D = (x$D+ x$Y)/2\n",
        "\n",
        "localTests(G, data = x.R, type = c(\"cis\"))\n",
        "\n"
      ],
      "metadata": {
        "execution": {
          "iopub.status.busy": "2023-01-31T19:58:39.595076Z",
          "iopub.execute_input": "2023-01-31T19:58:39.595803Z",
          "iopub.status.idle": "2023-01-31T19:58:39.679298Z"
        },
        "trusted": true,
        "id": "Hj2giJ30YNvX",
        "colab": {
          "base_uri": "https://localhost:8080/",
          "height": 1000
        },
        "outputId": "de3309fb-ebc6-48df-e5ae-9caa7d0785d7"
      },
      "execution_count": null,
      "outputs": [
        {
          "output_type": "display_data",
          "data": {
            "text/html": [
              "<table class=\"dataframe\">\n",
              "<caption>A data.frame: 43 × 4</caption>\n",
              "<thead>\n",
              "\t<tr><th></th><th scope=col>estimate</th><th scope=col>p.value</th><th scope=col>2.5%</th><th scope=col>97.5%</th></tr>\n",
              "\t<tr><th></th><th scope=col>&lt;dbl&gt;</th><th scope=col>&lt;dbl&gt;</th><th scope=col>&lt;dbl&gt;</th><th scope=col>&lt;dbl&gt;</th></tr>\n",
              "</thead>\n",
              "<tbody>\n",
              "\t<tr><th scope=row>D _||_ X3 | Z2</th><td> 0.3087453088</td><td>1.177499e-12</td><td> 0.227163124</td><td> 0.386665999</td></tr>\n",
              "\t<tr><th scope=row>D _||_ X3 | X2, Z1</th><td> 0.3706635903</td><td>4.760085e-18</td><td> 0.292464135</td><td> 0.445311849</td></tr>\n",
              "\t<tr><th scope=row>D _||_ X3 | X1, X2</th><td> 0.3673586426</td><td>1.000752e-17</td><td> 0.288952541</td><td> 0.442191140</td></tr>\n",
              "\t<tr><th scope=row>D _||_ Y | M, X2, X3</th><td> 0.6805141653</td><td>5.287228e-76</td><td> 0.638289260</td><td> 0.742809147</td></tr>\n",
              "\t<tr><th scope=row>D _||_ Y | M, X2, Z2</th><td> 0.7219037133</td><td>2.811103e-91</td><td> 0.688862902</td><td> 0.785294217</td></tr>\n",
              "\t<tr><th scope=row>D _||_ Y | M, X2, Z1</th><td> 0.7373462493</td><td>7.188066e-98</td><td> 0.708230058</td><td> 0.801542632</td></tr>\n",
              "\t<tr><th scope=row>D _||_ Y | M, X1, X2</th><td> 0.7375961760</td><td>5.562694e-98</td><td> 0.708546047</td><td> 0.801807675</td></tr>\n",
              "\t<tr><th scope=row>D _||_ Z1 | X1, X2</th><td> 0.0110743319</td><td>8.053738e-01</td><td>-0.076867294</td><td> 0.098845431</td></tr>\n",
              "\t<tr><th scope=row>D _||_ Z2 | X2, Z1</th><td>-0.2103799291</td><td>2.018067e-06</td><td>-0.292981478</td><td>-0.124822666</td></tr>\n",
              "\t<tr><th scope=row>D _||_ Z2 | X1, X2</th><td>-0.2108227876</td><td>1.917626e-06</td><td>-0.293406182</td><td>-0.125278869</td></tr>\n",
              "\t<tr><th scope=row>M _||_ X1 | D</th><td>-0.0074622756</td><td>8.680028e-01</td><td>-0.095178940</td><td> 0.080369079</td></tr>\n",
              "\t<tr><th scope=row>M _||_ X2 | D</th><td>-0.0173750382</td><td>6.987566e-01</td><td>-0.104994247</td><td> 0.070511105</td></tr>\n",
              "\t<tr><th scope=row>M _||_ X3 | Z2</th><td> 0.0051461823</td><td>9.087527e-01</td><td>-0.082669906</td><td> 0.092883174</td></tr>\n",
              "\t<tr><th scope=row>M _||_ X3 | X2, Z1</th><td> 0.0174243837</td><td>6.982326e-01</td><td>-0.070550397</td><td> 0.105130937</td></tr>\n",
              "\t<tr><th scope=row>M _||_ X3 | X1, X2</th><td> 0.0199141828</td><td>6.576781e-01</td><td>-0.068071676</td><td> 0.107593533</td></tr>\n",
              "\t<tr><th scope=row>M _||_ X3 | D</th><td> 0.1264473590</td><td>4.636343e-03</td><td> 0.039102895</td><td> 0.211903088</td></tr>\n",
              "\t<tr><th scope=row>M _||_ Z1 | X1, X2</th><td> 0.0118524872</td><td>7.920007e-01</td><td>-0.076093580</td><td> 0.099616050</td></tr>\n",
              "\t<tr><th scope=row>M _||_ Z1 | D</th><td> 0.0056981395</td><td>8.990156e-01</td><td>-0.082121672</td><td> 0.093430371</td></tr>\n",
              "\t<tr><th scope=row>M _||_ Z2 | X2, Z1</th><td>-0.0254828737</td><td>5.706592e-01</td><td>-0.113097530</td><td> 0.062523837</td></tr>\n",
              "\t<tr><th scope=row>M _||_ Z2 | X1, X2</th><td>-0.0264340643</td><td>5.563592e-01</td><td>-0.114037138</td><td> 0.061575665</td></tr>\n",
              "\t<tr><th scope=row>M _||_ Z2 | D</th><td>-0.0861678839</td><td>5.437706e-02</td><td>-0.172650900</td><td> 0.001622878</td></tr>\n",
              "\t<tr><th scope=row>X1 _||_ X2 | Z1</th><td>-0.0412746793</td><td>3.577017e-01</td><td>-0.128589647</td><td> 0.046672919</td></tr>\n",
              "\t<tr><th scope=row>X1 _||_ X3</th><td> 0.0887738039</td><td>4.722217e-02</td><td> 0.001091715</td><td> 0.175112383</td></tr>\n",
              "\t<tr><th scope=row>X1 _||_ Y | M, X2, X3</th><td>-0.0228538758</td><td>6.114244e-01</td><td>-0.110587771</td><td> 0.065232408</td></tr>\n",
              "\t<tr><th scope=row>X1 _||_ Y | M, X2, Z2</th><td> 0.0159540451</td><td>7.228694e-01</td><td>-0.072102342</td><td> 0.103764325</td></tr>\n",
              "\t<tr><th scope=row>X1 _||_ Y | M, X2, Z1</th><td> 0.0191178971</td><td>6.708598e-01</td><td>-0.068953233</td><td> 0.106894169</td></tr>\n",
              "\t<tr><th scope=row>X1 _||_ Y | D, X2, X3</th><td>-0.0689983362</td><td>1.245371e-01</td><td>-0.156012862</td><td> 0.019072491</td></tr>\n",
              "\t<tr><th scope=row>X1 _||_ Y | D, X2, Z2</th><td>-0.0454083747</td><td>3.125211e-01</td><td>-0.132835708</td><td> 0.042717324</td></tr>\n",
              "\t<tr><th scope=row>X1 _||_ Y | D, X2, Z1</th><td>-0.0331338209</td><td>4.613014e-01</td><td>-0.120738758</td><td> 0.054981525</td></tr>\n",
              "\t<tr><th scope=row>X1 _||_ Z2</th><td>-0.0410745553</td><td>3.595563e-01</td><td>-0.128305345</td><td> 0.046784558</td></tr>\n",
              "\t<tr><th scope=row>X2 _||_ X3 | Z2</th><td>-0.0320401980</td><td>4.753426e-01</td><td>-0.119484278</td><td> 0.055895528</td></tr>\n",
              "\t<tr><th scope=row>X3 _||_ Z1</th><td> 0.0243350126</td><td>5.873917e-01</td><td>-0.063491131</td><td> 0.111788221</td></tr>\n",
              "\t<tr><th scope=row>Y _||_ Z1 | X1, X2, Z2</th><td>-0.0118177691</td><td>7.928009e-01</td><td>-0.099669908</td><td> 0.076216705</td></tr>\n",
              "\t<tr><th scope=row>Y _||_ Z1 | D, X2, Z2</th><td>-0.0339365083</td><td>4.505092e-01</td><td>-0.121530615</td><td> 0.054180325</td></tr>\n",
              "\t<tr><th scope=row>Y _||_ Z1 | X1, X2, X3</th><td> 0.0112097158</td><td>8.032379e-01</td><td>-0.076821285</td><td> 0.099067759</td></tr>\n",
              "\t<tr><th scope=row>Y _||_ Z1 | D, X2, X3</th><td>-0.0360099737</td><td>4.233008e-01</td><td>-0.123575595</td><td> 0.052110179</td></tr>\n",
              "\t<tr><th scope=row>Y _||_ Z1 | M, X2, Z2</th><td> 0.0002555337</td><td>9.954684e-01</td><td>-0.087701865</td><td> 0.088208988</td></tr>\n",
              "\t<tr><th scope=row>Y _||_ Z1 | M, X2, X3</th><td>-0.0007791021</td><td>9.861842e-01</td><td>-0.088728470</td><td> 0.087182289</td></tr>\n",
              "\t<tr><th scope=row>Y _||_ Z2 | X2, X3, Z1</th><td> 0.0297264966</td><td>5.086770e-01</td><td>-0.058381272</td><td> 0.117376182</td></tr>\n",
              "\t<tr><th scope=row>Y _||_ Z2 | X1, X2, X3</th><td> 0.0295398257</td><td>5.113439e-01</td><td>-0.058567469</td><td> 0.117191905</td></tr>\n",
              "\t<tr><th scope=row>Y _||_ Z2 | D, X2, X3</th><td> 0.0588903492</td><td>1.900539e-01</td><td>-0.029216063</td><td> 0.146093201</td></tr>\n",
              "\t<tr><th scope=row>Y _||_ Z2 | M, X2, X3</th><td> 0.0262425781</td><td>5.596211e-01</td><td>-0.061855335</td><td> 0.113935964</td></tr>\n",
              "\t<tr><th scope=row>Z1 _||_ Z2</th><td>-0.0583287505</td><td>1.929747e-01</td><td>-0.145280612</td><td> 0.029512793</td></tr>\n",
              "</tbody>\n",
              "</table>\n"
            ],
            "text/markdown": "\nA data.frame: 43 × 4\n\n| <!--/--> | estimate &lt;dbl&gt; | p.value &lt;dbl&gt; | 2.5% &lt;dbl&gt; | 97.5% &lt;dbl&gt; |\n|---|---|---|---|---|\n| D _||_ X3 | Z2 |  0.3087453088 | 1.177499e-12 |  0.227163124 |  0.386665999 |\n| D _||_ X3 | X2, Z1 |  0.3706635903 | 4.760085e-18 |  0.292464135 |  0.445311849 |\n| D _||_ X3 | X1, X2 |  0.3673586426 | 1.000752e-17 |  0.288952541 |  0.442191140 |\n| D _||_ Y | M, X2, X3 |  0.6805141653 | 5.287228e-76 |  0.638289260 |  0.742809147 |\n| D _||_ Y | M, X2, Z2 |  0.7219037133 | 2.811103e-91 |  0.688862902 |  0.785294217 |\n| D _||_ Y | M, X2, Z1 |  0.7373462493 | 7.188066e-98 |  0.708230058 |  0.801542632 |\n| D _||_ Y | M, X1, X2 |  0.7375961760 | 5.562694e-98 |  0.708546047 |  0.801807675 |\n| D _||_ Z1 | X1, X2 |  0.0110743319 | 8.053738e-01 | -0.076867294 |  0.098845431 |\n| D _||_ Z2 | X2, Z1 | -0.2103799291 | 2.018067e-06 | -0.292981478 | -0.124822666 |\n| D _||_ Z2 | X1, X2 | -0.2108227876 | 1.917626e-06 | -0.293406182 | -0.125278869 |\n| M _||_ X1 | D | -0.0074622756 | 8.680028e-01 | -0.095178940 |  0.080369079 |\n| M _||_ X2 | D | -0.0173750382 | 6.987566e-01 | -0.104994247 |  0.070511105 |\n| M _||_ X3 | Z2 |  0.0051461823 | 9.087527e-01 | -0.082669906 |  0.092883174 |\n| M _||_ X3 | X2, Z1 |  0.0174243837 | 6.982326e-01 | -0.070550397 |  0.105130937 |\n| M _||_ X3 | X1, X2 |  0.0199141828 | 6.576781e-01 | -0.068071676 |  0.107593533 |\n| M _||_ X3 | D |  0.1264473590 | 4.636343e-03 |  0.039102895 |  0.211903088 |\n| M _||_ Z1 | X1, X2 |  0.0118524872 | 7.920007e-01 | -0.076093580 |  0.099616050 |\n| M _||_ Z1 | D |  0.0056981395 | 8.990156e-01 | -0.082121672 |  0.093430371 |\n| M _||_ Z2 | X2, Z1 | -0.0254828737 | 5.706592e-01 | -0.113097530 |  0.062523837 |\n| M _||_ Z2 | X1, X2 | -0.0264340643 | 5.563592e-01 | -0.114037138 |  0.061575665 |\n| M _||_ Z2 | D | -0.0861678839 | 5.437706e-02 | -0.172650900 |  0.001622878 |\n| X1 _||_ X2 | Z1 | -0.0412746793 | 3.577017e-01 | -0.128589647 |  0.046672919 |\n| X1 _||_ X3 |  0.0887738039 | 4.722217e-02 |  0.001091715 |  0.175112383 |\n| X1 _||_ Y | M, X2, X3 | -0.0228538758 | 6.114244e-01 | -0.110587771 |  0.065232408 |\n| X1 _||_ Y | M, X2, Z2 |  0.0159540451 | 7.228694e-01 | -0.072102342 |  0.103764325 |\n| X1 _||_ Y | M, X2, Z1 |  0.0191178971 | 6.708598e-01 | -0.068953233 |  0.106894169 |\n| X1 _||_ Y | D, X2, X3 | -0.0689983362 | 1.245371e-01 | -0.156012862 |  0.019072491 |\n| X1 _||_ Y | D, X2, Z2 | -0.0454083747 | 3.125211e-01 | -0.132835708 |  0.042717324 |\n| X1 _||_ Y | D, X2, Z1 | -0.0331338209 | 4.613014e-01 | -0.120738758 |  0.054981525 |\n| X1 _||_ Z2 | -0.0410745553 | 3.595563e-01 | -0.128305345 |  0.046784558 |\n| X2 _||_ X3 | Z2 | -0.0320401980 | 4.753426e-01 | -0.119484278 |  0.055895528 |\n| X3 _||_ Z1 |  0.0243350126 | 5.873917e-01 | -0.063491131 |  0.111788221 |\n| Y _||_ Z1 | X1, X2, Z2 | -0.0118177691 | 7.928009e-01 | -0.099669908 |  0.076216705 |\n| Y _||_ Z1 | D, X2, Z2 | -0.0339365083 | 4.505092e-01 | -0.121530615 |  0.054180325 |\n| Y _||_ Z1 | X1, X2, X3 |  0.0112097158 | 8.032379e-01 | -0.076821285 |  0.099067759 |\n| Y _||_ Z1 | D, X2, X3 | -0.0360099737 | 4.233008e-01 | -0.123575595 |  0.052110179 |\n| Y _||_ Z1 | M, X2, Z2 |  0.0002555337 | 9.954684e-01 | -0.087701865 |  0.088208988 |\n| Y _||_ Z1 | M, X2, X3 | -0.0007791021 | 9.861842e-01 | -0.088728470 |  0.087182289 |\n| Y _||_ Z2 | X2, X3, Z1 |  0.0297264966 | 5.086770e-01 | -0.058381272 |  0.117376182 |\n| Y _||_ Z2 | X1, X2, X3 |  0.0295398257 | 5.113439e-01 | -0.058567469 |  0.117191905 |\n| Y _||_ Z2 | D, X2, X3 |  0.0588903492 | 1.900539e-01 | -0.029216063 |  0.146093201 |\n| Y _||_ Z2 | M, X2, X3 |  0.0262425781 | 5.596211e-01 | -0.061855335 |  0.113935964 |\n| Z1 _||_ Z2 | -0.0583287505 | 1.929747e-01 | -0.145280612 |  0.029512793 |\n\n",
            "text/latex": "A data.frame: 43 × 4\n\\begin{tabular}{r|llll}\n  & estimate & p.value & 2.5\\% & 97.5\\%\\\\\n  & <dbl> & <dbl> & <dbl> & <dbl>\\\\\n\\hline\n\tD \\_\\textbar{}\\textbar{}\\_ X3 \\textbar{} Z2 &  0.3087453088 & 1.177499e-12 &  0.227163124 &  0.386665999\\\\\n\tD \\_\\textbar{}\\textbar{}\\_ X3 \\textbar{} X2, Z1 &  0.3706635903 & 4.760085e-18 &  0.292464135 &  0.445311849\\\\\n\tD \\_\\textbar{}\\textbar{}\\_ X3 \\textbar{} X1, X2 &  0.3673586426 & 1.000752e-17 &  0.288952541 &  0.442191140\\\\\n\tD \\_\\textbar{}\\textbar{}\\_ Y \\textbar{} M, X2, X3 &  0.6805141653 & 5.287228e-76 &  0.638289260 &  0.742809147\\\\\n\tD \\_\\textbar{}\\textbar{}\\_ Y \\textbar{} M, X2, Z2 &  0.7219037133 & 2.811103e-91 &  0.688862902 &  0.785294217\\\\\n\tD \\_\\textbar{}\\textbar{}\\_ Y \\textbar{} M, X2, Z1 &  0.7373462493 & 7.188066e-98 &  0.708230058 &  0.801542632\\\\\n\tD \\_\\textbar{}\\textbar{}\\_ Y \\textbar{} M, X1, X2 &  0.7375961760 & 5.562694e-98 &  0.708546047 &  0.801807675\\\\\n\tD \\_\\textbar{}\\textbar{}\\_ Z1 \\textbar{} X1, X2 &  0.0110743319 & 8.053738e-01 & -0.076867294 &  0.098845431\\\\\n\tD \\_\\textbar{}\\textbar{}\\_ Z2 \\textbar{} X2, Z1 & -0.2103799291 & 2.018067e-06 & -0.292981478 & -0.124822666\\\\\n\tD \\_\\textbar{}\\textbar{}\\_ Z2 \\textbar{} X1, X2 & -0.2108227876 & 1.917626e-06 & -0.293406182 & -0.125278869\\\\\n\tM \\_\\textbar{}\\textbar{}\\_ X1 \\textbar{} D & -0.0074622756 & 8.680028e-01 & -0.095178940 &  0.080369079\\\\\n\tM \\_\\textbar{}\\textbar{}\\_ X2 \\textbar{} D & -0.0173750382 & 6.987566e-01 & -0.104994247 &  0.070511105\\\\\n\tM \\_\\textbar{}\\textbar{}\\_ X3 \\textbar{} Z2 &  0.0051461823 & 9.087527e-01 & -0.082669906 &  0.092883174\\\\\n\tM \\_\\textbar{}\\textbar{}\\_ X3 \\textbar{} X2, Z1 &  0.0174243837 & 6.982326e-01 & -0.070550397 &  0.105130937\\\\\n\tM \\_\\textbar{}\\textbar{}\\_ X3 \\textbar{} X1, X2 &  0.0199141828 & 6.576781e-01 & -0.068071676 &  0.107593533\\\\\n\tM \\_\\textbar{}\\textbar{}\\_ X3 \\textbar{} D &  0.1264473590 & 4.636343e-03 &  0.039102895 &  0.211903088\\\\\n\tM \\_\\textbar{}\\textbar{}\\_ Z1 \\textbar{} X1, X2 &  0.0118524872 & 7.920007e-01 & -0.076093580 &  0.099616050\\\\\n\tM \\_\\textbar{}\\textbar{}\\_ Z1 \\textbar{} D &  0.0056981395 & 8.990156e-01 & -0.082121672 &  0.093430371\\\\\n\tM \\_\\textbar{}\\textbar{}\\_ Z2 \\textbar{} X2, Z1 & -0.0254828737 & 5.706592e-01 & -0.113097530 &  0.062523837\\\\\n\tM \\_\\textbar{}\\textbar{}\\_ Z2 \\textbar{} X1, X2 & -0.0264340643 & 5.563592e-01 & -0.114037138 &  0.061575665\\\\\n\tM \\_\\textbar{}\\textbar{}\\_ Z2 \\textbar{} D & -0.0861678839 & 5.437706e-02 & -0.172650900 &  0.001622878\\\\\n\tX1 \\_\\textbar{}\\textbar{}\\_ X2 \\textbar{} Z1 & -0.0412746793 & 3.577017e-01 & -0.128589647 &  0.046672919\\\\\n\tX1 \\_\\textbar{}\\textbar{}\\_ X3 &  0.0887738039 & 4.722217e-02 &  0.001091715 &  0.175112383\\\\\n\tX1 \\_\\textbar{}\\textbar{}\\_ Y \\textbar{} M, X2, X3 & -0.0228538758 & 6.114244e-01 & -0.110587771 &  0.065232408\\\\\n\tX1 \\_\\textbar{}\\textbar{}\\_ Y \\textbar{} M, X2, Z2 &  0.0159540451 & 7.228694e-01 & -0.072102342 &  0.103764325\\\\\n\tX1 \\_\\textbar{}\\textbar{}\\_ Y \\textbar{} M, X2, Z1 &  0.0191178971 & 6.708598e-01 & -0.068953233 &  0.106894169\\\\\n\tX1 \\_\\textbar{}\\textbar{}\\_ Y \\textbar{} D, X2, X3 & -0.0689983362 & 1.245371e-01 & -0.156012862 &  0.019072491\\\\\n\tX1 \\_\\textbar{}\\textbar{}\\_ Y \\textbar{} D, X2, Z2 & -0.0454083747 & 3.125211e-01 & -0.132835708 &  0.042717324\\\\\n\tX1 \\_\\textbar{}\\textbar{}\\_ Y \\textbar{} D, X2, Z1 & -0.0331338209 & 4.613014e-01 & -0.120738758 &  0.054981525\\\\\n\tX1 \\_\\textbar{}\\textbar{}\\_ Z2 & -0.0410745553 & 3.595563e-01 & -0.128305345 &  0.046784558\\\\\n\tX2 \\_\\textbar{}\\textbar{}\\_ X3 \\textbar{} Z2 & -0.0320401980 & 4.753426e-01 & -0.119484278 &  0.055895528\\\\\n\tX3 \\_\\textbar{}\\textbar{}\\_ Z1 &  0.0243350126 & 5.873917e-01 & -0.063491131 &  0.111788221\\\\\n\tY \\_\\textbar{}\\textbar{}\\_ Z1 \\textbar{} X1, X2, Z2 & -0.0118177691 & 7.928009e-01 & -0.099669908 &  0.076216705\\\\\n\tY \\_\\textbar{}\\textbar{}\\_ Z1 \\textbar{} D, X2, Z2 & -0.0339365083 & 4.505092e-01 & -0.121530615 &  0.054180325\\\\\n\tY \\_\\textbar{}\\textbar{}\\_ Z1 \\textbar{} X1, X2, X3 &  0.0112097158 & 8.032379e-01 & -0.076821285 &  0.099067759\\\\\n\tY \\_\\textbar{}\\textbar{}\\_ Z1 \\textbar{} D, X2, X3 & -0.0360099737 & 4.233008e-01 & -0.123575595 &  0.052110179\\\\\n\tY \\_\\textbar{}\\textbar{}\\_ Z1 \\textbar{} M, X2, Z2 &  0.0002555337 & 9.954684e-01 & -0.087701865 &  0.088208988\\\\\n\tY \\_\\textbar{}\\textbar{}\\_ Z1 \\textbar{} M, X2, X3 & -0.0007791021 & 9.861842e-01 & -0.088728470 &  0.087182289\\\\\n\tY \\_\\textbar{}\\textbar{}\\_ Z2 \\textbar{} X2, X3, Z1 &  0.0297264966 & 5.086770e-01 & -0.058381272 &  0.117376182\\\\\n\tY \\_\\textbar{}\\textbar{}\\_ Z2 \\textbar{} X1, X2, X3 &  0.0295398257 & 5.113439e-01 & -0.058567469 &  0.117191905\\\\\n\tY \\_\\textbar{}\\textbar{}\\_ Z2 \\textbar{} D, X2, X3 &  0.0588903492 & 1.900539e-01 & -0.029216063 &  0.146093201\\\\\n\tY \\_\\textbar{}\\textbar{}\\_ Z2 \\textbar{} M, X2, X3 &  0.0262425781 & 5.596211e-01 & -0.061855335 &  0.113935964\\\\\n\tZ1 \\_\\textbar{}\\textbar{}\\_ Z2 & -0.0583287505 & 1.929747e-01 & -0.145280612 &  0.029512793\\\\\n\\end{tabular}\n",
            "text/plain": [
              "                       estimate      p.value      2.5%         97.5%       \n",
              "D _||_ X3 | Z2          0.3087453088 1.177499e-12  0.227163124  0.386665999\n",
              "D _||_ X3 | X2, Z1      0.3706635903 4.760085e-18  0.292464135  0.445311849\n",
              "D _||_ X3 | X1, X2      0.3673586426 1.000752e-17  0.288952541  0.442191140\n",
              "D _||_ Y | M, X2, X3    0.6805141653 5.287228e-76  0.638289260  0.742809147\n",
              "D _||_ Y | M, X2, Z2    0.7219037133 2.811103e-91  0.688862902  0.785294217\n",
              "D _||_ Y | M, X2, Z1    0.7373462493 7.188066e-98  0.708230058  0.801542632\n",
              "D _||_ Y | M, X1, X2    0.7375961760 5.562694e-98  0.708546047  0.801807675\n",
              "D _||_ Z1 | X1, X2      0.0110743319 8.053738e-01 -0.076867294  0.098845431\n",
              "D _||_ Z2 | X2, Z1     -0.2103799291 2.018067e-06 -0.292981478 -0.124822666\n",
              "D _||_ Z2 | X1, X2     -0.2108227876 1.917626e-06 -0.293406182 -0.125278869\n",
              "M _||_ X1 | D          -0.0074622756 8.680028e-01 -0.095178940  0.080369079\n",
              "M _||_ X2 | D          -0.0173750382 6.987566e-01 -0.104994247  0.070511105\n",
              "M _||_ X3 | Z2          0.0051461823 9.087527e-01 -0.082669906  0.092883174\n",
              "M _||_ X3 | X2, Z1      0.0174243837 6.982326e-01 -0.070550397  0.105130937\n",
              "M _||_ X3 | X1, X2      0.0199141828 6.576781e-01 -0.068071676  0.107593533\n",
              "M _||_ X3 | D           0.1264473590 4.636343e-03  0.039102895  0.211903088\n",
              "M _||_ Z1 | X1, X2      0.0118524872 7.920007e-01 -0.076093580  0.099616050\n",
              "M _||_ Z1 | D           0.0056981395 8.990156e-01 -0.082121672  0.093430371\n",
              "M _||_ Z2 | X2, Z1     -0.0254828737 5.706592e-01 -0.113097530  0.062523837\n",
              "M _||_ Z2 | X1, X2     -0.0264340643 5.563592e-01 -0.114037138  0.061575665\n",
              "M _||_ Z2 | D          -0.0861678839 5.437706e-02 -0.172650900  0.001622878\n",
              "X1 _||_ X2 | Z1        -0.0412746793 3.577017e-01 -0.128589647  0.046672919\n",
              "X1 _||_ X3              0.0887738039 4.722217e-02  0.001091715  0.175112383\n",
              "X1 _||_ Y | M, X2, X3  -0.0228538758 6.114244e-01 -0.110587771  0.065232408\n",
              "X1 _||_ Y | M, X2, Z2   0.0159540451 7.228694e-01 -0.072102342  0.103764325\n",
              "X1 _||_ Y | M, X2, Z1   0.0191178971 6.708598e-01 -0.068953233  0.106894169\n",
              "X1 _||_ Y | D, X2, X3  -0.0689983362 1.245371e-01 -0.156012862  0.019072491\n",
              "X1 _||_ Y | D, X2, Z2  -0.0454083747 3.125211e-01 -0.132835708  0.042717324\n",
              "X1 _||_ Y | D, X2, Z1  -0.0331338209 4.613014e-01 -0.120738758  0.054981525\n",
              "X1 _||_ Z2             -0.0410745553 3.595563e-01 -0.128305345  0.046784558\n",
              "X2 _||_ X3 | Z2        -0.0320401980 4.753426e-01 -0.119484278  0.055895528\n",
              "X3 _||_ Z1              0.0243350126 5.873917e-01 -0.063491131  0.111788221\n",
              "Y _||_ Z1 | X1, X2, Z2 -0.0118177691 7.928009e-01 -0.099669908  0.076216705\n",
              "Y _||_ Z1 | D, X2, Z2  -0.0339365083 4.505092e-01 -0.121530615  0.054180325\n",
              "Y _||_ Z1 | X1, X2, X3  0.0112097158 8.032379e-01 -0.076821285  0.099067759\n",
              "Y _||_ Z1 | D, X2, X3  -0.0360099737 4.233008e-01 -0.123575595  0.052110179\n",
              "Y _||_ Z1 | M, X2, Z2   0.0002555337 9.954684e-01 -0.087701865  0.088208988\n",
              "Y _||_ Z1 | M, X2, X3  -0.0007791021 9.861842e-01 -0.088728470  0.087182289\n",
              "Y _||_ Z2 | X2, X3, Z1  0.0297264966 5.086770e-01 -0.058381272  0.117376182\n",
              "Y _||_ Z2 | X1, X2, X3  0.0295398257 5.113439e-01 -0.058567469  0.117191905\n",
              "Y _||_ Z2 | D, X2, X3   0.0588903492 1.900539e-01 -0.029216063  0.146093201\n",
              "Y _||_ Z2 | M, X2, X3   0.0262425781 5.596211e-01 -0.061855335  0.113935964\n",
              "Z1 _||_ Z2             -0.0583287505 1.929747e-01 -0.145280612  0.029512793"
            ]
          },
          "metadata": {}
        }
      ]
    },
    {
      "cell_type": "markdown",
      "source": [],
      "metadata": {
        "id": "kscjgNJ4YNvX"
      }
    },
    {
      "cell_type": "markdown",
      "source": [
        "# Identification by Backdoor: List minimal adjustment sets to identify causal effecs $D \\to Y$"
      ],
      "metadata": {
        "id": "FW68O7ChYNvX"
      }
    },
    {
      "cell_type": "code",
      "source": [
        "print( adjustmentSets( G, \"D\", \"Y\" ) )"
      ],
      "metadata": {
        "trusted": true,
        "id": "MtVrEB5WYNvX"
      },
      "execution_count": null,
      "outputs": []
    },
    {
      "cell_type": "markdown",
      "source": [
        "# Identification via SWIG and D-separation"
      ],
      "metadata": {
        "id": "GN1EsIJ3YNvX"
      }
    },
    {
      "cell_type": "code",
      "source": [
        "SWIG = dagitty('dag{\n",
        "Z1 [pos=\"-2,-1.5\"]\n",
        "X1 [pos=\"-2,0\"]\n",
        "Z2 [pos=\"1.5,-1.5\"]\n",
        "X3 [pos=\"1.5, 0\"]\n",
        "Yd [outcome,pos=\"1.5,1.5\"]\n",
        "D [exposure,pos=\"-2,1.5\"]\n",
        "d [pos=\"-1, 1.5\"]\n",
        "Md [mediator, pos=\"0,1.5\"]\n",
        "X2 [pos=\"0,0\"]\n",
        "Z1 -> X1\n",
        "X1 -> D\n",
        "Z1 -> X2\n",
        "Z2 -> X3\n",
        "X3 -> Yd\n",
        "Z2 -> X2\n",
        "X2 -> Yd\n",
        "X2 -> D\n",
        "X3-> Yd\n",
        "Md-> Yd\n",
        "d-> Md\n",
        "}')\n",
        "\n",
        "ggdag(SWIG)+  theme_dag()\n"
      ],
      "metadata": {
        "trusted": true,
        "id": "1GtzLG4TYNvX"
      },
      "execution_count": null,
      "outputs": []
    },
    {
      "cell_type": "markdown",
      "source": [
        "\n",
        "# Deduce Conditional Exogeneity or Ignorability by D-separation\n"
      ],
      "metadata": {
        "id": "Pdf6ISCwYNvY"
      }
    },
    {
      "cell_type": "code",
      "source": [
        "paths(SWIG, \"D\", \"Yd\")"
      ],
      "metadata": {
        "trusted": true,
        "id": "LV81wVi7YNvY"
      },
      "execution_count": null,
      "outputs": []
    },
    {
      "cell_type": "code",
      "source": [
        "print( impliedConditionalIndependencies(SWIG)[5:8] )\n"
      ],
      "metadata": {
        "trusted": true,
        "id": "7KA7EJOAYNvY"
      },
      "execution_count": null,
      "outputs": []
    },
    {
      "cell_type": "code",
      "source": [
        "x.R = x\n",
        "x.R$D = (x$D+ x$Y)/2\n",
        "\n",
        "localTests(G, data = x.R, type = c(\"cis\"))\n",
        "\n"
      ],
      "metadata": {
        "trusted": true,
        "id": "MyOVvTxkYNvZ"
      },
      "execution_count": null,
      "outputs": []
    },
    {
      "cell_type": "markdown",
      "source": [
        "* # Print All Average Treament Effects Identifiable by Conditioning"
      ],
      "metadata": {
        "id": "i1Pi-zEGYNvZ"
      }
    },
    {
      "cell_type": "code",
      "source": [
        "for( n in names(G) ){\n",
        "    for( m in children(G,n) ){\n",
        "        a <- adjustmentSets( G, n, m )\n",
        "        if( length(a) > 0 ){\n",
        "            cat(\"The effect \",n,\"->\",m,\n",
        "                \" is identifiable by controlling for:\\n\",sep=\"\")\n",
        "            print( a, prefix=\" * \" )\n",
        "        }\n",
        "    }\n",
        "}"
      ],
      "metadata": {
        "trusted": true,
        "id": "s7kgiNicYNvZ"
      },
      "execution_count": null,
      "outputs": []
    },
    {
      "cell_type": "markdown",
      "source": [
        "# Equivalence Classes"
      ],
      "metadata": {
        "id": "00bywdO1YNvZ"
      }
    },
    {
      "cell_type": "code",
      "source": [
        "P=equivalenceClass(G)\n",
        "plot(P)\n",
        "#equivalentDAGs(G,10)"
      ],
      "metadata": {
        "trusted": true,
        "id": "v-9Z3uEtYNvZ"
      },
      "execution_count": null,
      "outputs": []
    },
    {
      "cell_type": "markdown",
      "source": [
        "Next Consider the elemntary Triangular Model:\n",
        "$$\n",
        "D \\to Y, \\quad X \\to (D,Y).\n",
        "$$\n",
        "This model has not testable implications and is Markov-equivalent to any other DAG difined on names $(X, D, Y)$."
      ],
      "metadata": {
        "id": "aTVeeD6WYNvZ"
      }
    },
    {
      "cell_type": "code",
      "source": [
        "G3<- dagitty('dag{\n",
        "D -> Y\n",
        "X -> D\n",
        "X -> Y\n",
        "}\n",
        "')\n",
        "\n",
        "ggdag(G3)+  theme_dag()\n",
        "\n",
        "print(impliedConditionalIndependencies(G3))\n",
        "\n"
      ],
      "metadata": {
        "trusted": true,
        "id": "cl-0LphFYNva"
      },
      "execution_count": null,
      "outputs": []
    },
    {
      "cell_type": "code",
      "source": [
        "P=equivalenceClass(G3)\n",
        "plot(P)\n",
        "equivalentDAGs(G3,10)\n",
        "\n"
      ],
      "metadata": {
        "trusted": true,
        "id": "HT0SANpMYNva"
      },
      "execution_count": null,
      "outputs": []
    },
    {
      "cell_type": "markdown",
      "source": [
        "# Falsifiability\n",
        "\n",
        "See Testing Validity of DAGs above.\n"
      ],
      "metadata": {
        "id": "Qn0DqWYdYNva"
      }
    }
  ]
}